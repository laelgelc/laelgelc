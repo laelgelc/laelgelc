{
 "cells": [
  {
   "cell_type": "markdown",
   "id": "810d9f10-ec19-4b09-8f90-e983e460b319",
   "metadata": {
    "jp-MarkdownHeadingCollapsed": true
   },
   "source": [
    "<center>\n",
    "<img src=\"https://laelgelcpublic.s3.sa-east-1.amazonaws.com/lael_50_years_narrow_white.png.no_years.400px_96dpi.png\" width=\"300\" alt=\"LAEL 50 years logo\">\n",
    "<h3>APPLIED LINGUISTICS GRADUATE PROGRAMME (LAEL)</h3>\n",
    "</center>\n",
    "<hr>"
   ]
  },
  {
   "cell_type": "markdown",
   "id": "888c2c96-2fc3-4a1a-995b-c388036a2a15",
   "metadata": {},
   "source": [
    "# Extracting text from WebVTT caption files with `webvtt-py`"
   ]
  },
  {
   "cell_type": "markdown",
   "id": "7a9c2af7-9fc1-4f51-a4f5-2ed915b93039",
   "metadata": {},
   "source": [
    "## What is WebVTT?"
   ]
  },
  {
   "cell_type": "markdown",
   "id": "a9df293a-41a0-4f7e-9cd0-2b8ec2a3fc43",
   "metadata": {},
   "source": [
    "The **Web Video Text Tracks Format (WebVTT)** is a format for displaying timed text tracks (such as subtitles or captions) using the HTML <track> element.\n",
    "\n",
    "Please refer to:\n",
    "- [Web Video Text Tracks Format (WebVTT)](https://developer.mozilla.org/en-US/docs/Web/API/WebVTT_API)\n",
    "- [WebVTT: The Web Video Text Tracks Format](https://www.w3.org/TR/webvtt1/)"
   ]
  },
  {
   "cell_type": "markdown",
   "id": "8b051534-372e-4bea-ad79-60944cb13ac7",
   "metadata": {},
   "source": [
    "## Prerequisites"
   ]
  },
  {
   "cell_type": "markdown",
   "id": "980d3509-69ab-484f-89ef-89aa297d56b1",
   "metadata": {},
   "source": [
    "### WebVTT"
   ]
  },
  {
   "cell_type": "markdown",
   "id": "17b9fb9d-5198-4803-9d51-6107defbfc62",
   "metadata": {},
   "source": [
    "`webvtt-py` is a Python package for reading/writing WebVTT caption files.\n",
    "\n",
    "Please refer to:\n",
    "- [webvtt-py](https://pypi.org/project/webvtt-py/)"
   ]
  },
  {
   "cell_type": "markdown",
   "id": "ffa19184-30ad-4883-9d2d-d968de274237",
   "metadata": {},
   "source": [
    "### Picking up a few `.vtt` files for testing"
   ]
  },
  {
   "cell_type": "markdown",
   "id": "9c2b5c58-802e-4861-a336-402e285648cf",
   "metadata": {},
   "source": [
    "Copy the following files to the directory where this Jupyter Notebook is being executed:\n",
    "- `023 - EU PROVO! O BRASIL VIVE UMA DITADURA.pt.vtt`\n",
    "- `290 - PREPARE-SE PARA VIVER COM DEUS ETERNAMENTE ｜ SILAS MALAFAIA – MOTIVACIONAL.pt.vtt`"
   ]
  },
  {
   "cell_type": "markdown",
   "id": "cd1c097b-9697-4884-8250-9d1992fd2f75",
   "metadata": {},
   "source": [
    "## Installing `webvtt-py` on Anacoda Distribution"
   ]
  },
  {
   "cell_type": "markdown",
   "id": "deec59f6-29b0-41b2-983a-c7017253ec17",
   "metadata": {},
   "source": [
    "As `webvtt-py` is not available in any of the conda channels, the following procedure should be followed on `Anaconda Prompt` to install it in the required environment, in this case `Env20240401`:"
   ]
  },
  {
   "cell_type": "markdown",
   "id": "81581a84-433b-4733-9196-14777f089116",
   "metadata": {},
   "source": [
    "Note: You have to download and open this Jupyter Notebook on JupyterLab (provided as part of Anaconda Distribution) to visualise the procedure."
   ]
  },
  {
   "cell_type": "raw",
   "id": "352595c8-5ccc-474a-b933-526f171f87b3",
   "metadata": {},
   "source": [
    "(base) C:\\Users\\eyamr>conda env list\n",
    "# conda environments:\n",
    "#\n",
    "base                  *  C:\\Users\\eyamr\\anaconda3\n",
    "Env20240401              C:\\Users\\eyamr\\anaconda3\\envs\\Env20240401\n",
    "\n",
    "\n",
    "(base) C:\\Users\\eyamr>conda activate Env20240401\n",
    "\n",
    "(Env20240401) C:\\Users\\eyamr>pip3 install webvtt-py\n",
    "<omitted>\n",
    "\n",
    "(Env20240401) C:\\Users\\eyamr>pip3 freeze\n",
    "<omitted>\n",
    "webvtt-py==0.5.0\n",
    "<omitted>\n",
    "\n",
    "(Env20240401) C:\\Users\\eyamr>conda deactivate\n",
    "\n",
    "(base) C:\\Users\\eyamr>"
   ]
  },
  {
   "cell_type": "markdown",
   "id": "fc84e318-ec63-4f09-9de6-94809b18e120",
   "metadata": {},
   "source": [
    "## Importing the required libraries"
   ]
  },
  {
   "cell_type": "code",
   "execution_count": 1,
   "id": "1559216e-5f5a-4551-acbe-597306b16466",
   "metadata": {},
   "outputs": [],
   "source": [
    "import webvtt\n",
    "import pandas as pd"
   ]
  },
  {
   "cell_type": "markdown",
   "id": "7b9ab8c9-9f30-4885-94e8-d7576117f473",
   "metadata": {},
   "source": [
    "## Extracting text"
   ]
  },
  {
   "cell_type": "code",
   "execution_count": 2,
   "id": "50932581-ac88-49a0-bedf-4c6241689e1e",
   "metadata": {},
   "outputs": [],
   "source": [
    "# Defining the input and output files\n",
    "webvtt_file = '023 - EU PROVO! O BRASIL VIVE UMA DITADURA.pt.vtt'\n",
    "caption_file = '023 - EU PROVO! O BRASIL VIVE UMA DITADURA.pt.txt'\n",
    "#webvtt_file = '290 - PREPARE-SE PARA VIVER COM DEUS ETERNAMENTE ｜ SILAS MALAFAIA – MOTIVACIONAL.pt.vtt'\n",
    "#caption_file = '290 - PREPARE-SE PARA VIVER COM DEUS ETERNAMENTE ｜ SILAS MALAFAIA – MOTIVACIONAL.pt.txt'\n",
    "\n",
    "vtt = webvtt.read(webvtt_file)\n",
    "\n",
    "# Writing the text of the caption to the output file\n",
    "with open(caption_file, 'w', encoding='utf-8') as f:\n",
    "    f.write('text' + '\\n') # Includes the header that will be used in the dataframe\n",
    "    for caption in vtt:\n",
    "        f.write(caption.text + '\\n')"
   ]
  },
  {
   "cell_type": "code",
   "execution_count": 3,
   "id": "eaa99720-11b8-45db-b2ea-5e47f509c7fd",
   "metadata": {},
   "outputs": [],
   "source": [
    "df = pd.read_table(caption_file)"
   ]
  },
  {
   "cell_type": "code",
   "execution_count": 4,
   "id": "484359f0-e789-48eb-9a71-937bd35765b9",
   "metadata": {},
   "outputs": [
    {
     "data": {
      "text/plain": [
       "text    object\n",
       "dtype: object"
      ]
     },
     "execution_count": 4,
     "metadata": {},
     "output_type": "execute_result"
    }
   ],
   "source": [
    "df.dtypes"
   ]
  },
  {
   "cell_type": "code",
   "execution_count": 5,
   "id": "6813b029-678f-47b4-b89d-aff96aaa4cc8",
   "metadata": {},
   "outputs": [
    {
     "data": {
      "text/html": [
       "<div>\n",
       "<style scoped>\n",
       "    .dataframe tbody tr th:only-of-type {\n",
       "        vertical-align: middle;\n",
       "    }\n",
       "\n",
       "    .dataframe tbody tr th {\n",
       "        vertical-align: top;\n",
       "    }\n",
       "\n",
       "    .dataframe thead th {\n",
       "        text-align: right;\n",
       "    }\n",
       "</style>\n",
       "<table border=\"1\" class=\"dataframe\">\n",
       "  <thead>\n",
       "    <tr style=\"text-align: right;\">\n",
       "      <th></th>\n",
       "      <th>text</th>\n",
       "    </tr>\n",
       "  </thead>\n",
       "  <tbody>\n",
       "    <tr>\n",
       "      <th>0</th>\n",
       "      <td>povo abençoado no Brasil nesse vídeo eu</td>\n",
       "    </tr>\n",
       "    <tr>\n",
       "      <th>1</th>\n",
       "      <td>povo abençoado no Brasil nesse vídeo eu</td>\n",
       "    </tr>\n",
       "    <tr>\n",
       "      <th>2</th>\n",
       "      <td>vou provar que estamos vivendo uma</td>\n",
       "    </tr>\n",
       "    <tr>\n",
       "      <th>3</th>\n",
       "      <td>vou provar que estamos vivendo uma</td>\n",
       "    </tr>\n",
       "    <tr>\n",
       "      <th>4</th>\n",
       "      <td>vou provar que estamos vivendo uma</td>\n",
       "    </tr>\n",
       "    <tr>\n",
       "      <th>...</th>\n",
       "      <td>...</td>\n",
       "    </tr>\n",
       "    <tr>\n",
       "      <th>334</th>\n",
       "      <td>[Aplausos]</td>\n",
       "    </tr>\n",
       "    <tr>\n",
       "      <th>335</th>\n",
       "      <td>[Música]</td>\n",
       "    </tr>\n",
       "    <tr>\n",
       "      <th>336</th>\n",
       "      <td>[Música]</td>\n",
       "    </tr>\n",
       "    <tr>\n",
       "      <th>337</th>\n",
       "      <td>[Música]</td>\n",
       "    </tr>\n",
       "    <tr>\n",
       "      <th>338</th>\n",
       "      <td>dito</td>\n",
       "    </tr>\n",
       "  </tbody>\n",
       "</table>\n",
       "<p>339 rows × 1 columns</p>\n",
       "</div>"
      ],
      "text/plain": [
       "                                        text\n",
       "0    povo abençoado no Brasil nesse vídeo eu\n",
       "1    povo abençoado no Brasil nesse vídeo eu\n",
       "2         vou provar que estamos vivendo uma\n",
       "3         vou provar que estamos vivendo uma\n",
       "4         vou provar que estamos vivendo uma\n",
       "..                                       ...\n",
       "334                               [Aplausos]\n",
       "335                                 [Música]\n",
       "336                                 [Música]\n",
       "337                                 [Música]\n",
       "338                                     dito\n",
       "\n",
       "[339 rows x 1 columns]"
      ]
     },
     "execution_count": 5,
     "metadata": {},
     "output_type": "execute_result"
    }
   ],
   "source": [
    "df"
   ]
  },
  {
   "cell_type": "markdown",
   "id": "9a6aea01-9ae0-46c0-9ee6-b4f8cf681a49",
   "metadata": {},
   "source": [
    "### Identifying rows that are empty in column `text`"
   ]
  },
  {
   "cell_type": "code",
   "execution_count": 6,
   "id": "a81f3f48-7b20-4e3e-8ae8-3075f8ad6c5e",
   "metadata": {},
   "outputs": [
    {
     "name": "stdout",
     "output_type": "stream",
     "text": [
      "0\n"
     ]
    }
   ],
   "source": [
    "print(df['text'].isnull().sum())"
   ]
  },
  {
   "cell_type": "markdown",
   "id": "68d0cd0e-6c6f-4dcc-bd4f-8460a0a20636",
   "metadata": {},
   "source": [
    "### Removing duplicates"
   ]
  },
  {
   "cell_type": "code",
   "execution_count": 7,
   "id": "9e2bf9d7-f102-4a4b-a2f3-76154eba4edb",
   "metadata": {},
   "outputs": [],
   "source": [
    "df.drop_duplicates(subset='text', keep='first', inplace=True)\n",
    "df = df.reset_index(drop=True)"
   ]
  },
  {
   "cell_type": "code",
   "execution_count": 8,
   "id": "4095473d-3300-46e9-b6eb-4eda4ab2d657",
   "metadata": {},
   "outputs": [
    {
     "data": {
      "text/html": [
       "<div>\n",
       "<style scoped>\n",
       "    .dataframe tbody tr th:only-of-type {\n",
       "        vertical-align: middle;\n",
       "    }\n",
       "\n",
       "    .dataframe tbody tr th {\n",
       "        vertical-align: top;\n",
       "    }\n",
       "\n",
       "    .dataframe thead th {\n",
       "        text-align: right;\n",
       "    }\n",
       "</style>\n",
       "<table border=\"1\" class=\"dataframe\">\n",
       "  <thead>\n",
       "    <tr style=\"text-align: right;\">\n",
       "      <th></th>\n",
       "      <th>text</th>\n",
       "    </tr>\n",
       "  </thead>\n",
       "  <tbody>\n",
       "    <tr>\n",
       "      <th>0</th>\n",
       "      <td>povo abençoado no Brasil nesse vídeo eu</td>\n",
       "    </tr>\n",
       "    <tr>\n",
       "      <th>1</th>\n",
       "      <td>vou provar que estamos vivendo uma</td>\n",
       "    </tr>\n",
       "    <tr>\n",
       "      <th>2</th>\n",
       "      <td>ditadura e por favor não é ditadura do</td>\n",
       "    </tr>\n",
       "    <tr>\n",
       "      <th>3</th>\n",
       "      <td>Judiciário iso é uma afronta ao</td>\n",
       "    </tr>\n",
       "    <tr>\n",
       "      <th>4</th>\n",
       "      <td>judiciário nem tamp pouco do STF porque</td>\n",
       "    </tr>\n",
       "    <tr>\n",
       "      <th>...</th>\n",
       "      <td>...</td>\n",
       "    </tr>\n",
       "    <tr>\n",
       "      <th>109</th>\n",
       "      <td>Brasil Deus tenha misericórdia e nos</td>\n",
       "    </tr>\n",
       "    <tr>\n",
       "      <th>110</th>\n",
       "      <td>livre desse ditador Tenho</td>\n",
       "    </tr>\n",
       "    <tr>\n",
       "      <th>111</th>\n",
       "      <td>[Aplausos]</td>\n",
       "    </tr>\n",
       "    <tr>\n",
       "      <th>112</th>\n",
       "      <td>[Música]</td>\n",
       "    </tr>\n",
       "    <tr>\n",
       "      <th>113</th>\n",
       "      <td>dito</td>\n",
       "    </tr>\n",
       "  </tbody>\n",
       "</table>\n",
       "<p>114 rows × 1 columns</p>\n",
       "</div>"
      ],
      "text/plain": [
       "                                        text\n",
       "0    povo abençoado no Brasil nesse vídeo eu\n",
       "1         vou provar que estamos vivendo uma\n",
       "2     ditadura e por favor não é ditadura do\n",
       "3            Judiciário iso é uma afronta ao\n",
       "4    judiciário nem tamp pouco do STF porque\n",
       "..                                       ...\n",
       "109     Brasil Deus tenha misericórdia e nos\n",
       "110                livre desse ditador Tenho\n",
       "111                               [Aplausos]\n",
       "112                                 [Música]\n",
       "113                                     dito\n",
       "\n",
       "[114 rows x 1 columns]"
      ]
     },
     "execution_count": 8,
     "metadata": {},
     "output_type": "execute_result"
    }
   ],
   "source": [
    "df"
   ]
  },
  {
   "cell_type": "code",
   "execution_count": 9,
   "id": "6f92fc57-4829-44d4-b7c9-7c6aa9687022",
   "metadata": {},
   "outputs": [
    {
     "name": "stdout",
     "output_type": "stream",
     "text": [
      "Extracted!\n"
     ]
    }
   ],
   "source": [
    "# Creating a single string containing all 'text' values separated by spaces\n",
    "text_line = ' '.join(df['text'])\n",
    "\n",
    "# Rewriting the output file with the single string\n",
    "with open(caption_file, 'w', encoding='utf-8') as f:\n",
    "    f.write(text_line)\n",
    "\n",
    "print('Extracted!')"
   ]
  },
  {
   "cell_type": "markdown",
   "id": "808d69fc-0991-4180-a3d4-893107f1fe7b",
   "metadata": {},
   "source": [
    "## Extracting text - Alternative using a function"
   ]
  },
  {
   "cell_type": "code",
   "execution_count": 11,
   "id": "352508fc-ca1c-4f95-b17c-94e8ae20103e",
   "metadata": {},
   "outputs": [],
   "source": [
    "def extract_caption_text(webvtt_file, caption_file):\n",
    "    vtt = webvtt.read(webvtt_file)\n",
    "    \n",
    "    # Writing the text of the caption to the output file\n",
    "    with open(caption_file, 'w', encoding='utf-8') as f:\n",
    "        f.write('text' + '\\n') # Includes the header that will be used in the dataframe\n",
    "        for caption in vtt:\n",
    "            f.write(caption.text + '\\n')\n",
    "    \n",
    "    # Deduplicating the text of the caption using a dataframe\n",
    "    df = pd.read_table(caption_file)\n",
    "    df.drop_duplicates(subset='text', keep='first', inplace=True)\n",
    "    df = df.reset_index(drop=True)\n",
    "    \n",
    "    # Creating a single string containing all 'text' values separated by spaces\n",
    "    text_line = ' '.join(df['text'])\n",
    "\n",
    "    # Rewriting the output file with the single string\n",
    "    with open(caption_file, 'w', encoding='utf-8') as f:\n",
    "        f.write(text_line)\n",
    "\n",
    "# Defining the input and output files\n",
    "webvtt_file = '023 - EU PROVO! O BRASIL VIVE UMA DITADURA.pt.vtt'\n",
    "caption_file = '023 - EU PROVO! O BRASIL VIVE UMA DITADURA.pt.txt'\n",
    "#webvtt_file = '290 - PREPARE-SE PARA VIVER COM DEUS ETERNAMENTE ｜ SILAS MALAFAIA – MOTIVACIONAL.pt.vtt'\n",
    "#caption_file = '290 - PREPARE-SE PARA VIVER COM DEUS ETERNAMENTE ｜ SILAS MALAFAIA – MOTIVACIONAL.pt.txt'\n",
    "\n",
    "# Extracting text\n",
    "extract_caption_text(webvtt_file, caption_file)"
   ]
  },
  {
   "cell_type": "code",
   "execution_count": null,
   "id": "8ba4e171-99e7-4cdc-be06-bd38703ec56a",
   "metadata": {},
   "outputs": [],
   "source": []
  }
 ],
 "metadata": {
  "kernelspec": {
   "display_name": "Python 3 (ipykernel)",
   "language": "python",
   "name": "python3"
  },
  "language_info": {
   "codemirror_mode": {
    "name": "ipython",
    "version": 3
   },
   "file_extension": ".py",
   "mimetype": "text/x-python",
   "name": "python",
   "nbconvert_exporter": "python",
   "pygments_lexer": "ipython3",
   "version": "3.11.8"
  }
 },
 "nbformat": 4,
 "nbformat_minor": 5
}
