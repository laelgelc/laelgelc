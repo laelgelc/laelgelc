{
 "cells": [
  {
   "cell_type": "markdown",
   "id": "810d9f10-ec19-4b09-8f90-e983e460b319",
   "metadata": {},
   "source": [
    "<center>\n",
    "<img src=\"https://laelgelcpublic.s3.sa-east-1.amazonaws.com/lael_50_years_narrow_white.png.no_years.400px_96dpi.png\" width=\"300\" alt=\"LAEL 50 years logo\">\n",
    "<h3>APPLIED LINGUISTICS GRADUATE PROGRAMME (LAEL)</h3>\n",
    "</center>\n",
    "<hr>"
   ]
  },
  {
   "cell_type": "markdown",
   "id": "888c2c96-2fc3-4a1a-995b-c388036a2a15",
   "metadata": {},
   "source": [
    "# Extracting text from WebVTT caption files with `webvtt-py`"
   ]
  },
  {
   "cell_type": "markdown",
   "id": "7a9c2af7-9fc1-4f51-a4f5-2ed915b93039",
   "metadata": {},
   "source": [
    "## What is WebVTT?"
   ]
  },
  {
   "cell_type": "markdown",
   "id": "a9df293a-41a0-4f7e-9cd0-2b8ec2a3fc43",
   "metadata": {},
   "source": [
    "The **Web Video Text Tracks Format (WebVTT)** is a format for displaying timed text tracks (such as subtitles or captions) using the HTML <track> element.\n",
    "\n",
    "Please refer to:\n",
    "- [Web Video Text Tracks Format (WebVTT)](https://developer.mozilla.org/en-US/docs/Web/API/WebVTT_API)\n",
    "- [WebVTT: The Web Video Text Tracks Format](https://www.w3.org/TR/webvtt1/)"
   ]
  },
  {
   "cell_type": "markdown",
   "id": "8b051534-372e-4bea-ad79-60944cb13ac7",
   "metadata": {},
   "source": [
    "## Prerequisites"
   ]
  },
  {
   "cell_type": "markdown",
   "id": "17b9fb9d-5198-4803-9d51-6107defbfc62",
   "metadata": {},
   "source": [
    "`webvtt-py` is a Python package for reading/writing WebVTT caption files.\n",
    "\n",
    "Please refer to:\n",
    "- [webvtt-py](https://pypi.org/project/webvtt-py/)"
   ]
  },
  {
   "cell_type": "markdown",
   "id": "cd1c097b-9697-4884-8250-9d1992fd2f75",
   "metadata": {},
   "source": [
    "## Installing `webvtt-py` on Anacoda Distribution"
   ]
  },
  {
   "cell_type": "markdown",
   "id": "deec59f6-29b0-41b2-983a-c7017253ec17",
   "metadata": {},
   "source": [
    "As `webvtt-py` is not available in any of the conda channels, the following procedure should be followed on `Anaconda Prompt` to install it in the required environment, in this case `Env20240401`:"
   ]
  },
  {
   "cell_type": "markdown",
   "id": "81581a84-433b-4733-9196-14777f089116",
   "metadata": {},
   "source": [
    "Note: You have to download and open this Jupyter Notebook on JupyterLab (provided as part of Anaconda Distribution) to visualise the procedure."
   ]
  },
  {
   "cell_type": "raw",
   "id": "352595c8-5ccc-474a-b933-526f171f87b3",
   "metadata": {},
   "source": [
    "(base) C:\\Users\\eyamr>conda env list\n",
    "# conda environments:\n",
    "#\n",
    "base                  *  C:\\Users\\eyamr\\anaconda3\n",
    "Env20240401              C:\\Users\\eyamr\\anaconda3\\envs\\Env20240401\n",
    "\n",
    "\n",
    "(base) C:\\Users\\eyamr>conda activate Env20240401\n",
    "\n",
    "(Env20240401) C:\\Users\\eyamr>pip3 install webvtt-py\n",
    "<omitted>\n",
    "\n",
    "(Env20240401) C:\\Users\\eyamr>pip3 freeze\n",
    "<omitted>\n",
    "webvtt-py==0.5.0\n",
    "<omitted>\n",
    "\n",
    "(Env20240401) C:\\Users\\eyamr>conda deactivate\n",
    "\n",
    "(base) C:\\Users\\eyamr>"
   ]
  },
  {
   "cell_type": "markdown",
   "id": "fc84e318-ec63-4f09-9de6-94809b18e120",
   "metadata": {},
   "source": [
    "## Importing the required libraries"
   ]
  },
  {
   "cell_type": "code",
   "execution_count": 1,
   "id": "1559216e-5f5a-4551-acbe-597306b16466",
   "metadata": {},
   "outputs": [],
   "source": [
    "import webvtt\n",
    "import pandas as pd"
   ]
  },
  {
   "cell_type": "markdown",
   "id": "7b9ab8c9-9f30-4885-94e8-d7576117f473",
   "metadata": {},
   "source": [
    "## Extracting text"
   ]
  },
  {
   "cell_type": "code",
   "execution_count": 2,
   "id": "50932581-ac88-49a0-bedf-4c6241689e1e",
   "metadata": {},
   "outputs": [],
   "source": [
    "# Defining the input and output files\n",
    "#webvtt_file = '023 - EU PROVO! O BRASIL VIVE UMA DITADURA.pt.vtt'\n",
    "#caption_file = '023 - EU PROVO! O BRASIL VIVE UMA DITADURA.pt.txt'\n",
    "webvtt_file = '290 - PREPARE-SE PARA VIVER COM DEUS ETERNAMENTE ｜ SILAS MALAFAIA – MOTIVACIONAL.pt.vtt'\n",
    "caption_file = '290 - PREPARE-SE PARA VIVER COM DEUS ETERNAMENTE ｜ SILAS MALAFAIA – MOTIVACIONAL.pt.txt'\n",
    "\n",
    "vtt = webvtt.read(webvtt_file)\n",
    "\n",
    "# Writing the text of the caption to an opened file\n",
    "with open(caption_file, 'w', encoding='utf-8') as f:\n",
    "    f.write('text' + '\\n') # Includes the header that will be used in the dataframe\n",
    "    for caption in vtt:\n",
    "        f.write(caption.text + '\\n')"
   ]
  },
  {
   "cell_type": "code",
   "execution_count": 3,
   "id": "eaa99720-11b8-45db-b2ea-5e47f509c7fd",
   "metadata": {},
   "outputs": [],
   "source": [
    "df = pd.read_table(caption_file)"
   ]
  },
  {
   "cell_type": "code",
   "execution_count": 4,
   "id": "484359f0-e789-48eb-9a71-937bd35765b9",
   "metadata": {},
   "outputs": [
    {
     "data": {
      "text/plain": [
       "text    object\n",
       "dtype: object"
      ]
     },
     "execution_count": 4,
     "metadata": {},
     "output_type": "execute_result"
    }
   ],
   "source": [
    "df.dtypes"
   ]
  },
  {
   "cell_type": "code",
   "execution_count": 5,
   "id": "6813b029-678f-47b4-b89d-aff96aaa4cc8",
   "metadata": {},
   "outputs": [
    {
     "data": {
      "text/html": [
       "<div>\n",
       "<style scoped>\n",
       "    .dataframe tbody tr th:only-of-type {\n",
       "        vertical-align: middle;\n",
       "    }\n",
       "\n",
       "    .dataframe tbody tr th {\n",
       "        vertical-align: top;\n",
       "    }\n",
       "\n",
       "    .dataframe thead th {\n",
       "        text-align: right;\n",
       "    }\n",
       "</style>\n",
       "<table border=\"1\" class=\"dataframe\">\n",
       "  <thead>\n",
       "    <tr style=\"text-align: right;\">\n",
       "      <th></th>\n",
       "      <th>text</th>\n",
       "    </tr>\n",
       "  </thead>\n",
       "  <tbody>\n",
       "    <tr>\n",
       "      <th>0</th>\n",
       "      <td>ele quer estar com você por toda a</td>\n",
       "    </tr>\n",
       "    <tr>\n",
       "      <th>1</th>\n",
       "      <td>ele quer estar com você por toda a</td>\n",
       "    </tr>\n",
       "    <tr>\n",
       "      <th>2</th>\n",
       "      <td>eternidade</td>\n",
       "    </tr>\n",
       "    <tr>\n",
       "      <th>3</th>\n",
       "      <td>eternidade</td>\n",
       "    </tr>\n",
       "    <tr>\n",
       "      <th>4</th>\n",
       "      <td>eternidade</td>\n",
       "    </tr>\n",
       "    <tr>\n",
       "      <th>...</th>\n",
       "      <td>...</td>\n",
       "    </tr>\n",
       "    <tr>\n",
       "      <th>124</th>\n",
       "      <td>você pode e você pode glorificar esse</td>\n",
       "    </tr>\n",
       "    <tr>\n",
       "      <th>125</th>\n",
       "      <td>Deus que quer se manifestar você</td>\n",
       "    </tr>\n",
       "    <tr>\n",
       "      <th>126</th>\n",
       "      <td>Deus que quer se manifestar você</td>\n",
       "    </tr>\n",
       "    <tr>\n",
       "      <th>127</th>\n",
       "      <td>Deus que quer se manifestar você</td>\n",
       "    </tr>\n",
       "    <tr>\n",
       "      <th>128</th>\n",
       "      <td>[Música]</td>\n",
       "    </tr>\n",
       "  </tbody>\n",
       "</table>\n",
       "<p>129 rows × 1 columns</p>\n",
       "</div>"
      ],
      "text/plain": [
       "                                      text\n",
       "0       ele quer estar com você por toda a\n",
       "1       ele quer estar com você por toda a\n",
       "2                               eternidade\n",
       "3                               eternidade\n",
       "4                               eternidade\n",
       "..                                     ...\n",
       "124  você pode e você pode glorificar esse\n",
       "125       Deus que quer se manifestar você\n",
       "126       Deus que quer se manifestar você\n",
       "127       Deus que quer se manifestar você\n",
       "128                               [Música]\n",
       "\n",
       "[129 rows x 1 columns]"
      ]
     },
     "execution_count": 5,
     "metadata": {},
     "output_type": "execute_result"
    }
   ],
   "source": [
    "df"
   ]
  },
  {
   "cell_type": "markdown",
   "id": "9a6aea01-9ae0-46c0-9ee6-b4f8cf681a49",
   "metadata": {},
   "source": [
    "### Identifying rows that are empty in column `text`"
   ]
  },
  {
   "cell_type": "code",
   "execution_count": 6,
   "id": "a81f3f48-7b20-4e3e-8ae8-3075f8ad6c5e",
   "metadata": {},
   "outputs": [
    {
     "name": "stdout",
     "output_type": "stream",
     "text": [
      "0\n"
     ]
    }
   ],
   "source": [
    "print(df['text'].isnull().sum())"
   ]
  },
  {
   "cell_type": "markdown",
   "id": "68d0cd0e-6c6f-4dcc-bd4f-8460a0a20636",
   "metadata": {},
   "source": [
    "### Removing duplicates"
   ]
  },
  {
   "cell_type": "code",
   "execution_count": 7,
   "id": "9e2bf9d7-f102-4a4b-a2f3-76154eba4edb",
   "metadata": {},
   "outputs": [],
   "source": [
    "df.drop_duplicates(subset='text', keep='first', inplace=True)\n",
    "df = df.reset_index(drop=True)"
   ]
  },
  {
   "cell_type": "code",
   "execution_count": 8,
   "id": "4095473d-3300-46e9-b6eb-4eda4ab2d657",
   "metadata": {},
   "outputs": [
    {
     "data": {
      "text/html": [
       "<div>\n",
       "<style scoped>\n",
       "    .dataframe tbody tr th:only-of-type {\n",
       "        vertical-align: middle;\n",
       "    }\n",
       "\n",
       "    .dataframe tbody tr th {\n",
       "        vertical-align: top;\n",
       "    }\n",
       "\n",
       "    .dataframe thead th {\n",
       "        text-align: right;\n",
       "    }\n",
       "</style>\n",
       "<table border=\"1\" class=\"dataframe\">\n",
       "  <thead>\n",
       "    <tr style=\"text-align: right;\">\n",
       "      <th></th>\n",
       "      <th>text</th>\n",
       "    </tr>\n",
       "  </thead>\n",
       "  <tbody>\n",
       "    <tr>\n",
       "      <th>0</th>\n",
       "      <td>ele quer estar com você por toda a</td>\n",
       "    </tr>\n",
       "    <tr>\n",
       "      <th>1</th>\n",
       "      <td>eternidade</td>\n",
       "    </tr>\n",
       "    <tr>\n",
       "      <th>2</th>\n",
       "      <td>João 17 dois dias que a vida eterna é</td>\n",
       "    </tr>\n",
       "    <tr>\n",
       "      <th>3</th>\n",
       "      <td>esta que te conheçam a ti como único</td>\n",
       "    </tr>\n",
       "    <tr>\n",
       "      <th>4</th>\n",
       "      <td>Deus e a Jesus Cristo a quem tu em</td>\n",
       "    </tr>\n",
       "    <tr>\n",
       "      <th>5</th>\n",
       "      <td>viagem João Capítulo 14 diz assim não se</td>\n",
       "    </tr>\n",
       "    <tr>\n",
       "      <th>6</th>\n",
       "      <td>turbe o vosso coração crede em Deus e</td>\n",
       "    </tr>\n",
       "    <tr>\n",
       "      <th>7</th>\n",
       "      <td>crede também em mim na casa de meu pai</td>\n",
       "    </tr>\n",
       "    <tr>\n",
       "      <th>8</th>\n",
       "      <td>há muitas moradas se não fosse assim eu</td>\n",
       "    </tr>\n",
       "    <tr>\n",
       "      <th>9</th>\n",
       "      <td>não vou não teria dito mas agora eu vou</td>\n",
       "    </tr>\n",
       "    <tr>\n",
       "      <th>10</th>\n",
       "      <td>preparar lugar e quando eu preparar</td>\n",
       "    </tr>\n",
       "    <tr>\n",
       "      <th>11</th>\n",
       "      <td>lugar eu voltarei outra vez para levar</td>\n",
       "    </tr>\n",
       "    <tr>\n",
       "      <th>12</th>\n",
       "      <td>vocês comigo para onde eu estiver</td>\n",
       "    </tr>\n",
       "    <tr>\n",
       "      <th>13</th>\n",
       "      <td>estejais vós também ele não quer me ver</td>\n",
       "    </tr>\n",
       "    <tr>\n",
       "      <th>14</th>\n",
       "      <td>com você 50 60 70 anos ele quer dizer</td>\n",
       "    </tr>\n",
       "    <tr>\n",
       "      <th>15</th>\n",
       "      <td>com você na eternidade por isso que o</td>\n",
       "    </tr>\n",
       "    <tr>\n",
       "      <th>16</th>\n",
       "      <td>texto Áureo da bíblia João capítulo 3</td>\n",
       "    </tr>\n",
       "    <tr>\n",
       "      <th>17</th>\n",
       "      <td>Versículo 16 Porque Deus amou o mundo de</td>\n",
       "    </tr>\n",
       "    <tr>\n",
       "      <th>18</th>\n",
       "      <td>tal maneira que deu seu filho unigênito</td>\n",
       "    </tr>\n",
       "    <tr>\n",
       "      <th>19</th>\n",
       "      <td>para todo aquele que nele crer não</td>\n",
       "    </tr>\n",
       "    <tr>\n",
       "      <th>20</th>\n",
       "      <td>pereça</td>\n",
       "    </tr>\n",
       "    <tr>\n",
       "      <th>21</th>\n",
       "      <td>[Música]</td>\n",
       "    </tr>\n",
       "    <tr>\n",
       "      <th>22</th>\n",
       "      <td>eterna Deus quer viver com você na</td>\n",
       "    </tr>\n",
       "    <tr>\n",
       "      <th>23</th>\n",
       "      <td>eternidade para isso acontecer reconheça</td>\n",
       "    </tr>\n",
       "    <tr>\n",
       "      <th>24</th>\n",
       "      <td>que você é um pecador reconheça isso</td>\n",
       "    </tr>\n",
       "    <tr>\n",
       "      <th>25</th>\n",
       "      <td>confesse se arrependa entregue sua vida</td>\n",
       "    </tr>\n",
       "    <tr>\n",
       "      <th>26</th>\n",
       "      <td>a Cristo e vai começar uma nova estação</td>\n",
       "    </tr>\n",
       "    <tr>\n",
       "      <th>27</th>\n",
       "      <td>uma nova jornada na tua vida do Deus</td>\n",
       "    </tr>\n",
       "    <tr>\n",
       "      <th>28</th>\n",
       "      <td>Tremendo poderoso glorioso que vai se</td>\n",
       "    </tr>\n",
       "    <tr>\n",
       "      <th>29</th>\n",
       "      <td>manifestar pessoalmente a você eu vou</td>\n",
       "    </tr>\n",
       "    <tr>\n",
       "      <th>30</th>\n",
       "      <td>dizer uma coisa Deus tem coisa para você</td>\n",
       "    </tr>\n",
       "    <tr>\n",
       "      <th>31</th>\n",
       "      <td>que não tem para mim pastor você está</td>\n",
       "    </tr>\n",
       "    <tr>\n",
       "      <th>32</th>\n",
       "      <td>enganado relacionamento é pessoal né</td>\n",
       "    </tr>\n",
       "    <tr>\n",
       "      <th>33</th>\n",
       "      <td>porque você é pastor né porque você é</td>\n",
       "    </tr>\n",
       "    <tr>\n",
       "      <th>34</th>\n",
       "      <td>muito chata nada não é o relacionamento</td>\n",
       "    </tr>\n",
       "    <tr>\n",
       "      <th>35</th>\n",
       "      <td>pessoal eu tô declarando para festa</td>\n",
       "    </tr>\n",
       "    <tr>\n",
       "      <th>36</th>\n",
       "      <td>mente Deus tem coisa para você que não</td>\n",
       "    </tr>\n",
       "    <tr>\n",
       "      <th>37</th>\n",
       "      <td>tem para mim e Deus tem coisa para mim</td>\n",
       "    </tr>\n",
       "    <tr>\n",
       "      <th>38</th>\n",
       "      <td>que não tem para você essa grandeza de</td>\n",
       "    </tr>\n",
       "    <tr>\n",
       "      <th>39</th>\n",
       "      <td>Deus ele sabe cuidar de nós ele entende</td>\n",
       "    </tr>\n",
       "    <tr>\n",
       "      <th>40</th>\n",
       "      <td>as individualidades</td>\n",
       "    </tr>\n",
       "    <tr>\n",
       "      <th>41</th>\n",
       "      <td>você pode e você pode glorificar esse</td>\n",
       "    </tr>\n",
       "    <tr>\n",
       "      <th>42</th>\n",
       "      <td>Deus que quer se manifestar você</td>\n",
       "    </tr>\n",
       "  </tbody>\n",
       "</table>\n",
       "</div>"
      ],
      "text/plain": [
       "                                        text\n",
       "0         ele quer estar com você por toda a\n",
       "1                                 eternidade\n",
       "2      João 17 dois dias que a vida eterna é\n",
       "3       esta que te conheçam a ti como único\n",
       "4         Deus e a Jesus Cristo a quem tu em\n",
       "5   viagem João Capítulo 14 diz assim não se\n",
       "6      turbe o vosso coração crede em Deus e\n",
       "7     crede também em mim na casa de meu pai\n",
       "8    há muitas moradas se não fosse assim eu\n",
       "9    não vou não teria dito mas agora eu vou\n",
       "10       preparar lugar e quando eu preparar\n",
       "11    lugar eu voltarei outra vez para levar\n",
       "12         vocês comigo para onde eu estiver\n",
       "13   estejais vós também ele não quer me ver\n",
       "14     com você 50 60 70 anos ele quer dizer\n",
       "15     com você na eternidade por isso que o\n",
       "16     texto Áureo da bíblia João capítulo 3\n",
       "17  Versículo 16 Porque Deus amou o mundo de\n",
       "18   tal maneira que deu seu filho unigênito\n",
       "19        para todo aquele que nele crer não\n",
       "20                                    pereça\n",
       "21                                  [Música]\n",
       "22        eterna Deus quer viver com você na\n",
       "23  eternidade para isso acontecer reconheça\n",
       "24      que você é um pecador reconheça isso\n",
       "25   confesse se arrependa entregue sua vida\n",
       "26   a Cristo e vai começar uma nova estação\n",
       "27      uma nova jornada na tua vida do Deus\n",
       "28     Tremendo poderoso glorioso que vai se\n",
       "29     manifestar pessoalmente a você eu vou\n",
       "30  dizer uma coisa Deus tem coisa para você\n",
       "31     que não tem para mim pastor você está\n",
       "32      enganado relacionamento é pessoal né\n",
       "33     porque você é pastor né porque você é\n",
       "34   muito chata nada não é o relacionamento\n",
       "35       pessoal eu tô declarando para festa\n",
       "36    mente Deus tem coisa para você que não\n",
       "37    tem para mim e Deus tem coisa para mim\n",
       "38    que não tem para você essa grandeza de\n",
       "39   Deus ele sabe cuidar de nós ele entende\n",
       "40                       as individualidades\n",
       "41     você pode e você pode glorificar esse\n",
       "42          Deus que quer se manifestar você"
      ]
     },
     "execution_count": 8,
     "metadata": {},
     "output_type": "execute_result"
    }
   ],
   "source": [
    "df"
   ]
  },
  {
   "cell_type": "code",
   "execution_count": 9,
   "id": "6f92fc57-4829-44d4-b7c9-7c6aa9687022",
   "metadata": {},
   "outputs": [
    {
     "name": "stdout",
     "output_type": "stream",
     "text": [
      "Extracted!\n"
     ]
    }
   ],
   "source": [
    "# Creating a single string containing all 'text' values separated by spaces\n",
    "text_line = ' '.join(df['text'])\n",
    "\n",
    "# Writing the string to a text file\n",
    "with open(caption_file, 'w', encoding='utf-8') as f:\n",
    "    f.write(text_line)\n",
    "\n",
    "print('Extracted!')"
   ]
  },
  {
   "cell_type": "code",
   "execution_count": null,
   "id": "48442e61-c50a-4a9a-a6ea-adba4b94d95c",
   "metadata": {},
   "outputs": [],
   "source": []
  }
 ],
 "metadata": {
  "kernelspec": {
   "display_name": "Python 3 (ipykernel)",
   "language": "python",
   "name": "python3"
  },
  "language_info": {
   "codemirror_mode": {
    "name": "ipython",
    "version": 3
   },
   "file_extension": ".py",
   "mimetype": "text/x-python",
   "name": "python",
   "nbconvert_exporter": "python",
   "pygments_lexer": "ipython3",
   "version": "3.11.8"
  }
 },
 "nbformat": 4,
 "nbformat_minor": 5
}
