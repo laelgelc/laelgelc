{
 "cells": [
  {
   "cell_type": "markdown",
   "id": "810d9f10-ec19-4b09-8f90-e983e460b319",
   "metadata": {},
   "source": [
    "<center>\n",
    "<img src=\"http://corpuslg.org/lael_english/wp-content/uploads/2020/04/lael_50_years_narrow_white.png.400px_300dpi.png\" width=\"300\" alt=\"LAEL 50 years logo\">\n",
    "<h3>APPLIED LINGUISTICS GRADUATE PROGRAMME (LAEL)</h3>\n",
    "</center>\n",
    "<hr>"
   ]
  },
  {
   "cell_type": "markdown",
   "id": "888c2c96-2fc3-4a1a-995b-c388036a2a15",
   "metadata": {},
   "source": [
    "# Images function set"
   ]
  },
  {
   "cell_type": "markdown",
   "id": "b8bcd50d-04ff-4428-af11-4e576a37e7dd",
   "metadata": {},
   "source": [
    "## Preamble"
   ]
  },
  {
   "cell_type": "raw",
   "id": "4ec4dfe2-9a31-407e-b8f0-d0968ae27ba0",
   "metadata": {},
   "source": [
    "#enter your group number\n",
    "group=4\n",
    "\n",
    "#enter the label for your system, mac or linux\n",
    "mysystem=mac\n",
    "#mysystem=linux\n",
    "\n",
    "  if [ \"$mysystem\" == mac ]\n",
    "    then\n",
    "    myshuf=gshuf\n",
    "    mygsed=gsed\n",
    "  else\n",
    "    myshuf=shuf\n",
    "    mygsed=sed\n",
    "  fi \n"
   ]
  },
  {
   "cell_type": "markdown",
   "id": "b0292236-2255-412d-a679-09742685cb26",
   "metadata": {},
   "source": [
    "## presample"
   ]
  },
  {
   "cell_type": "raw",
   "id": "815d52ac-5ccb-49f9-94b6-bcfc5e42989b",
   "metadata": {},
   "source": [
    "presample () {\n",
    "\n",
    "grep fullUrl tweets/scraped.txt | cut -f2- | nl | sed 's/^[ ]*//' > images/presample.txt\n",
    "  \n",
    "}\n"
   ]
  },
  {
   "cell_type": "markdown",
   "id": "8b865a3e-b03d-4117-8138-3129d0daef08",
   "metadata": {},
   "source": [
    "## collecturls"
   ]
  },
  {
   "cell_type": "raw",
   "id": "39242c2c-12d7-4660-8369-df91de3612e3",
   "metadata": {},
   "source": [
    "getimagesurls () {\n",
    "    \n",
    "last=$( cat images/presample.txt | wc -l | tr -dc '[0-9]' )\n",
    "\n",
    "mkdir -p images\n",
    "\n",
    "rm -f images/urls.txt  ### WATCH THIS!\n",
    "\n",
    "for i in $(eval echo {1..$last});\n",
    "do\n",
    "        rg -m1 \"^\"$i\"\t\" images/presample.txt | jq '.' > z\n",
    "        file=$( grep -m1 'fullUrl' z | cut -d'\"' -f4  )\n",
    "        format=$( echo $file | tr '?&=' '|' | cut -d'|' -f3 )\n",
    "        id=$( grep -m1 'id\"' z | tr '~' ' ' | sed -e 's/^[ ]*//' -e 's/:/~/' | cut -d'~' -f2 | tr -dc '[0-9]' )\n",
    "        username=$( grep -m1 'username\"' z | tr '~' ' ' | sed -e 's/^[ ]*//' -e 's/:/~/' | cut -d'~' -f2 | sed -e 's/\"//' -e 's/^[ ]*//' -e 's/\",$//' | tr '[:upper:]' '[:lower:]' )\n",
    "        date=$( grep -m1 'date\"' z | tr '~' ' ' | sed -e 's/^[ ]*//' | cut -d'~' -f2 | cut -d'T' -f1 | tr -dc '[0-9-]' )\n",
    "\n",
    "        echo \"---- collecturls $i / $last ----\"\n",
    "\n",
    "        echo \"id:\"$id\"|d:$date|u:\"$username\"|i:$file|f:$format\" >> images/urls.txt\n",
    "done \n",
    "\n",
    "grep 'id:...................|' images/urls.txt | nl -nrz | sed 's/^/t:/' | tr '\\t' '|' > w\n",
    "\n",
    "for n in `seq -w 1 13`  # how many batches\n",
    "do\n",
    "  printf \"$n\\n%.0s\" {1..1000}  # how many lines in each batch\n",
    "done | sed 's/^/fl:/' > z\n",
    "\n",
    "paste z w | tr '\\t' '|' | grep 'id:' > images/images_index.txt\n",
    "\n",
    "sort z | uniq > folders\n",
    "while read folder\n",
    "do\n",
    "    mkdir -p images/images/$folder\n",
    "done < folders\n",
    "\n",
    "}\n"
   ]
  },
  {
   "cell_type": "markdown",
   "id": "f563469c-965c-4f22-b71f-dfc71d4d97fa",
   "metadata": {},
   "source": [
    "## grabimages"
   ]
  },
  {
   "cell_type": "raw",
   "id": "4022b71d-72ed-43f1-b565-c62626ffaff6",
   "metadata": {},
   "source": [
    "grabimages () {\n",
    "\n",
    "last=$( cat images/images_index.txt | wc -l | tr -cd '[0-9]' )\n",
    "\n",
    "for i in $(eval echo {1..$last});\n",
    "do\n",
    "    sed -n \"$i\"p images/images_index.txt > z\n",
    "    folder=$( cut -d'|' -f1 z | sed 's/fl://' )\n",
    "    n=$( cut -d'|' -f2 z | sed 's/t://' )\n",
    "    id=$( cut -d'|' -f3 z | sed 's/id://' )\n",
    "    file=$( cut -d'|' -f6 z | sed 's/i://' )\n",
    "    ext=$( cut -d'|' -f7 z | sed 's/f://' )\n",
    "    \n",
    "    echo \"---- fetching image $n / $last ----\"\n",
    "    \n",
    "    curl -k \"$file\" > images/images/\"$folder\"/\"$n\".\"$ext\"\n",
    "done \n",
    "\n",
    "}\n"
   ]
  },
  {
   "cell_type": "markdown",
   "id": "5e585608-98b2-4d9d-92dc-8b8b1cdcd9ad",
   "metadata": {},
   "source": [
    "## removedupes"
   ]
  },
  {
   "cell_type": "raw",
   "id": "e2f11762-4a13-4612-ad25-f98fd10393a6",
   "metadata": {},
   "source": [
    "removedupes () {\n",
    "\n",
    "# remove duplicate images posted in the same message or in repeated messages by the same user (same message id)\n",
    "    \n",
    "cut -d'|' -f3 images/images_index.txt | sed 's/id://' | sort | uniq -c | grep -v ' 1 ' | nl | sed 's/^[ ]*//' | tr '\\t' ' ' | tr -s ' ' > d\n",
    "\n",
    "rm -f remove\n",
    "while read n maxhits id\n",
    "do\n",
    "    echo \"--- listing $n ---\"\n",
    "    grep -m$maxhits $id images/images_index.txt | cut -d'|' -f6 | sort | uniq -d | sed 's/i://' > dupes\n",
    "    \n",
    "    while read dupe\n",
    "    do\n",
    "        grep $dupe images/images_index.txt | tail +2 | cut -d'|' -f2\n",
    "    done < dupes >> remove\n",
    "done < d \n",
    "\n",
    "# remove duplicate image files\n",
    "while read dupe\n",
    "do\n",
    "    pretty=$( echo $dupe | sed 's/t://' )\n",
    "    folder=$( grep $dupe images/images_index.txt | cut -d'|' -f1 | sed 's/fl://' )\n",
    "    ext=$( grep $dupe images/images_index.txt | cut -d'|' -f7 | sed 's/f://' )\n",
    "    rm -f images/images/\"$folder\"/\"$pretty\".\"$ext\"\n",
    "    echo \"--- removing images/images/\"$folder\"/\"$pretty\".\"$ext\" ---\"\n",
    "done < remove \n",
    "\n",
    "# remove dupes from index\n",
    "grep -vf remove images/images_index.txt > z ; mv z images/images_index.txt\n",
    "\n",
    "# remove dupes from index again, for some reason some still remain\n",
    "cut -d'|' -f2  images/images_index.txt | cut -d':' -f2 > i\n",
    "find images/images -type f | cut -d'/' -f4 | cut -d'.' -f1 > f\n",
    "cat i i f | sort | uniq -c | grep ' 2 ' | cut -c6- | grep -v '^$' | sed 's/^/t:/' > ionly\n",
    "grep -vf ionly images/images_index.txt > b ; mv b images/images_index.txt\n",
    "\n",
    "# remove empty image files\n",
    "find images/images -type f empty -exec rm {} +\n",
    "\n",
    "# remove empty image files from index\n",
    "cut -d'|' -f2  images/images_index.txt | cut -d':' -f2 > i\n",
    "find images/images -type f | cut -d'/' -f4 | cut -d'.' -f1 > f\n",
    "cat i i f | sort | uniq -c | grep ' 2 ' | cut -c6- | grep -v '^$' | sed 's/^/t:/' > ionly\n",
    "grep -vf ionly images/images_index.txt > b ; mv b images/images_index.txt\n",
    "\n",
    "}\n"
   ]
  },
  {
   "cell_type": "markdown",
   "id": "379a6686-4bd0-4f3b-8781-cccd41de4c77",
   "metadata": {},
   "source": [
    "## uploadtobucket"
   ]
  },
  {
   "cell_type": "raw",
   "id": "4f8d7ccd-12a1-49d4-8041-542116ee5ab3",
   "metadata": {},
   "source": [
    "uploadtobucket () {\n",
    "\n",
    "# google cloud gsutil account = tonyberber@gmail.com\n",
    "\n",
    "gcloud alpha storage cp -R images/images gs://socialmediaclassimages/group\n",
    "\n",
    "}\n"
   ]
  },
  {
   "cell_type": "markdown",
   "id": "588cbfce-704b-4e16-bce8-3ff9af1e134d",
   "metadata": {},
   "source": [
    "## googlelabels"
   ]
  },
  {
   "cell_type": "raw",
   "id": "ba21969f-f50c-4e3a-9002-2b31a1875d4a",
   "metadata": {},
   "source": [
    "googlelabels () {\n",
    "    \n",
    "# speed: 1 file per second\n",
    "\n",
    "while read folder\n",
    "do\n",
    "  mkdir -p images/google_cloud/labels/$folder\n",
    "  ### rm -f images/google_cloud/labels/$folder/*\n",
    "done < folders\n",
    "\n",
    "last=$( tail -1 images/images_index.txt | cut -d'|' -f2 | sed 's/t://'  )\n",
    "\n",
    "for i in $(eval echo {1..$last});\n",
    "do\n",
    "    sed -n \"$i\"p images/images_index.txt > z\n",
    "    folder=$( cut -d'|' -f1 z | sed 's/fl://' )\n",
    "    n=$( cut -d'|' -f2 z | sed 's/t://' )\n",
    "    id=$( cut -d'|' -f3 z | sed 's/id://' )\n",
    "    file=$( cut -d'|' -f6 z | sed 's/i://' )\n",
    "    ext=$( cut -d'|' -f7 z | sed 's/f://' )\n",
    "    \n",
    "    echo \"---- detect-labels $i / $last ----\"\n",
    "    \n",
    "    gcloud ml vision detect-labels --max-results=150  gs://socialmediaclassimages/group/\"$folder\"/\"$n\".\"$ext\" > images/google_cloud/labels/\"$folder\"/\"$n\".txt\n",
    "    \n",
    "done \n",
    "\n",
    "}\n"
   ]
  },
  {
   "cell_type": "markdown",
   "id": "1986a8e0-815b-430c-becd-c4c108d4f9b7",
   "metadata": {},
   "source": [
    "## labeltypes"
   ]
  },
  {
   "cell_type": "raw",
   "id": "2fb42e30-b26c-4451-901e-5f6c7c411d63",
   "metadata": {},
   "source": [
    "labeltypes () {\n",
    "    \n",
    "rm -f images/labels.txt\n",
    "\n",
    "last=$( cat images/images_index.txt | wc -l | tr -cd '[0-9]' )\n",
    "\n",
    "for i in $(eval echo {1..$last});\n",
    "do    \n",
    "    sed -n \"$i\"p images/images_index.txt > z\n",
    "    folder=$( cut -d'|' -f1 z | sed 's/fl://' )\n",
    "    n=$( cut -d'|' -f2 z | sed 's/t://' )\n",
    "    id=$( cut -d'|' -f3 z | sed 's/id://' )\n",
    "    date=$( cut -d'|' -f4 z | sed 's/d://' )\n",
    "    username=$( cut -d'|' -f5 z | sed 's/u://' )\n",
    "    \n",
    "    echo \"---- labeltypes $i / $last ---\"\n",
    "    \n",
    "    grep  '\"description\":' images/google_cloud/labels/\"$folder\"/\"$n\".txt | cut -d':' -f2 | tr -d '\"' | sed -e 's/^[ ]*//' | tr '\\n' ' ' | sed 's/, $//' | tr ' ' '_' | sed 's/,_/,/g' | tr -d \"'\" | tr '[A-Z]' '[a-z]' | sed \"s/^/fl:$folder|t:$n|id:$id|d:$date|u:$username|l:/\" >> images/labels.txt\n",
    "    echo >> images/labels.txt\n",
    "done \n",
    "\n",
    "}\n"
   ]
  },
  {
   "cell_type": "markdown",
   "id": "f857fbf0-f896-4715-a4d1-4204c5a88bdc",
   "metadata": {},
   "source": [
    "## toplabels"
   ]
  },
  {
   "cell_type": "raw",
   "id": "8ff1aa2f-f56e-437b-a608-ad286590c0a4",
   "metadata": {},
   "source": [
    "toplabels () {\n",
    "\n",
    "cut -d'|' -f6 images/labels.txt | sed 's/l://' | tr ',' '\\n' | sort | uniq -c | sort -nr | sed 's/^[ ]*//' | grep '[a-z]' | head -1000 | cut -d' ' -f2- | nl -nrz | sed 's/^/v/' | tr '\\t' ' ' > images/selectedwords\n",
    "\n",
    "cp images/selectedwords images/var_index.txt\n",
    "\n",
    "}\n"
   ]
  },
  {
   "cell_type": "markdown",
   "id": "d18b7aad-29e3-4703-b696-81ac135f4cc4",
   "metadata": {},
   "source": [
    "## sas"
   ]
  },
  {
   "cell_type": "raw",
   "id": "2dbb3a4e-e196-4f8f-8574-b78c198fd998",
   "metadata": {},
   "source": [
    "sas () {\n",
    "\n",
    "mkdir -p images/sas\n",
    "\n",
    "rm -f images/columns\n",
    "\n",
    "cut -d'|' -f3,6 images/labels.txt > a\n",
    "\n",
    "while read n word \n",
    "do\n",
    "  echo \"--- $n ---\"\n",
    "  rg -w $word a | cut -d'|' -f1 | sed -e 's/id://' -e \"s/$/ \"$n\" 1/\" >> images/columns \n",
    "done < images/selectedwords\n",
    "\n",
    "sort images/columns | uniq > a ; mv a images/columns  # to avoid words whose accents were stripped to be duplicated in the same text ; SAS can't handle that\n",
    "\n",
    "#cut -d' ' -f2 tweets/selectedwords | gwc -L \n",
    "#head -1 columns | cut -d' ' -f1 | gwc -L\n",
    "\n",
    "cp images/columns images/sas/data.txt\n",
    "\n",
    "}\n"
   ]
  },
  {
   "cell_type": "markdown",
   "id": "20eddde9-5b57-4d55-a1d3-be896e994da3",
   "metadata": {},
   "source": [
    "## datamatrix"
   ]
  },
  {
   "cell_type": "raw",
   "id": "82a8afb5-295f-4ee8-8bba-d2e1d11559a3",
   "metadata": {},
   "source": [
    "datamatrix () {\n",
    "\n",
    "mkdir -p images/temp\n",
    "\n",
    "rm -f images/temp/*\n",
    "\n",
    "cut -d' ' -f1 images/columns | uniq | sort > files\n",
    "\n",
    "while read n word \n",
    "do\n",
    "  echo \"--- $n ---\"\n",
    "  rg -w $n images/columns | sort -t' ' -k1,1 > a\n",
    "  echo \"$n\" > images/temp/$n\n",
    "  join -a 1 -1 1 -2 1 -e 0 files a | sed \"s/$/ $n 0/\" | cut -d' ' -f3 >> images/temp/$n\n",
    "done < images/selectedwords\n",
    "\n",
    "echo \"--- images/data.csv ...---\"\n",
    "\n",
    "awk '\n",
    "        FNR==1 { col++ }\n",
    "        FNR>max { max=FNR }\n",
    "        { l[FNR,col]=$0 }\n",
    "        END {\n",
    "                for (i=1;i<=max;i++) {\n",
    "                        for (j=1;j<=col;j++) {\n",
    "                                printf \"%-50s\",l[i,j]\n",
    "                        }\n",
    "                        print \"\"\n",
    "                }\n",
    "        }\n",
    "' images/temp/* > u\n",
    "tr -s ' ' < u | tr ' ' ',' | sed 's/,$//' > images/data.csv\n",
    "\n",
    "}\n"
   ]
  },
  {
   "cell_type": "markdown",
   "id": "30839b24-4619-4e04-9bc5-51651bbbdc11",
   "metadata": {},
   "source": [
    "## correlationmatrux"
   ]
  },
  {
   "cell_type": "raw",
   "id": "400b1ea6-6849-435c-b948-cc71b19f9ce3",
   "metadata": {},
   "source": [
    "correlationmatrix () {\n",
    "\n",
    "echo \"--- python correlation ... ---\"\n",
    "\n",
    "sed 's;data.csv;images/data.csv;' corr.py > p\n",
    "python3 p > images/correlation\n",
    "\n",
    "}\n"
   ]
  },
  {
   "cell_type": "markdown",
   "id": "0ae9bf9c-6aea-408c-8e53-573c881e253c",
   "metadata": {},
   "source": [
    "## formats"
   ]
  },
  {
   "cell_type": "raw",
   "id": "a5e5391a-cf4a-4994-b7ae-f821470c0f3a",
   "metadata": {},
   "source": [
    "formats () {\n",
    "\n",
    "nlines=$( cat tweets/emoji.txt | wc -l | tr -dc '[0-9]' )\n",
    "\n",
    "tail +2 images/correlation | tr -s ' ' | sed 's/^/CORR /' > bottom\n",
    "head -1 images/correlation | tr -s ' ' | sed 's/^[ ]*//' | sed \"s/\\(v......\\)/$nlines/g\" | sed 's/^/N . /' > n\n",
    "\n",
    "sed 's;data.csv;images/data.csv;' std.py > p\n",
    "python3 p > s \n",
    "tr -s ' ' < s | cut -d' ' -f2 | grep -v 'float' | tr '\\n' ' ' | sed 's/^/STD\t . /' > std \n",
    "echo >> std\n",
    "\n",
    "sed 's;data.csv;images/data.csv;' mean.py > p\n",
    "python3 p > m \n",
    "tr -s ' ' < m | cut -d' ' -f2 | grep -v 'float' | tr '\\n' ' ' | sed 's/^/MEAN . /' > mean\n",
    "echo >> mean\n",
    "\n",
    "cat mean std n bottom > images/sas/corr.txt\n",
    "\n",
    "echo \"PROC FORMAT library=work ;\n",
    "  VALUE  \\$lexlabels\" > images/sas/word_labels_format.sas\n",
    "tr '\\t' ' ' < images/selectedwords | sed 's/\\(.*\\) \\(.*\\)/\"\\1\" = \"\\2\"/' | sed -e 's/&/and/g' -e 's/%/pc/g' >> images/sas/word_labels_format.sas\n",
    "echo \";\n",
    "run;\n",
    "quit;\" >> images/sas/word_labels_format.sas\n",
    "\n",
    "}\n"
   ]
  },
  {
   "cell_type": "markdown",
   "id": "cdfcd11c-084f-430c-9d05-29e64a61634c",
   "metadata": {},
   "source": [
    "## examples"
   ]
  },
  {
   "cell_type": "raw",
   "id": "5e9a0912-e1f7-4614-a5fb-48360e45853b",
   "metadata": {},
   "source": [
    "examples () {\n",
    "\n",
    "mkdir -p images/examples\n",
    "rm -f images/examples/*\n",
    "\n",
    "html2text -nobs images/sas/output_group\"$group\"_images/loadtable.html > a\n",
    "\n",
    "rm -f x??\n",
    "split -p'=====' a\n",
    "ls x?? > files\n",
    "\n",
    "while read file\n",
    "do\n",
    "      pole=$( grep '^Factor ' $file | cut -d' ' -f2,3 | sed -e 's/^/f/' -e 's/ //g' )\n",
    "      sed 's/^[ ]*//' $file | grep '^[0-9]' | tr -dc '[:alpha:][:punct:][0-9]\\n ' | sed 's/^/~/' | tr  '[:space:]()' ' ' | tr -s ' ' |  tr '~' '\\n' | cut -d' ' -f2 | grep -v '^$' | sed \"s/^/$pole /\" \n",
    "done < files > images/examples/factors\n",
    "\n",
    "\n",
    "rm -f x??\n",
    "\n",
    "head -1 images/sas/output_group\"$group\"_images/group4_images_scores.tsv | tr -d '\\r' | tr '\\t' '\\n' > vars\n",
    "    \n",
    "last=$( cut -d' ' -f1 images/examples/factors | tr -dc '[0-9\\n]' | sort -nr | head -1 )\n",
    "    \n",
    "for i in $(eval echo {1..$last});\n",
    "do\n",
    "      column=$( echo \" $i + 1 \" | bc ) \n",
    "      cut -f1,\"$column\" images/sas/output_group4_images/group4_images_scores_only.tsv  | tail +2 > a\n",
    "\n",
    "      for pole in pos neg\n",
    "      do\n",
    "        echo \"--- \"f\"$i\"\"$pole\"\" ---\" \n",
    "\n",
    "        if [ \"$pole\" == pos ] ; then\n",
    "           sort -nr -k2,2 a | grep -v '\\-' | tr '\\t' ' ' | grep -v ' 0' | head -20 | nl -nrz > files\n",
    "        else\n",
    "           sort -n -k2,2 a | grep '\\-' | tr '\\t' ' ' | grep -v ' 0' | grep -v '\t0' | head -20 | nl -nrz > files\n",
    "        fi\n",
    "\n",
    "        grep f\"$i\"\"$pole\" images/examples/factors | sort -t' ' -k2,2 | cut -d' ' -f2 | sort > factor_words\n",
    "        \n",
    "        while read n file score\n",
    "        do\n",
    "\n",
    "          grep -m1 $file images/sas/output_group4_images/group4_images_scores.tsv | tr -d '\\r' | tr '\\t' '\\n' > scores\n",
    "          paste vars scores | tr '\\t' ' ' | grep '^v' | grep -v ' 0$' | cut -d' ' -f1 | sort > vars_text\n",
    "          join vars_text images/selectedwords | cut -d' ' -f2 | sort > vars_text_codes\n",
    "          username=$( grep -w $file user_index.txt | cut -d' ' -f2 )\n",
    "          picture=$( grep -w $file images/images_index.txt | cut -d'|' -f2,7 | tr ':|' ' ' | cut -d' ' -f2,4 | sed 's;\\(.*\\) \\(.*\\);\\1.\\2;' )\n",
    "          folder=$( grep -w $file images/images_index.txt | cut -d'|' -f1 | tr ':|' ' ' | cut -d' ' -f2  )\n",
    "          url=$( grep -m1 -B5 $file tweets/jq.txt | grep '\"url\"'  | cut -d':' -f2- | tr -d '\",' | sed 's/^[ ]*//' )\n",
    "          extension=$( echo $picture | cut -d'.' -f2 )\n",
    "          cp images/images/$folder/$picture images/examples/image_f\"$i\"\"$pole\"_x`\"$n\".\"$extension\"\n",
    "\n",
    "          echo \"---------------\" \n",
    "\n",
    "          echo \"# $n\" \n",
    "          echo \"score = $score\"  \n",
    "          echo \"url: $url\"\n",
    "          echo\n",
    "\n",
    "          grep -w $file images/labels.txt | tr '|' '\\n' | sed 's/l:/~/' | tr '~' '\\n'    \n",
    "\n",
    "          echo\n",
    "          echo \"Lemmas in this picture that loaded on the factor:\"\n",
    "          echo\n",
    "\n",
    "          join vars_text_codes factor_words > ll\n",
    "          tr '\\n' ',' < ll | sed 's/,/, /g' | sed 's/, $//' > images/examples/lemmas_f\"$i\"_\"$pole\"_\"$n\".txt\n",
    "          cat ll\n",
    "\n",
    "          echo \n",
    "\n",
    "        done < files > images/examples/examples_f\"$i\"_\"$pole\".txt\n",
    "\n",
    "      done\n",
    "\n",
    "done\n",
    "\n",
    "    #rm -f vars factor_words scores vars_text vars_text_codes\n",
    "\n",
    "}\n"
   ]
  }
 ],
 "metadata": {
  "kernelspec": {
   "display_name": "Python 3 (ipykernel)",
   "language": "python",
   "name": "python3"
  },
  "language_info": {
   "codemirror_mode": {
    "name": "ipython",
    "version": 3
   },
   "file_extension": ".py",
   "mimetype": "text/x-python",
   "name": "python",
   "nbconvert_exporter": "python",
   "pygments_lexer": "ipython3",
   "version": "3.11.5"
  }
 },
 "nbformat": 4,
 "nbformat_minor": 5
}
