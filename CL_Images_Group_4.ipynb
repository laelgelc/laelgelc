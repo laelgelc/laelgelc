{
 "cells": [
  {
   "cell_type": "markdown",
   "id": "810d9f10-ec19-4b09-8f90-e983e460b319",
   "metadata": {},
   "source": [
    "<center>\n",
    "<img src=\"http://corpuslg.org/lael_english/wp-content/uploads/2020/04/lael_50_years_narrow_white.png.400px_300dpi.png\" width=\"300\" alt=\"LAEL 50 years logo\">\n",
    "<h3>APPLIED LINGUISTICS GRADUATE PROGRAMME (LAEL)</h3>\n",
    "</center>\n",
    "<hr>"
   ]
  },
  {
   "cell_type": "markdown",
   "id": "888c2c96-2fc3-4a1a-995b-c388036a2a15",
   "metadata": {},
   "source": [
    "# Images function set"
   ]
  },
  {
   "cell_type": "markdown",
   "id": "73f9ce6f-124b-488d-b181-c1e0273c8bd8",
   "metadata": {},
   "source": [
    "#presample\n",
    "#collecturls\n",
    "#grabimages\n",
    "#removedupes\n",
    "#googlelabels\n",
    "#labeltypes\n",
    "#toplabels\n",
    "#sas\n",
    "#datamatrix\n",
    "#correlationmatrix\n",
    "#formats"
   ]
  },
  {
   "cell_type": "markdown",
   "id": "b0292236-2255-412d-a679-09742685cb26",
   "metadata": {},
   "source": [
    "## presample"
   ]
  },
  {
   "cell_type": "markdown",
   "id": "8b865a3e-b03d-4117-8138-3129d0daef08",
   "metadata": {},
   "source": [
    "## collecturls"
   ]
  },
  {
   "cell_type": "markdown",
   "id": "f563469c-965c-4f22-b71f-dfc71d4d97fa",
   "metadata": {},
   "source": [
    "## grabimages"
   ]
  },
  {
   "cell_type": "markdown",
   "id": "5e585608-98b2-4d9d-92dc-8b8b1cdcd9ad",
   "metadata": {},
   "source": [
    "## removedupes"
   ]
  },
  {
   "cell_type": "markdown",
   "id": "588cbfce-704b-4e16-bce8-3ff9af1e134d",
   "metadata": {},
   "source": [
    "## googlelabels"
   ]
  },
  {
   "cell_type": "markdown",
   "id": "1986a8e0-815b-430c-becd-c4c108d4f9b7",
   "metadata": {},
   "source": [
    "## labeltypes"
   ]
  },
  {
   "cell_type": "markdown",
   "id": "f857fbf0-f896-4715-a4d1-4204c5a88bdc",
   "metadata": {},
   "source": []
  },
  {
   "cell_type": "markdown",
   "id": "d18b7aad-29e3-4703-b696-81ac135f4cc4",
   "metadata": {},
   "source": []
  },
  {
   "cell_type": "markdown",
   "id": "20eddde9-5b57-4d55-a1d3-be896e994da3",
   "metadata": {},
   "source": []
  },
  {
   "cell_type": "markdown",
   "id": "30839b24-4619-4e04-9bc5-51651bbbdc11",
   "metadata": {},
   "source": []
  },
  {
   "cell_type": "markdown",
   "id": "0ae9bf9c-6aea-408c-8e53-573c881e253c",
   "metadata": {},
   "source": []
  }
 ],
 "metadata": {
  "kernelspec": {
   "display_name": "Python 3 (ipykernel)",
   "language": "python",
   "name": "python3"
  },
  "language_info": {
   "codemirror_mode": {
    "name": "ipython",
    "version": 3
   },
   "file_extension": ".py",
   "mimetype": "text/x-python",
   "name": "python",
   "nbconvert_exporter": "python",
   "pygments_lexer": "ipython3",
   "version": "3.11.5"
  }
 },
 "nbformat": 4,
 "nbformat_minor": 5
}
