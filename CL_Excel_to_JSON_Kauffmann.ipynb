{
 "cells": [
  {
   "cell_type": "markdown",
   "id": "810d9f10-ec19-4b09-8f90-e983e460b319",
   "metadata": {},
   "source": [
    "<center>\n",
    "<img src=\"https://laelgelcpublic.s3.sa-east-1.amazonaws.com/lael_50_years_narrow_white.png.no_years.400px_96dpi.png\" width=\"300\" alt=\"LAEL 50 years logo\">\n",
    "<h3>APPLIED LINGUISTICS GRADUATE PROGRAMME (LAEL)</h3>\n",
    "</center>\n",
    "<hr>"
   ]
  },
  {
   "cell_type": "markdown",
   "id": "888c2c96-2fc3-4a1a-995b-c388036a2a15",
   "metadata": {},
   "source": [
    "# Formatting datasets from Excel to JSON"
   ]
  },
  {
   "cell_type": "markdown",
   "id": "e585075d-1385-47f5-af17-22979a78e9df",
   "metadata": {},
   "source": [
    "Notes:\n",
    "- The libraries `pandas` and `openpyxl` are required;\n",
    "- In the Excel files, remove the top grouped line with the title of the spreadsheet if there is one - just leave the column headers."
   ]
  },
  {
   "cell_type": "markdown",
   "id": "7a9c2af7-9fc1-4f51-a4f5-2ed915b93039",
   "metadata": {},
   "source": [
    "## Importing the required libraries"
   ]
  },
  {
   "cell_type": "code",
   "execution_count": 1,
   "id": "1b4a8657-0245-4eaf-b11f-233891dc8849",
   "metadata": {},
   "outputs": [],
   "source": [
    "import pandas as pd\n",
    "import json"
   ]
  },
  {
   "cell_type": "markdown",
   "id": "8e1b7c11-eca7-4b21-8ad5-45626b1afb47",
   "metadata": {},
   "source": [
    "## Processing `True.xlsx`"
   ]
  },
  {
   "cell_type": "markdown",
   "id": "933bc0ff-cb6c-4bc3-b097-b199ccf01083",
   "metadata": {},
   "source": [
    "### Loading the data into a dataframe"
   ]
  },
  {
   "cell_type": "code",
   "execution_count": 2,
   "id": "7d6c4cad-4b6b-438c-a617-27a22f7afeed",
   "metadata": {},
   "outputs": [],
   "source": [
    "df_true = pd.read_excel('True.xlsx')"
   ]
  },
  {
   "cell_type": "code",
   "execution_count": 3,
   "id": "a14dbfa1-6752-4975-ad79-e2ccdbb2e9e2",
   "metadata": {},
   "outputs": [
    {
     "data": {
      "text/html": [
       "<div>\n",
       "<style scoped>\n",
       "    .dataframe tbody tr th:only-of-type {\n",
       "        vertical-align: middle;\n",
       "    }\n",
       "\n",
       "    .dataframe tbody tr th {\n",
       "        vertical-align: top;\n",
       "    }\n",
       "\n",
       "    .dataframe thead th {\n",
       "        text-align: right;\n",
       "    }\n",
       "</style>\n",
       "<table border=\"1\" class=\"dataframe\">\n",
       "  <thead>\n",
       "    <tr style=\"text-align: right;\">\n",
       "      <th></th>\n",
       "      <th>title</th>\n",
       "      <th>text</th>\n",
       "      <th>subject</th>\n",
       "      <th>date</th>\n",
       "    </tr>\n",
       "  </thead>\n",
       "  <tbody>\n",
       "    <tr>\n",
       "      <th>0</th>\n",
       "      <td>As U.S. budget fight looms, Republicans flip t...</td>\n",
       "      <td>WASHINGTON (Reuters) - The head of a conservat...</td>\n",
       "      <td>politicsNews</td>\n",
       "      <td>December 31, 2017</td>\n",
       "    </tr>\n",
       "    <tr>\n",
       "      <th>1</th>\n",
       "      <td>U.S. military to accept transgender recruits o...</td>\n",
       "      <td>WASHINGTON (Reuters) - Transgender people will...</td>\n",
       "      <td>politicsNews</td>\n",
       "      <td>December 29, 2017</td>\n",
       "    </tr>\n",
       "    <tr>\n",
       "      <th>2</th>\n",
       "      <td>Senior U.S. Republican senator: 'Let Mr. Muell...</td>\n",
       "      <td>WASHINGTON (Reuters) - The special counsel inv...</td>\n",
       "      <td>politicsNews</td>\n",
       "      <td>December 31, 2017</td>\n",
       "    </tr>\n",
       "    <tr>\n",
       "      <th>3</th>\n",
       "      <td>FBI Russia probe helped by Australian diplomat...</td>\n",
       "      <td>WASHINGTON (Reuters) - Trump campaign adviser ...</td>\n",
       "      <td>politicsNews</td>\n",
       "      <td>December 30, 2017</td>\n",
       "    </tr>\n",
       "    <tr>\n",
       "      <th>4</th>\n",
       "      <td>Trump wants Postal Service to charge 'much mor...</td>\n",
       "      <td>SEATTLE/WASHINGTON (Reuters) - President Donal...</td>\n",
       "      <td>politicsNews</td>\n",
       "      <td>December 29, 2017</td>\n",
       "    </tr>\n",
       "    <tr>\n",
       "      <th>...</th>\n",
       "      <td>...</td>\n",
       "      <td>...</td>\n",
       "      <td>...</td>\n",
       "      <td>...</td>\n",
       "    </tr>\n",
       "    <tr>\n",
       "      <th>21412</th>\n",
       "      <td>'Fully committed' NATO backs new U.S. approach...</td>\n",
       "      <td>BRUSSELS (Reuters) - NATO allies on Tuesday we...</td>\n",
       "      <td>worldnews</td>\n",
       "      <td>August 22, 2017</td>\n",
       "    </tr>\n",
       "    <tr>\n",
       "      <th>21413</th>\n",
       "      <td>LexisNexis withdrew two products from Chinese ...</td>\n",
       "      <td>LONDON (Reuters) - LexisNexis, a provider of l...</td>\n",
       "      <td>worldnews</td>\n",
       "      <td>August 22, 2017</td>\n",
       "    </tr>\n",
       "    <tr>\n",
       "      <th>21414</th>\n",
       "      <td>Minsk cultural hub becomes haven from authorities</td>\n",
       "      <td>MINSK (Reuters) - In the shadow of disused Sov...</td>\n",
       "      <td>worldnews</td>\n",
       "      <td>August 22, 2017</td>\n",
       "    </tr>\n",
       "    <tr>\n",
       "      <th>21415</th>\n",
       "      <td>Vatican upbeat on possibility of Pope Francis ...</td>\n",
       "      <td>MOSCOW (Reuters) - Vatican Secretary of State ...</td>\n",
       "      <td>worldnews</td>\n",
       "      <td>August 22, 2017</td>\n",
       "    </tr>\n",
       "    <tr>\n",
       "      <th>21416</th>\n",
       "      <td>Indonesia to buy $1.14 billion worth of Russia...</td>\n",
       "      <td>JAKARTA (Reuters) - Indonesia will buy 11 Sukh...</td>\n",
       "      <td>worldnews</td>\n",
       "      <td>August 22, 2017</td>\n",
       "    </tr>\n",
       "  </tbody>\n",
       "</table>\n",
       "<p>21417 rows × 4 columns</p>\n",
       "</div>"
      ],
      "text/plain": [
       "                                                   title  \\\n",
       "0      As U.S. budget fight looms, Republicans flip t...   \n",
       "1      U.S. military to accept transgender recruits o...   \n",
       "2      Senior U.S. Republican senator: 'Let Mr. Muell...   \n",
       "3      FBI Russia probe helped by Australian diplomat...   \n",
       "4      Trump wants Postal Service to charge 'much mor...   \n",
       "...                                                  ...   \n",
       "21412  'Fully committed' NATO backs new U.S. approach...   \n",
       "21413  LexisNexis withdrew two products from Chinese ...   \n",
       "21414  Minsk cultural hub becomes haven from authorities   \n",
       "21415  Vatican upbeat on possibility of Pope Francis ...   \n",
       "21416  Indonesia to buy $1.14 billion worth of Russia...   \n",
       "\n",
       "                                                    text       subject  \\\n",
       "0      WASHINGTON (Reuters) - The head of a conservat...  politicsNews   \n",
       "1      WASHINGTON (Reuters) - Transgender people will...  politicsNews   \n",
       "2      WASHINGTON (Reuters) - The special counsel inv...  politicsNews   \n",
       "3      WASHINGTON (Reuters) - Trump campaign adviser ...  politicsNews   \n",
       "4      SEATTLE/WASHINGTON (Reuters) - President Donal...  politicsNews   \n",
       "...                                                  ...           ...   \n",
       "21412  BRUSSELS (Reuters) - NATO allies on Tuesday we...     worldnews   \n",
       "21413  LONDON (Reuters) - LexisNexis, a provider of l...     worldnews   \n",
       "21414  MINSK (Reuters) - In the shadow of disused Sov...     worldnews   \n",
       "21415  MOSCOW (Reuters) - Vatican Secretary of State ...     worldnews   \n",
       "21416  JAKARTA (Reuters) - Indonesia will buy 11 Sukh...     worldnews   \n",
       "\n",
       "                    date  \n",
       "0      December 31, 2017  \n",
       "1      December 29, 2017  \n",
       "2      December 31, 2017  \n",
       "3      December 30, 2017  \n",
       "4      December 29, 2017  \n",
       "...                  ...  \n",
       "21412    August 22, 2017  \n",
       "21413    August 22, 2017  \n",
       "21414    August 22, 2017  \n",
       "21415    August 22, 2017  \n",
       "21416    August 22, 2017  \n",
       "\n",
       "[21417 rows x 4 columns]"
      ]
     },
     "execution_count": 3,
     "metadata": {},
     "output_type": "execute_result"
    }
   ],
   "source": [
    "df_true"
   ]
  },
  {
   "cell_type": "markdown",
   "id": "7f6363bf-2664-4c61-8ce2-14575cde9c3a",
   "metadata": {},
   "source": [
    "### Converting the dataframe into a JSON string"
   ]
  },
  {
   "cell_type": "code",
   "execution_count": 4,
   "id": "eb8610a0-ccd0-4aa1-9fc0-39150542d9a0",
   "metadata": {},
   "outputs": [],
   "source": [
    "df_true_json = df_true.to_json(orient='index')"
   ]
  },
  {
   "cell_type": "markdown",
   "id": "f1f3ec2a-191f-403e-81d0-72dc33e52a2b",
   "metadata": {},
   "source": [
    "### Parsing the JSON string into a Python dictionary"
   ]
  },
  {
   "cell_type": "code",
   "execution_count": 5,
   "id": "9879f20d-a04b-4543-9001-ec7d38570904",
   "metadata": {},
   "outputs": [],
   "source": [
    "df_true_json_parsed = json.loads(df_true_json)"
   ]
  },
  {
   "cell_type": "markdown",
   "id": "795556af-5996-4b06-9997-26fc48e38214",
   "metadata": {},
   "source": [
    "### Creating a prettified JSON string for improved readability"
   ]
  },
  {
   "cell_type": "code",
   "execution_count": 6,
   "id": "4a98933f-60bd-4a3f-b57a-d3de8aa9ec64",
   "metadata": {},
   "outputs": [],
   "source": [
    "df_true_json_prettified = json.dumps(df_true_json_parsed, indent=4)"
   ]
  },
  {
   "cell_type": "markdown",
   "id": "ab32be61-eef2-4f66-84f1-0ba0ca32fb68",
   "metadata": {},
   "source": [
    "### Saving the prettified JSON string into a file"
   ]
  },
  {
   "cell_type": "code",
   "execution_count": 7,
   "id": "de744cf5-daa0-4c9f-b61a-00d5ce8ba9bb",
   "metadata": {},
   "outputs": [],
   "source": [
    "with open('True_JSON_prettified.json', 'w', encoding='utf8') as file:\n",
    "    file.write(df_true_json_prettified)"
   ]
  },
  {
   "cell_type": "markdown",
   "id": "64252bae-52d7-460d-94fd-816578706399",
   "metadata": {},
   "source": [
    "### Non-prettified version"
   ]
  },
  {
   "cell_type": "code",
   "execution_count": 8,
   "id": "a4d7bf94-3249-4ada-bad3-ea5fa8728547",
   "metadata": {},
   "outputs": [],
   "source": [
    "df_true.to_json('True_JSON.json', orient='index')"
   ]
  },
  {
   "cell_type": "markdown",
   "id": "629624b2-2559-44df-a498-0a1085253057",
   "metadata": {},
   "source": [
    "## Processing `Fake.xlsx`"
   ]
  },
  {
   "cell_type": "markdown",
   "id": "1a789e60-37d2-4ace-8fe3-1e6037eff43b",
   "metadata": {},
   "source": [
    "### Loading the data into a dataframe"
   ]
  },
  {
   "cell_type": "code",
   "execution_count": 9,
   "id": "1e70ba3f-7170-4699-a13a-a0622703a315",
   "metadata": {},
   "outputs": [],
   "source": [
    "df_fake = pd.read_excel('Fake.xlsx')"
   ]
  },
  {
   "cell_type": "code",
   "execution_count": 10,
   "id": "7519e605-afb1-4858-890f-1076249f909b",
   "metadata": {},
   "outputs": [
    {
     "data": {
      "text/html": [
       "<div>\n",
       "<style scoped>\n",
       "    .dataframe tbody tr th:only-of-type {\n",
       "        vertical-align: middle;\n",
       "    }\n",
       "\n",
       "    .dataframe tbody tr th {\n",
       "        vertical-align: top;\n",
       "    }\n",
       "\n",
       "    .dataframe thead th {\n",
       "        text-align: right;\n",
       "    }\n",
       "</style>\n",
       "<table border=\"1\" class=\"dataframe\">\n",
       "  <thead>\n",
       "    <tr style=\"text-align: right;\">\n",
       "      <th></th>\n",
       "      <th>title</th>\n",
       "      <th>text</th>\n",
       "      <th>subject</th>\n",
       "      <th>date</th>\n",
       "    </tr>\n",
       "  </thead>\n",
       "  <tbody>\n",
       "    <tr>\n",
       "      <th>0</th>\n",
       "      <td>Donald Trump Sends Out Embarrassing New Year’...</td>\n",
       "      <td>Donald Trump just couldn t wish all Americans ...</td>\n",
       "      <td>News</td>\n",
       "      <td>December 31, 2017</td>\n",
       "    </tr>\n",
       "    <tr>\n",
       "      <th>1</th>\n",
       "      <td>Drunk Bragging Trump Staffer Started Russian ...</td>\n",
       "      <td>House Intelligence Committee Chairman Devin Nu...</td>\n",
       "      <td>News</td>\n",
       "      <td>December 31, 2017</td>\n",
       "    </tr>\n",
       "    <tr>\n",
       "      <th>2</th>\n",
       "      <td>Sheriff David Clarke Becomes An Internet Joke...</td>\n",
       "      <td>On Friday, it was revealed that former Milwauk...</td>\n",
       "      <td>News</td>\n",
       "      <td>December 30, 2017</td>\n",
       "    </tr>\n",
       "    <tr>\n",
       "      <th>3</th>\n",
       "      <td>Trump Is So Obsessed He Even Has Obama’s Name...</td>\n",
       "      <td>On Christmas day, Donald Trump announced that ...</td>\n",
       "      <td>News</td>\n",
       "      <td>December 29, 2017</td>\n",
       "    </tr>\n",
       "    <tr>\n",
       "      <th>4</th>\n",
       "      <td>Pope Francis Just Called Out Donald Trump Dur...</td>\n",
       "      <td>Pope Francis used his annual Christmas Day mes...</td>\n",
       "      <td>News</td>\n",
       "      <td>December 25, 2017</td>\n",
       "    </tr>\n",
       "    <tr>\n",
       "      <th>...</th>\n",
       "      <td>...</td>\n",
       "      <td>...</td>\n",
       "      <td>...</td>\n",
       "      <td>...</td>\n",
       "    </tr>\n",
       "    <tr>\n",
       "      <th>23518</th>\n",
       "      <td>McPain: John McCain Furious That Iran Treated ...</td>\n",
       "      <td>21st Century Wire says As 21WIRE reported earl...</td>\n",
       "      <td>Middle-east</td>\n",
       "      <td>January 16, 2016</td>\n",
       "    </tr>\n",
       "    <tr>\n",
       "      <th>23519</th>\n",
       "      <td>JUSTICE? Yahoo Settles E-mail Privacy Class-ac...</td>\n",
       "      <td>21st Century Wire says It s a familiar theme. ...</td>\n",
       "      <td>Middle-east</td>\n",
       "      <td>January 16, 2016</td>\n",
       "    </tr>\n",
       "    <tr>\n",
       "      <th>23520</th>\n",
       "      <td>Sunnistan: US and Allied ‘Safe Zone’ Plan to T...</td>\n",
       "      <td>Patrick Henningsen  21st Century WireRemember ...</td>\n",
       "      <td>Middle-east</td>\n",
       "      <td>January 15, 2016</td>\n",
       "    </tr>\n",
       "    <tr>\n",
       "      <th>23521</th>\n",
       "      <td>How to Blow $700 Million: Al Jazeera America F...</td>\n",
       "      <td>21st Century Wire says Al Jazeera America will...</td>\n",
       "      <td>Middle-east</td>\n",
       "      <td>January 14, 2016</td>\n",
       "    </tr>\n",
       "    <tr>\n",
       "      <th>23522</th>\n",
       "      <td>10 U.S. Navy Sailors Held by Iranian Military ...</td>\n",
       "      <td>21st Century Wire says As 21WIRE predicted in ...</td>\n",
       "      <td>Middle-east</td>\n",
       "      <td>January 12, 2016</td>\n",
       "    </tr>\n",
       "  </tbody>\n",
       "</table>\n",
       "<p>23523 rows × 4 columns</p>\n",
       "</div>"
      ],
      "text/plain": [
       "                                                   title  \\\n",
       "0       Donald Trump Sends Out Embarrassing New Year’...   \n",
       "1       Drunk Bragging Trump Staffer Started Russian ...   \n",
       "2       Sheriff David Clarke Becomes An Internet Joke...   \n",
       "3       Trump Is So Obsessed He Even Has Obama’s Name...   \n",
       "4       Pope Francis Just Called Out Donald Trump Dur...   \n",
       "...                                                  ...   \n",
       "23518  McPain: John McCain Furious That Iran Treated ...   \n",
       "23519  JUSTICE? Yahoo Settles E-mail Privacy Class-ac...   \n",
       "23520  Sunnistan: US and Allied ‘Safe Zone’ Plan to T...   \n",
       "23521  How to Blow $700 Million: Al Jazeera America F...   \n",
       "23522  10 U.S. Navy Sailors Held by Iranian Military ...   \n",
       "\n",
       "                                                    text      subject  \\\n",
       "0      Donald Trump just couldn t wish all Americans ...         News   \n",
       "1      House Intelligence Committee Chairman Devin Nu...         News   \n",
       "2      On Friday, it was revealed that former Milwauk...         News   \n",
       "3      On Christmas day, Donald Trump announced that ...         News   \n",
       "4      Pope Francis used his annual Christmas Day mes...         News   \n",
       "...                                                  ...          ...   \n",
       "23518  21st Century Wire says As 21WIRE reported earl...  Middle-east   \n",
       "23519  21st Century Wire says It s a familiar theme. ...  Middle-east   \n",
       "23520  Patrick Henningsen  21st Century WireRemember ...  Middle-east   \n",
       "23521  21st Century Wire says Al Jazeera America will...  Middle-east   \n",
       "23522  21st Century Wire says As 21WIRE predicted in ...  Middle-east   \n",
       "\n",
       "                    date  \n",
       "0      December 31, 2017  \n",
       "1      December 31, 2017  \n",
       "2      December 30, 2017  \n",
       "3      December 29, 2017  \n",
       "4      December 25, 2017  \n",
       "...                  ...  \n",
       "23518   January 16, 2016  \n",
       "23519   January 16, 2016  \n",
       "23520   January 15, 2016  \n",
       "23521   January 14, 2016  \n",
       "23522   January 12, 2016  \n",
       "\n",
       "[23523 rows x 4 columns]"
      ]
     },
     "execution_count": 10,
     "metadata": {},
     "output_type": "execute_result"
    }
   ],
   "source": [
    "df_fake"
   ]
  },
  {
   "cell_type": "markdown",
   "id": "981a033f-152c-4c61-96a7-b7d0616d86fb",
   "metadata": {},
   "source": [
    "### Converting the dataframe into a JSON string"
   ]
  },
  {
   "cell_type": "code",
   "execution_count": 11,
   "id": "0d295162-fc19-4ccc-9b59-2e71e486919f",
   "metadata": {},
   "outputs": [],
   "source": [
    "df_fake_json = df_fake.to_json(orient='index')"
   ]
  },
  {
   "cell_type": "markdown",
   "id": "8c03b423-772c-41cc-8633-1403243245e4",
   "metadata": {},
   "source": [
    "### Parsing the JSON string into a Python dictionary"
   ]
  },
  {
   "cell_type": "code",
   "execution_count": 12,
   "id": "cdceb8a9-5932-496a-bd04-ccaa84e9d60a",
   "metadata": {},
   "outputs": [],
   "source": [
    "df_fake_json_parsed = json.loads(df_fake_json)"
   ]
  },
  {
   "cell_type": "markdown",
   "id": "68497d09-7caf-4abc-8366-b30b59a4c44a",
   "metadata": {},
   "source": [
    "### Creating a prettified JSON string for improved readability"
   ]
  },
  {
   "cell_type": "code",
   "execution_count": 13,
   "id": "7d8565f2-c61f-42cc-996d-b6f1fb4210d9",
   "metadata": {},
   "outputs": [],
   "source": [
    "df_fake_json_prettified = json.dumps(df_fake_json_parsed, indent=4)"
   ]
  },
  {
   "cell_type": "markdown",
   "id": "4d588d93-95ee-425f-82d7-8097b27cde06",
   "metadata": {},
   "source": [
    "### Saving the prettified JSON string into a file"
   ]
  },
  {
   "cell_type": "code",
   "execution_count": 14,
   "id": "786eb457-e6af-4cd3-816d-b53a55256691",
   "metadata": {},
   "outputs": [],
   "source": [
    "with open('Fake_JSON_prettified.json', 'w', encoding='utf8') as file:\n",
    "    file.write(df_fake_json_prettified)"
   ]
  },
  {
   "cell_type": "markdown",
   "id": "6a98c958-bf31-404d-8fe0-5d933c534882",
   "metadata": {},
   "source": [
    "### Non-prettified version"
   ]
  },
  {
   "cell_type": "code",
   "execution_count": 15,
   "id": "597755a8-9a77-467c-bf17-987989e2a7bc",
   "metadata": {},
   "outputs": [],
   "source": [
    "df_fake.to_json('Fake_JSON.json', orient='index')"
   ]
  },
  {
   "cell_type": "markdown",
   "id": "39b9ff1b-dc7f-4586-9061-87aa53672870",
   "metadata": {},
   "source": [
    "## Results"
   ]
  },
  {
   "cell_type": "markdown",
   "id": "19d8c223-083f-433d-970f-608e8954c424",
   "metadata": {},
   "source": [
    "- [True_JSON_prettified.json](https://laelgelcexceltotxtkauffmann.s3.sa-east-1.amazonaws.com/True_JSON_prettified.json)\r\n",
    "- [True_JSON.json](https://laelgelcexceltotxtkauffmann.s3.sa-east-1.amazonaws.com/True_JSON.json)\r\n",
    "- [Fake_JSON_prettified.json](https://laelgelcexceltotxtkauffmann.s3.sa-east-1.amazonaws.com/Fake_JSON_prettified.json)\r\n",
    "- [Fake_JSON.json](https://laelgelcexceltotxtkauffmann.s3.sa-east-1.amazonaws.com/Fake_JSON.json)on)on)"
   ]
  },
  {
   "cell_type": "code",
   "execution_count": null,
   "id": "78825755-0cce-4f71-b6e1-df7d9846c6c4",
   "metadata": {},
   "outputs": [],
   "source": []
  }
 ],
 "metadata": {
  "kernelspec": {
   "display_name": "Python 3 (ipykernel)",
   "language": "python",
   "name": "python3"
  },
  "language_info": {
   "codemirror_mode": {
    "name": "ipython",
    "version": 3
   },
   "file_extension": ".py",
   "mimetype": "text/x-python",
   "name": "python",
   "nbconvert_exporter": "python",
   "pygments_lexer": "ipython3",
   "version": "3.11.8"
  }
 },
 "nbformat": 4,
 "nbformat_minor": 5
}
