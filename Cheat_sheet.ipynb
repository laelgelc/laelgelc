{
 "cells": [
  {
   "cell_type": "markdown",
   "id": "810d9f10-ec19-4b09-8f90-e983e460b319",
   "metadata": {},
   "source": [
    "<center>\n",
    "<img src=\"https://laelgelcpublic.s3.sa-east-1.amazonaws.com/lael_50_years_narrow_white.png.no_years.400px_96dpi.png\" width=\"300\" alt=\"LAEL 50 years logo\">\n",
    "<h3>APPLIED LINGUISTICS GRADUATE PROGRAMME (LAEL)</h3>\n",
    "</center>\n",
    "<hr>"
   ]
  },
  {
   "cell_type": "markdown",
   "id": "888c2c96-2fc3-4a1a-995b-c388036a2a15",
   "metadata": {},
   "source": [
    "# Cheat sheet"
   ]
  },
  {
   "cell_type": "markdown",
   "id": "7a9c2af7-9fc1-4f51-a4f5-2ed915b93039",
   "metadata": {},
   "source": [
    "## Archiving"
   ]
  },
  {
   "cell_type": "code",
   "execution_count": null,
   "id": "0a8fab8c-10c9-4085-ac0a-2e5ff4c2df57",
   "metadata": {},
   "outputs": [],
   "source": [
    "# Creates a compressed archive file of the contents of the `cl_images` directory\n",
    "tar czvf cl_images_eyamrog.tar.gz cl_images\n",
    "\n",
    "# Creates a compressed archive file. The `-C` option changes the directory to `cl_images` before adding its contents to the archive file\n",
    "tar czvf cl_images_eyamrog.tar.gz -C cl_images .\n",
    "\n",
    "# Extracts the contents of the archive file\n",
    "tar xzvf cl_images_eyamrog.tar.gz\n",
    "\n",
    "# Extracts the contents of the archive file. The `-C` option is used to change the directory to `cl_images` before extracting the files from the archive \n",
    "mkdir cl_images\n",
    "tar xzvf cl_images_eyamrog.tar.gz -C cl_images\n",
    "\n",
    "# Installs `zip` and ùnzip` commands\n",
    "sudo apt install -y zip\n",
    "\n",
    "# Creates a compressed `.zip` file of the contents of the `directory` directory\n",
    "zip -r directory.zip /path/to/directory\n",
    "\n",
    "# Extracts the contents of the `.zip` archive into the `directory` directory\n",
    "mkdir /path/to/directory\n",
    "unzip file.zip -d /path/to/directory"
   ]
  },
  {
   "cell_type": "markdown",
   "id": "e4f28a2a-bdcb-44b4-ac86-0a6c95097097",
   "metadata": {},
   "source": [
    "## Git"
   ]
  },
  {
   "cell_type": "code",
   "execution_count": null,
   "id": "7ad044d8-3feb-465b-9210-b73481e3573b",
   "metadata": {},
   "outputs": [],
   "source": [
    "git clone https://github.com/laelgelc/cl_images.git\n",
    "\n",
    "git config --global --edit\n",
    "\n",
    "git status\n",
    "\n",
    "git add <file>\n",
    "\n",
    "git add .\n",
    "\n",
    "git stash\n",
    "\n",
    "git pull\n",
    "\n",
    "git commit -m \"20231221-1156\"\n",
    "\n",
    "git push"
   ]
  },
  {
   "cell_type": "markdown",
   "id": "25978d0c-3455-4db8-875f-4b6dfbb0717e",
   "metadata": {},
   "source": [
    "## Amazon S3 Bucket policy for bucket public access\n",
    "Replace 'laelgelcclimages' by the corresponding bucket name"
   ]
  },
  {
   "cell_type": "code",
   "execution_count": null,
   "id": "085165da-0f38-437d-bc59-755f82595df5",
   "metadata": {},
   "outputs": [],
   "source": [
    "{\n",
    "    \"Version\": \"2012-10-17\",\n",
    "    \"Statement\": [\n",
    "        {\n",
    "            \"Effect\": \"Allow\",\n",
    "            \"Principal\": \"*\",\n",
    "            \"Action\": \"s3:GetObject\",\n",
    "            \"Resource\": \"arn:aws:s3:::laelgelcclimages/*\"\n",
    "        }\n",
    "    ]\n",
    "}"
   ]
  },
  {
   "cell_type": "markdown",
   "id": "78cf6db5-d36f-42dd-a94d-c72591c441ff",
   "metadata": {},
   "source": [
    "## Google Cloud [Application Default Credentials](https://cloud.google.com/docs/authentication/provide-credentials-adc)"
   ]
  },
  {
   "cell_type": "code",
   "execution_count": null,
   "id": "3228999c-6dbf-4571-b586-71f40aa8568a",
   "metadata": {},
   "outputs": [],
   "source": [
    "ubuntu@ip-172-31-19-178:~/my_env$ source bin/activate\n",
    "(my_env) ubuntu@ip-172-31-19-178:~/my_env$ gcloud auth application-default login\n",
    "Go to the following link in your browser:\n",
    "\n",
    "    https://<omitted>\n",
    "\n",
    "Enter authorization code: <omitted>\n",
    "\n",
    "Credentials saved to file: [/home/ubuntu/.config/gcloud/application_default_credentials.json]\n",
    "\n",
    "These credentials will be used by any library that requests Application Default Credentials (ADC).\n",
    "WARNING: \n",
    "Cannot find a quota project to add to ADC. You might receive a \"quota exceeded\" or \"API not enabled\" error. Run $ gcloud auth application-default set-quota-project to add a quota project.\n",
    "(my_env) ubuntu@ip-172-31-19-178:~/my_env$ gcloud auth application-default set-quota-project <omitted>\n",
    "\n",
    "Credentials saved to file: [/home/ubuntu/.config/gcloud/application_default_credentials.json]\n",
    "\n",
    "These credentials will be used by any library that requests Application Default Credentials (ADC).\n",
    "\n",
    "Quota project \"<omitted>\" was added to ADC which can be used by Google client libraries for billing and quota. Note that some services may still bill the project owning the resource.\n",
    "(my_env) ubuntu@ip-172-31-19-178:~/my_env$ "
   ]
  },
  {
   "cell_type": "markdown",
   "id": "b256e3a0",
   "metadata": {},
   "source": [
    "## OpenSSH"
   ]
  },
  {
   "cell_type": "code",
   "execution_count": null,
   "id": "329037ce",
   "metadata": {
    "vscode": {
     "languageId": "plaintext"
    }
   },
   "outputs": [],
   "source": [
    "eyamrog@RogLet-ASUS:~$ sudo apt install putty-tools\n",
    "eyamrog@RogLet-ASUS:~$ cp /mnt/c/Users/eyamr/OneDrive/Documentos/0-Technology/LAELGELC20231117.ppk .\n",
    "eyamrog@RogLet-ASUS:~$ puttygen LAELGELC20231117.ppk -O private-openssh -o LAELGELC20231117.pem\n",
    "eyamrog@RogLet-ASUS:~$ chmod 400 LAELGELC20231117.pem\n",
    "eyamrog@RogLet-ASUS:~$ eval \"$(ssh-agent -s)\"\n",
    "Agent pid 924\n",
    "eyamrog@RogLet-ASUS:~$ ssh-add LAELGELC20231117.pem\n",
    "Identity added: LAELGELC20231117.pem (LAELGELC20231117.pem)\n",
    "eyamrog@RogLet-ASUS:~$ ssh -A -t ubuntu@ec2-18-231-160-175.sa-east-1.compute.amazonaws.com\n",
    "The authenticity of host 'ec2-18-231-160-175.sa-east-1.compute.amazonaws.com (18.231.160.175)' can't be established.\n",
    "ED25519 key fingerprint is SHA256:a/MtF4Zlyzxv9OIljp3Jr/BY2emQcl/6ZFHETKkmrjk.\n",
    "This key is not known by any other names\n",
    "Are you sure you want to continue connecting (yes/no/[fingerprint])? yes\n",
    "Warning: Permanently added 'ec2-18-231-160-175.sa-east-1.compute.amazonaws.com' (ED25519) to the list of known hosts.\n",
    "Welcome to Ubuntu 22.04.3 LTS (GNU/Linux 6.2.0-1016-aws x86_64)\n",
    "\n",
    " * Documentation:  https://help.ubuntu.com\n",
    " * Management:     https://landscape.canonical.com\n",
    " * Support:        https://ubuntu.com/advantage\n",
    "\n",
    "  System information as of Sat Dec  2 15:29:51 UTC 2023\n",
    "\n",
    "  System load:  0.080078125       Processes:             96\n",
    "  Usage of /:   22.0% of 9.51GB   Users logged in:       0\n",
    "  Memory usage: 20%               IPv4 address for eth0: 172.31.36.94\n",
    "  Swap usage:   0%\n",
    "\n",
    "\n",
    "Expanded Security Maintenance for Applications is not enabled.\n",
    "\n",
    "0 updates can be applied immediately.\n",
    "\n",
    "Enable ESM Apps to receive additional future security updates.\n",
    "See https://ubuntu.com/esm or run: sudo pro status\n",
    "\n",
    "\n",
    "Last login: Sat Dec  2 15:14:29 2023 from 189.120.73.98\n",
    "ubuntu@ip-172-31-36-94:~$ "
   ]
  },
  {
   "cell_type": "markdown",
   "id": "0c524f4e",
   "metadata": {},
   "source": [
    "## AWS CLI"
   ]
  },
  {
   "cell_type": "code",
   "execution_count": null,
   "id": "0b00707a",
   "metadata": {
    "vscode": {
     "languageId": "plaintext"
    }
   },
   "outputs": [],
   "source": [
    "# Listing the objects in a bucket with corresponding sizes and redirecting the output into a file\n",
    "aws s3 ls s3://laelgelctweets/ --human-readable --summarize > files.txt\n",
    "\n",
    "# Creating folders in a bucket\n",
    "PS C:\\Users\\eyamr> aws s3api put-object --bucket gelctweets --key 2019_01/\n",
    "{\n",
    "    \"ETag\": \"\\\"d41d8cd98f00b204e9800998ecf8427e\\\"\",\n",
    "    \"ServerSideEncryption\": \"AES256\"\n",
    "}\n",
    "\n"
   ]
  },
  {
   "cell_type": "markdown",
   "id": "21fc70b0",
   "metadata": {},
   "source": [
    "## Anaconda Cloud Notebooks"
   ]
  },
  {
   "cell_type": "code",
   "execution_count": null,
   "id": "1e83691d",
   "metadata": {
    "vscode": {
     "languageId": "plaintext"
    }
   },
   "outputs": [],
   "source": [
    "(base) 22:41 ~/LAEL GELC $ conda create --name env20231215 python=3.10 ipykernel -y\n",
    "\n",
    "(base) 22:47 ~/LAEL GELC $ conda activate env20231215                                                                                                                           \n",
    "(env20231215) 22:47 ~/LAEL GELC $ conda list   \n",
    "\n",
    "(env20231215) 22:57 ~/LAEL GELC $ conda install -c conda-forge pysmartdl\n",
    "\n",
    "(env20231215) 22:50 ~/LAEL GELC $ conda install pyspark\n"
   ]
  },
  {
   "cell_type": "markdown",
   "id": "34527c32",
   "metadata": {},
   "source": [
    "## Code snippets"
   ]
  },
  {
   "cell_type": "markdown",
   "id": "910e3f92",
   "metadata": {},
   "source": [
    "### Setup"
   ]
  },
  {
   "cell_type": "code",
   "execution_count": null,
   "id": "97d9b092",
   "metadata": {
    "vscode": {
     "languageId": "plaintext"
    }
   },
   "outputs": [],
   "source": [
    "# Attach the IAM Role 'S3-Admin-Access' to the Ubuntu EC2 instance\n",
    "sudo apt update\n",
    "sudo apt upgrade -y\n",
    "# Reboot the EC2 instance from the AWS Console\n",
    "sudo apt install -y awscli\n",
    "# Set up Python virtual environment\n",
    "sudo apt install -y python3-pip\n",
    "sudo apt install -y python3-venv\n",
    "python3 -m venv my_env\n",
    "source \"$HOME\"/my_env/bin/activate\n"
   ]
  },
  {
   "cell_type": "markdown",
   "id": "14824e33",
   "metadata": {},
   "source": [
    "### Consolidating multiple JSONL files into one JSONL file and transferring them"
   ]
  },
  {
   "cell_type": "markdown",
   "id": "5c4e8ff5",
   "metadata": {},
   "source": [
    "#### Code snippets"
   ]
  },
  {
   "cell_type": "markdown",
   "id": "57c6bf58",
   "metadata": {},
   "source": [
    "##### Using `cat`"
   ]
  },
  {
   "cell_type": "code",
   "execution_count": null,
   "id": "63e5c6ce",
   "metadata": {
    "vscode": {
     "languageId": "plaintext"
    }
   },
   "outputs": [],
   "source": [
    "mkdir mari\n",
    "\n",
    "cd mari\n",
    "\n",
    "aws s3 cp s3://gelcawsemr/2019_01/filtered_tweets.jsonl/ . --recursive\n",
    "\n",
    "find . -type f | wc -l\n",
    "\n",
    "cat *.json > mari201901.jsonl\n",
    "\n",
    "aws s3 cp mari201901.jsonl s3://laelgelcawsemrmariana/\n",
    "\n",
    "rm *\n",
    "\n",
    "sudo apt install jq -y\n",
    "\n",
    "find /path/to/directory -name '*.json' -print0 | xargs -0 jq -s '.' > filtered_tweets.jsonl\n",
    "\n",
    "cat *.json > mari201901.jsonl\n",
    "\n",
    "aws s3 cp mari201901.jsonl s3://laelgelcawsemrmariana/\n"
   ]
  },
  {
   "cell_type": "markdown",
   "id": "7b344f97",
   "metadata": {},
   "source": [
    "##### Using `jq`"
   ]
  },
  {
   "cell_type": "code",
   "execution_count": null,
   "id": "a37463b6",
   "metadata": {
    "vscode": {
     "languageId": "plaintext"
    }
   },
   "outputs": [],
   "source": [
    "sudo apt install -y jq\n",
    "\n",
    "mkdir mari\n",
    "\n",
    "cd mari\n",
    "\n",
    "aws s3 cp s3://gelcawsemr/2019_01/filtered_tweets.jsonl/ . --recursive\n",
    "\n",
    "find . -type f | wc -l\n",
    "\n",
    "find . -name '*.json' -print0 | xargs -0 jq -s '.' > mari201901.jsonl\n",
    "\n",
    "aws s3 cp mari201901.jsonl s3://laelgelcawsemrmariana/\n",
    "\n",
    "rm *\n"
   ]
  },
  {
   "cell_type": "markdown",
   "id": "027fd8fb",
   "metadata": {},
   "source": [
    "#### Via 'consolidate.sh'"
   ]
  },
  {
   "cell_type": "code",
   "execution_count": null,
   "id": "6315ac08",
   "metadata": {
    "vscode": {
     "languageId": "plaintext"
    }
   },
   "outputs": [],
   "source": [
    "#!/bin/bash\n",
    "\n",
    "# Set parameters\n",
    "path=\"2019_03\"\n",
    "filename=\"mari201903.jsonl\"\n",
    "origin_bucket=\"gelcawsemr\"\n",
    "destination_bucket=\"laelgelcawsemrmariana\"\n",
    "\n",
    "# Create input directory\n",
    "mkdir \"$HOME\"/\"$path\"/\n",
    "\n",
    "# Copy JSON files to the input directory\n",
    "aws s3 cp s3://\"$origin_bucket\"/\"$path\"/filtered_tweets.jsonl/ $HOME/\"$path\"/ --recursive\n",
    "\n",
    "# Consolidate the JSON files into a single \n",
    "cat \"$HOME\"/\"$path\"/*.json > $HOME/\"$path\"/\"$filename\"\n",
    "\n",
    "# Copy the consolidated file to the destination bucket\n",
    "aws s3 cp \"$HOME\"/\"$path\"/\"$filename\" s3://\"$destination_bucket\"/\n",
    "\n",
    "# Remove the input directory\n",
    "# rm -r \"$HOME\"/\"$path\"/"
   ]
  },
  {
   "cell_type": "markdown",
   "id": "b403c113-2ae5-4160-a5b6-9f30774d94e8",
   "metadata": {},
   "source": [
    "### Listing Unicode characters"
   ]
  },
  {
   "cell_type": "code",
   "execution_count": null,
   "id": "dbd81bf0-0f1e-4cc1-912a-b5c9fddf0b03",
   "metadata": {},
   "outputs": [],
   "source": [
    "import re\n",
    "from collections import Counter\n",
    "\n",
    "def extract_unicode_characters(text):\n",
    "    # Define the RegEx pattern for matching Unicode characters\n",
    "    pattern = r'\\\\u[0-9A-Fa-f]{4}'\n",
    "    \n",
    "    # Find all matches in the text\n",
    "    matches = re.findall(pattern, text)\n",
    "    \n",
    "    # Count the occurrences of each UNICODE character\n",
    "    char_count = Counter(matches)\n",
    "    \n",
    "    return char_count\n",
    "\n",
    "# Extract Unicode characters and their counts\n",
    "unicode_counts = extract_unicode_characters(df_true_json_prettified)\n",
    "\n",
    "# Print the results\n",
    "for char, count in unicode_counts.items():\n",
    "    print(f'Character {char}: Count = {count}')\n"
   ]
  },
  {
   "cell_type": "markdown",
   "id": "35d03f0d-1492-4763-93cc-9b953b3e9369",
   "metadata": {},
   "source": [
    "### Replacing Unicode characters"
   ]
  },
  {
   "cell_type": "code",
   "execution_count": null,
   "id": "faed7335-f64c-49f9-804c-869b6a134747",
   "metadata": {},
   "outputs": [],
   "source": [
    "df_fake_json_prettified_2 = df_fake_json_prettified.\\\n",
    "replace('\\\\u000b', '').\\\n",
    "replace('\\\\u0026', '&').\\\n",
    "replace('\\\\u003d', '=').\\\n",
    "replace('\\\\u00a0', '').\\\n",
    "replace('\\\\u00a1', '¡').\\\n",
    "replace('\\\\u00a3', '£').\\\n",
    "replace('\\\\u00ad', '').\\\n",
    "replace('\\\\u00af', '¯').\\\n",
    "replace('\\\\u00b0', '°').\\\n",
    "replace('\\\\u00b4', '´').\\\n",
    "replace('\\\\u00bf', '¿').\\\n",
    "replace('\\\\u00c9', 'É').\\\n",
    "replace('\\\\u00e0', 'à').\\\n",
    "replace('\\\\u00e1', 'á').\\\n",
    "replace('\\\\u00e2', 'â').\\\n",
    "replace('\\\\u00e7', 'ç').\\\n",
    "replace('\\\\u00e9', 'é').\\\n",
    "replace('\\\\u00ea', 'ê').\\\n",
    "replace('\\\\u00eb', 'ë').\\\n",
    "replace('\\\\u00ed', 'í').\\\n",
    "replace('\\\\u00f1', 'ñ').\\\n",
    "replace('\\\\u00f3', 'ó').\\\n",
    "replace('\\\\u00f4', 'ô').\\\n",
    "replace('\\\\u00f6', 'ö').\\\n",
    "replace('\\\\u00fa', 'ú').\\\n",
    "replace('\\\\u00fc', 'ü').\\\n",
    "replace('\\\\u0101', 'ā').\\\n",
    "replace('\\\\u0107', 'ć').\\\n",
    "replace('\\\\u014d', 'ō').\\\n",
    "replace('\\\\u017d', 'Ž').\\\n",
    "replace('\\\\u017e', 'ž').\\\n",
    "replace('\\\\u200a', ' ').\\\n",
    "replace('\\\\u200b', ' ').\\\n",
    "replace('\\\\u200B', ' ').\\\n",
    "replace('\\\\u200e', '').\\\n",
    "replace('\\\\u200f', '').\\\n",
    "replace('\\\\u2013', '–').\\\n",
    "replace('\\\\u2014', '—').\\\n",
    "replace('\\\\u2018', \"'\").\\\n",
    "replace('\\\\u2019', \"'\").\\\n",
    "replace('\\\\u201c', '\"').\\\n",
    "replace('\\\\u201d', '\"').\\\n",
    "replace('\\\\u2022', '•').\\\n",
    "replace('\\\\u2026', '…').\\\n",
    "replace('\\\\u2028', '(LS)').\\\n",
    "replace('\\\\u2029', '(PS)').\\\n",
    "replace('\\\\u202a', '(LRE)').\\\n",
    "replace('\\\\u202c', '').\\\n",
    "replace('\\\\u2032', \"'\").\\\n",
    "replace('\\\\u2033', \"''\").\\\n",
    "replace('\\\\u20ac', '€').\\\n",
    "replace('\\\\u2122', '(TM)').\\\n",
    "replace('\\\\u2611', '☑').\\\n",
    "replace('\\\\u27a1', '➡').\\\n",
    "replace('\\\\u30c4', 'ツ').\\\n",
    "replace('\\\\ufe0f', '◌️').\\\n",
    "replace('\\\\ufeff', '').\\\n",
    "replace('\\\\uffff', '')\n"
   ]
  },
  {
   "cell_type": "markdown",
   "id": "77b3e5d8-363f-440e-9737-67b183b9ec73",
   "metadata": {},
   "source": [
    "### List of Identified Unicode characters"
   ]
  },
  {
   "cell_type": "markdown",
   "id": "d46ea345-cb6a-464d-b6ba-991738076543",
   "metadata": {},
   "source": [
    "[Unicode reference](https://www.compart.com/en/unicode)"
   ]
  },
  {
   "cell_type": "code",
   "execution_count": null,
   "id": "d65cf54e-dde3-488b-9c32-b3faab21d19e",
   "metadata": {},
   "outputs": [],
   "source": [
    "\\u000b = <Line Tabulation> (VT)\n",
    "\\u0026 = Ampersand = &\n",
    "\\u003d = Equals Sign = =\n",
    "\\u00a0 = No-Break Space (NBSP)\n",
    "\\u00a1 = Inverted Exclamation Mark = ¡\n",
    "\\u00a3 = Pound Sign = £\n",
    "\\u00ad = Soft Hyphen (SHY)\n",
    "\\u00af = Macron = ¯\n",
    "\\u00b0 = Degree Sign = °\n",
    "\\u00b4 = Acute Accent = ´\n",
    "\\u00bf = Inverted Question Mark = ¿\n",
    "\\u00c9 = Latin Capital Letter E with Acute = É\n",
    "\\u00e0 = Latin Small Letter A with Grave = à\n",
    "\\u00e1 = Latin Small Letter A with Acute = á\n",
    "\\u00e2 = Latin Small Letter A with Circumflex = â\n",
    "\\u00e7 = Latin Small Letter C with Cedilla = ç\n",
    "\\u00e9 = Latin Small Letter E with Acute = é\n",
    "\\u00ea = Latin Small Letter E with Circumflex = ê\n",
    "\\u00eb = Latin Small Letter E with Diaeresis = ë\n",
    "\\u00ed = Latin Small Letter I with Acute = í\n",
    "\\u00f1 = Latin Small Letter N with Tilde = ñ\n",
    "\\u00f3 = Latin Small Letter O with Acute = ó\n",
    "\\u00f4 = Latin Small Letter O with Circumflex = ô\n",
    "\\u00f6 = Latin Small Letter O with Diaeresis = ö\n",
    "\\u00fa = Latin Small Letter U with Acute = ú\n",
    "\\u00fc = Latin Small Letter U with Diaeresis = ü\n",
    "\\u0101 = Latin Small Letter A with Macron = ā\n",
    "\\u0107 = Latin Small Letter C with Acute = ć\n",
    "\\u014d = Latin Small Letter O with Macron = ō\n",
    "\\u017d = Latin Capital Letter Z with Caron = Ž\n",
    "\\u017e = Latin Small Letter Z with Caron = ž\n",
    "\\u200a = Hair Space = ' '\n",
    "\\u200b = Zero Width Space (ZWSP) = ' '\n",
    "\\u200B = Zero Width Space (ZWSP) = ' '\n",
    "\\u200e = Left-to-Right Mark (LRM)\n",
    "\\u200f = Right-to-Left Mark (RLM)\n",
    "\\u2013 = En Dash = –\n",
    "\\u2014 = Em Dash = —\n",
    "\\u2018 = Left Single Quotation Mark = '\n",
    "\\u2019 = Right Single Quotation Mark = '\n",
    "\\u201c = Left Double Quotation Mark = \"\n",
    "\\u201d = Right Double Quotation Mark = \"\n",
    "\\u2022 = Bullet = •\n",
    "\\u2026 = Horizontal Ellipsis = …\n",
    "\\u2028 = Line Separator = (LS)\n",
    "\\u2029 = Paragraph Separator = (PS)\n",
    "\\u202a = Left-to-Right Embedding (LRE)\n",
    "\\u202c = Pop Directional Formatting (PDF)\n",
    "\\u2032 = Prime = '\n",
    "\\u2033 = Double Prime = ''\n",
    "\\u20ac = Euro Sign = €\n",
    "\\u2122 = Trade Mark Sign = (TM)\n",
    "\\u2611 = Ballot Box with Check = ☑\n",
    "\\u27a1 = Black Rightwards Arrow = ➡\n",
    "\\u30c4 = Katakana Letter Tu = ツ\n",
    "\\ufe0f = Variation Selector-16 (VS16) = ◌️\n",
    "\\ufeff = Zero Width No-Break Space (BOM, ZWNBSP)\n",
    "\\uffff = Undefined Character\n"
   ]
  }
 ],
 "metadata": {
  "kernelspec": {
   "display_name": "Python 3 (ipykernel)",
   "language": "python",
   "name": "python3"
  },
  "language_info": {
   "codemirror_mode": {
    "name": "ipython",
    "version": 3
   },
   "file_extension": ".py",
   "mimetype": "text/x-python",
   "name": "python",
   "nbconvert_exporter": "python",
   "pygments_lexer": "ipython3",
   "version": "3.11.8"
  }
 },
 "nbformat": 4,
 "nbformat_minor": 5
}
