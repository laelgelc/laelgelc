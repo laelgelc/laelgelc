{
 "cells": [
  {
   "cell_type": "markdown",
   "id": "810d9f10-ec19-4b09-8f90-e983e460b319",
   "metadata": {},
   "source": [
    "<center>\n",
    "<img src=\"https://laelgelcpublic.s3.sa-east-1.amazonaws.com/lael_50_years_narrow_white.png.no_years.400px_96dpi.png\" width=\"300\" alt=\"LAEL 50 years logo\">\n",
    "<h3>APPLIED LINGUISTICS GRADUATE PROGRAMME (LAEL)</h3>\n",
    "</center>\n",
    "<hr>"
   ]
  },
  {
   "cell_type": "markdown",
   "id": "888c2c96-2fc3-4a1a-995b-c388036a2a15",
   "metadata": {},
   "source": [
    "# Cheat sheet"
   ]
  },
  {
   "cell_type": "markdown",
   "id": "7a9c2af7-9fc1-4f51-a4f5-2ed915b93039",
   "metadata": {},
   "source": [
    "## Archiving"
   ]
  },
  {
   "cell_type": "code",
   "execution_count": null,
   "id": "0a8fab8c-10c9-4085-ac0a-2e5ff4c2df57",
   "metadata": {},
   "outputs": [],
   "source": [
    "tar czvf cl_images_eyamrog.tar.gz -C cl_images .\n",
    "\n",
    "tar czvf cl_images_eyamrog.tar.gz cl_images\n",
    "\n",
    "tar xzvf cl_images_eyamrog.tar.gz"
   ]
  },
  {
   "cell_type": "markdown",
   "id": "e4f28a2a-bdcb-44b4-ac86-0a6c95097097",
   "metadata": {},
   "source": [
    "## Git"
   ]
  },
  {
   "cell_type": "code",
   "execution_count": null,
   "id": "7ad044d8-3feb-465b-9210-b73481e3573b",
   "metadata": {},
   "outputs": [],
   "source": [
    "git clone https://github.com/laelgelc/cl_images.git\n",
    "\n",
    "git config --global --edit\n",
    "\n",
    "git status\n",
    "\n",
    "git add <file>\n",
    "\n",
    "git stash\n",
    "\n",
    "git pull\n",
    "\n",
    "git push"
   ]
  },
  {
   "cell_type": "markdown",
   "id": "25978d0c-3455-4db8-875f-4b6dfbb0717e",
   "metadata": {},
   "source": [
    "## Amazon S3 Bucket policy for bucket public access\n",
    "Replace 'laelgelcclimages' by the corresponding bucket name"
   ]
  },
  {
   "cell_type": "code",
   "execution_count": null,
   "id": "085165da-0f38-437d-bc59-755f82595df5",
   "metadata": {},
   "outputs": [],
   "source": [
    "{\n",
    "    \"Version\": \"2012-10-17\",\n",
    "    \"Statement\": [\n",
    "        {\n",
    "            \"Effect\": \"Allow\",\n",
    "            \"Principal\": \"*\",\n",
    "            \"Action\": \"s3:GetObject\",\n",
    "            \"Resource\": \"arn:aws:s3:::laelgelcclimages/*\"\n",
    "        }\n",
    "    ]\n",
    "}"
   ]
  }
 ],
 "metadata": {
  "kernelspec": {
   "display_name": "anaconda-panel-2023.05-py310",
   "language": "python",
   "name": "conda-env-anaconda-panel-2023.05-py310-py"
  },
  "language_info": {
   "codemirror_mode": {
    "name": "ipython",
    "version": 3
   },
   "file_extension": ".py",
   "mimetype": "text/x-python",
   "name": "python",
   "nbconvert_exporter": "python",
   "pygments_lexer": "ipython3",
   "version": "3.11.5"
  }
 },
 "nbformat": 4,
 "nbformat_minor": 5
}
