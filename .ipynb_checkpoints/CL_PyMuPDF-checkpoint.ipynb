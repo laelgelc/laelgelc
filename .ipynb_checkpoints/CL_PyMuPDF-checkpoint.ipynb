{
 "cells": [
  {
   "cell_type": "markdown",
   "id": "810d9f10-ec19-4b09-8f90-e983e460b319",
   "metadata": {},
   "source": [
    "<center>\n",
    "<img src=\"https://laelgelcpublic.s3.sa-east-1.amazonaws.com/lael_50_years_narrow_white.png.no_years.400px_96dpi.png\" width=\"300\" alt=\"LAEL 50 years logo\">\n",
    "<h3>APPLIED LINGUISTICS GRADUATE PROGRAMME (LAEL)</h3>\n",
    "</center>\n",
    "<hr>"
   ]
  },
  {
   "cell_type": "markdown",
   "id": "888c2c96-2fc3-4a1a-995b-c388036a2a15",
   "metadata": {},
   "source": [
    "# PDF scraping with PyMuPDF"
   ]
  },
  {
   "cell_type": "markdown",
   "id": "50976282-3c48-4a64-a25c-0575bf379f25",
   "metadata": {},
   "source": [
    "## What is `PyMuPDF`?"
   ]
  },
  {
   "cell_type": "markdown",
   "id": "60552836-4e24-45fa-a537-692248055ea1",
   "metadata": {},
   "source": [
    "`PyMuPDF` is a high performance Python library for data extraction, analysis, conversion & manipulation of PDF (and other) documents."
   ]
  },
  {
   "cell_type": "markdown",
   "id": "a685d8b0-7715-45a6-9489-2d3db9b346c8",
   "metadata": {},
   "source": [
    "## Required Python packages"
   ]
  },
  {
   "cell_type": "markdown",
   "id": "c0e16e73-b1b9-4838-8cce-a29dc300868e",
   "metadata": {},
   "source": [
    "- PyMuPDF"
   ]
  },
  {
   "cell_type": "markdown",
   "id": "aa922755-c4d6-4008-9aad-d35e33b18ed7",
   "metadata": {},
   "source": [
    "## Importing the required libraries"
   ]
  },
  {
   "cell_type": "code",
   "execution_count": 1,
   "id": "06ebcaf3-5b41-474c-9394-ebc8bec9005f",
   "metadata": {},
   "outputs": [],
   "source": [
    "import pymupdf\n",
    "import re"
   ]
  },
  {
   "cell_type": "markdown",
   "id": "fe819c2a-cff8-4748-b95d-1eb9c1e3032a",
   "metadata": {},
   "source": [
    "## Defining input variables"
   ]
  },
  {
   "cell_type": "code",
   "execution_count": 2,
   "id": "293eea7e-43dc-4623-b443-8b9444190dc6",
   "metadata": {},
   "outputs": [],
   "source": [
    "input_filename = 'MultiTecLin livro.pdf'"
   ]
  },
  {
   "cell_type": "code",
   "execution_count": 3,
   "id": "beda65a8-eefd-4613-9cd0-17a1bdbec8c1",
   "metadata": {},
   "outputs": [],
   "source": [
    "extension = 'txt'\n",
    "\n",
    "def replace_extension(filename):\n",
    "    # Extracting the base filename without the extension\n",
    "    base_filename = re.match(r'^([A-Za-z0-9-_,\\s]+)\\.[A-Za-z]{1,5}$', filename).group(1)\n",
    "    \n",
    "    # Adding the new filename extension\n",
    "    new_filename = f\"{base_filename}.{extension}\"\n",
    "    \n",
    "    return new_filename\n",
    "\n",
    "output_filename = replace_extension(input_filename)"
   ]
  },
  {
   "cell_type": "markdown",
   "id": "52ae432f-85f6-4387-b11f-5ba399ecec5c",
   "metadata": {},
   "source": [
    "## PDF scraping"
   ]
  },
  {
   "cell_type": "code",
   "execution_count": 4,
   "id": "63e350ec-6216-488f-9685-ec97813f3e52",
   "metadata": {},
   "outputs": [],
   "source": [
    "def scrape_pdf(pdf_path, output_txt):\n",
    "    # Opening the PDF file\n",
    "    doc = pymupdf.open(pdf_path)\n",
    "    \n",
    "    # Initialising an empty string to store the text\n",
    "    text = ''\n",
    "    \n",
    "    # Iterating through all the pages and extract text\n",
    "    for page in doc:\n",
    "        text += page.get_text()\n",
    "    \n",
    "    # Writing the extracted text to a text file in UTF-8 encoding\n",
    "    with open(output_txt, 'w', encoding='utf-8') as txt_file:\n",
    "        txt_file.write(text)\n",
    "\n",
    "scrape_pdf(input_filename, output_filename)"
   ]
  },
  {
   "cell_type": "markdown",
   "id": "08a9970a-2fd4-4e07-974d-dd3163a9e28b",
   "metadata": {},
   "source": [
    "### Command-line version"
   ]
  },
  {
   "cell_type": "markdown",
   "id": "2a2bff32-e944-4b76-8763-89bba8a1f889",
   "metadata": {},
   "source": [
    "- Save the following piece of code as `pdfscrape.py`\n",
    "- Activate the respective Python environment (e.g. `source ~/my_env/bin/activate`\n",
    "- Run it as `python pdfscrape.py <pdf_filename>`"
   ]
  },
  {
   "cell_type": "code",
   "execution_count": null,
   "id": "3ab9d84a-4698-4ad7-98bc-62e8173012a5",
   "metadata": {},
   "outputs": [],
   "source": [
    "import os\n",
    "import re\n",
    "import logging\n",
    "import argparse\n",
    "import fitz  # PyMuPDF\n",
    "from tqdm import tqdm\n",
    "\n",
    "# Setting up logging\n",
    "logging.basicConfig(level=logging.INFO, format='%(asctime)s - %(levelname)s - %(message)s')\n",
    "\n",
    "def replace_extension(filename, extension):\n",
    "    # Extracting the base filename without the extension\n",
    "    base_filename = re.match(r'^([A-Za-z0-9-_,\\s]+)\\.[A-Za-z]{1,5}$', filename).group(1)\n",
    "    # Adding the new filename extension\n",
    "    new_filename = f\"{base_filename}.{extension}\"\n",
    "    return new_filename\n",
    "\n",
    "def scrape_pdf(pdf_path, output_txt):\n",
    "    try:\n",
    "        # Opening the PDF file\n",
    "        doc = fitz.open(pdf_path)\n",
    "        # Initialising an empty string to store the text\n",
    "        text = ''\n",
    "        # Iterating through all the pages and extract text\n",
    "        for page in tqdm(doc, desc='Extracting text from PDF'):\n",
    "            text += page.get_text()\n",
    "        # Writing the extracted text to a text file in UTF-8 encoding\n",
    "        with open(output_txt, 'w', encoding='utf-8') as txt_file:\n",
    "            txt_file.write(text)\n",
    "        logging.info(f\"Successfully saved extracted text to: {output_txt}\")\n",
    "    except Exception as e:\n",
    "        logging.error(f\"Error processing file {pdf_path}: {e}\")\n",
    "\n",
    "def main():\n",
    "    parser = argparse.ArgumentParser(description='Extract text from a PDF file and save it to a text file.')\n",
    "    parser.add_argument('input_filename', type=str, help='The path to the input PDF file.')\n",
    "    #parser.add_argument('output_extension', type=str, help='The extension for the output text file (e.g., 'txt').')\n",
    "    args = parser.parse_args()\n",
    "\n",
    "    input_filename = args.input_filename\n",
    "    #output_extension = args.output_extension\n",
    "    output_extension = 'txt'\n",
    "\n",
    "    output_filename = replace_extension(input_filename, output_extension)\n",
    "    scrape_pdf(input_filename, output_filename)\n",
    "\n",
    "if __name__ == \"__main__\":\n",
    "    main()"
   ]
  },
  {
   "cell_type": "code",
   "execution_count": null,
   "id": "ec6e8f01-54d9-4cf2-96dd-0913b11056c8",
   "metadata": {},
   "outputs": [],
   "source": []
  }
 ],
 "metadata": {
  "kernelspec": {
   "display_name": "Python 3 (ipykernel)",
   "language": "python",
   "name": "python3"
  },
  "language_info": {
   "codemirror_mode": {
    "name": "ipython",
    "version": 3
   },
   "file_extension": ".py",
   "mimetype": "text/x-python",
   "name": "python",
   "nbconvert_exporter": "python",
   "pygments_lexer": "ipython3",
   "version": "3.10.12"
  }
 },
 "nbformat": 4,
 "nbformat_minor": 5
}
