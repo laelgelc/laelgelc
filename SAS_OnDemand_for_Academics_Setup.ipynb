{
 "cells": [
  {
   "cell_type": "markdown",
   "id": "810d9f10-ec19-4b09-8f90-e983e460b319",
   "metadata": {
    "jp-MarkdownHeadingCollapsed": true
   },
   "source": [
    "<center>\n",
    "<img src=\"https://laelgelcpublic.s3.sa-east-1.amazonaws.com/lael_50_years_narrow_white.png.no_years.400px_96dpi.png\" width=\"300\" alt=\"LAEL 50 years logo\">\n",
    "<h3>APPLIED LINGUISTICS GRADUATE PROGRAMME (LAEL)</h3>\n",
    "</center>\n",
    "<hr>"
   ]
  },
  {
   "cell_type": "markdown",
   "id": "888c2c96-2fc3-4a1a-995b-c388036a2a15",
   "metadata": {},
   "source": [
    "# SAS OnDemand for Academics"
   ]
  },
  {
   "cell_type": "markdown",
   "id": "7a9c2af7-9fc1-4f51-a4f5-2ed915b93039",
   "metadata": {},
   "source": [
    "## Account setup tutorial"
   ]
  },
  {
   "cell_type": "markdown",
   "id": "03c93dc9-f58f-4bed-ac94-9dbb927cb99e",
   "metadata": {},
   "source": [
    "### If you still do not have a SAS Profile"
   ]
  },
  {
   "cell_type": "markdown",
   "id": "fbe9d763-44bd-4590-90f3-b9f55d8be6f9",
   "metadata": {},
   "source": [
    "#### If you are a Student"
   ]
  },
  {
   "cell_type": "markdown",
   "id": "397fa22e-890c-4d13-b58f-5394f15cd70d",
   "metadata": {},
   "source": [
    "1. Go to [SAS® Skill Builder for Students](https://www.sas.com/en_us/learn/academic-programs/students.html);\n",
    "2. Click on `Access SAS Skill Builder`;\n",
    "3. Click on `Create Profile`;\n",
    "4. Follow the instructions on the registration form. An academic domain email is required, for instance:\n",
    "- .edu (e.g., student@university.edu);\n",
    "- .ac (e.g., student@college.ac);\n",
    "- .ac.uk (e.g., student@university.ac.uk) in the UK;\n",
    "5. You will receive an email to activate your profile and set up your password;\n",
    "6. Go to [SAS® OnDemand for Academics](https://welcome.oda.sas.com/);\n",
    "7. Click on `Sign In`;\n",
    "8. Login with you academic email and password (accept the terms of the license)."
   ]
  },
  {
   "cell_type": "markdown",
   "id": "778cf4e6-cff7-41a0-9406-9f788797b74f",
   "metadata": {},
   "source": [
    "#### If you are an Educator"
   ]
  },
  {
   "cell_type": "markdown",
   "id": "1c6018dd-a7d2-44be-a4e7-04f9daf550bc",
   "metadata": {},
   "source": [
    "1. Go to [SAS® Academic Programs for Educators](https://www.sas.com/en_us/learn/academic-programs/educators.html);\n",
    "2. Click on `Access the SAS Educator Portal`;\n",
    "3. Click on `Create Profile`;\n",
    "4. Follow the instructions on the registration form. An academic domain email is required, for instance:\n",
    "- .edu (e.g., student@university.edu);\n",
    "- .ac (e.g., student@college.ac);\n",
    "- .ac.uk (e.g., student@university.ac.uk) in the UK;\n",
    "5. You will receive an email to activate your profile and set up your password;\n",
    "6. Go to [SAS® OnDemand for Academics](https://welcome.oda.sas.com/);\n",
    "7. Click on `Sign In`;\n",
    "8. Login with you academic email and password (accept the terms of the license)."
   ]
  },
  {
   "cell_type": "markdown",
   "id": "ff9e38ee-f7fb-488d-b752-bc43a8ebdf64",
   "metadata": {},
   "source": [
    "### If you already have a SAS Profile"
   ]
  },
  {
   "cell_type": "markdown",
   "id": "d40c8d5b-93ab-4aab-8ed0-02e621b0b285",
   "metadata": {},
   "source": [
    "#### If you are a Student"
   ]
  },
  {
   "cell_type": "markdown",
   "id": "7f8c831f-51b6-4267-8fbe-4838de3e484c",
   "metadata": {},
   "source": [
    "1. Go to [SAS® Skill Builder for Students](https://www.sas.com/en_us/learn/academic-programs/students.html);\n",
    "2. Click on `Access SAS Skill Builder`;\n",
    "3. Go to [SAS® OnDemand for Academics](https://welcome.oda.sas.com/);\n",
    "4. Click on `Sign In`;\n",
    "5. Login with you academic email and password (accept the terms of the license)."
   ]
  },
  {
   "cell_type": "markdown",
   "id": "ebeedfa5-6a61-4695-919d-8a7d52b74e4d",
   "metadata": {},
   "source": [
    "#### If you are an Educator"
   ]
  },
  {
   "cell_type": "markdown",
   "id": "2cc994fa-6cc4-4df1-819d-997af20edd9d",
   "metadata": {},
   "source": [
    "1. Go to [SAS® Academic Programs for Educators](https://www.sas.com/en_us/learn/academic-programs/educators.html);\n",
    "2. Click on `Access the SAS Educator Portal`;\n",
    "3. Go to [SAS® OnDemand for Academics](https://welcome.oda.sas.com/);\n",
    "4. Click on `Sign In`;\n",
    "5. Login with you university email and password (accept the terms of the license)."
   ]
  },
  {
   "cell_type": "code",
   "execution_count": null,
   "id": "76c53e02-8795-4e2e-af5f-e498a824ef89",
   "metadata": {},
   "outputs": [],
   "source": []
  }
 ],
 "metadata": {
  "kernelspec": {
   "display_name": "Python 3 (ipykernel)",
   "language": "python",
   "name": "python3"
  },
  "language_info": {
   "codemirror_mode": {
    "name": "ipython",
    "version": 3
   },
   "file_extension": ".py",
   "mimetype": "text/x-python",
   "name": "python",
   "nbconvert_exporter": "python",
   "pygments_lexer": "ipython3",
   "version": "3.10.12"
  }
 },
 "nbformat": 4,
 "nbformat_minor": 5
}
