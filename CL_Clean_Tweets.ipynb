{
 "cells": [
  {
   "cell_type": "markdown",
   "id": "810d9f10-ec19-4b09-8f90-e983e460b319",
   "metadata": {
    "jp-MarkdownHeadingCollapsed": true,
    "tags": []
   },
   "source": [
    "<center>\n",
    "<img src=\"https://laelgelcpublic.s3.sa-east-1.amazonaws.com/lael_50_years_narrow_white.png.no_years.400px_96dpi.png\" width=\"300\" alt=\"LAEL 50 years logo\">\n",
    "<h3>APPLIED LINGUISTICS GRADUATE PROGRAMME (LAEL)</h3>\n",
    "</center>\n",
    "<hr>"
   ]
  },
  {
   "cell_type": "markdown",
   "id": "888c2c96-2fc3-4a1a-995b-c388036a2a15",
   "metadata": {},
   "source": [
    "# 'cleantweets' function - Troubleshooting"
   ]
  },
  {
   "cell_type": "markdown",
   "id": "7a9c2af7-9fc1-4f51-a4f5-2ed915b93039",
   "metadata": {},
   "source": [
    "## Original code"
   ]
  },
  {
   "cell_type": "code",
   "execution_count": null,
   "id": "a0c164b1-781a-4885-b5ea-8de50c94d81c",
   "metadata": {
    "vscode": {
     "languageId": "shellscript"
    }
   },
   "outputs": [],
   "source": [
    "mkdir -p tweets\n",
    "\n",
    "cut -f3 source/matched_emojified.tsv | cut -d'_' -f2 | sed 's/^/v:/' > 1\n",
    "cut -f1 source/matched_emojified.tsv | tr '~' ' ' | sed -e 's/^[ ]*//' | cut -d'~' -f2 | cut -d'T' -f1 | tr -dc '[0-9-\\n]' | sed 's/^/d:/' | cut -c1-12 > 2\n",
    "cut -f5 source/matched_emojified.tsv | sed 's/^/u:/' > 3\n",
    "cut -f7 source/matched_emojified.tsv | sed 's/^/c:/' > 4\n",
    "cut -f6 source/matched_emojified.tsv | sed 's/^/url:/' > 5\n",
    "paste 1 2 3 4  | tr '\\t' '|' | nl -nrz | tr '\\t' '|' | sed 's/^/t/' | rg -v '...' 6 | rg -v 'v:...................  ' > tweets/tweets.txt\n",
    "cut -d'|' -f1 tweets/tweets.txt > i\n",
    "paste 1 5  | nl -nrz | tr '\\t' '|' | sed 's/^/t/' | rg -f i > tweets/urls.txt\n",
    "cut -d'|' -f1 tweets/urls.txt > u  # for some reason, some tweets not in i (tweets/tweets.txt) remain in urls.txt\n",
    "cat i u | sort | uniq -u > e # detect which ones\n",
    "rg -v -f e tweets/urls.txt > p ; mv p tweets/urls.txt  # remove them\n",
    "paste 1 2 3 5 | nl -nrz | tr '\\t' ' ' | sed 's/^/t/' | rg -f i | rg -v -f e > file_index.txt"
   ]
  },
  {
   "cell_type": "markdown",
   "id": "098e4001-009a-40e0-9dd3-d324996611ae",
   "metadata": {},
   "source": [
    "## Explanation provided by Anaconda Assistant"
   ]
  },
  {
   "cell_type": "markdown",
   "id": "ea06a65d-c299-40a6-bf2f-87e799b8a0e1",
   "metadata": {},
   "source": [
    "Could you please explain this code?"
   ]
  },
  {
   "cell_type": "markdown",
   "id": "44b0900f-b5f5-4cce-b58a-4f986fdb1ed3",
   "metadata": {},
   "source": [
    "Certainly! This code appears to be a series of shell commands that perform various operations on files. Here's a breakdown of each step:\n",
    "\n",
    "1. `mkdir -p tweets`: This command creates a directory named 'tweets'. The `-p` option ensures that the command does not throw an error if the directory already exists.\n",
    "\n",
    "2. `cut -f3 source/matched_emojified.tsv | cut -d'_' -f2 | sed 's/^/v:/' > 1`: This command extracts the third column from the file 'matched_emojified.tsv', then extracts the second part after '_' in each line. It then prepends 'v:' to each line and saves the result in a file named '1'.\n",
    "\n",
    "3. `cut -f1 source/matched_emojified.tsv | tr '~' ' ' | sed -e 's/^[ ]*//' | cut -d'~' -f2 | cut -d'T' -f1 | tr -dc '[0-9-\\n]' | sed 's/^/d:/' | cut -c1-12 > 2`: This command extracts the first column from 'matched_emojified.tsv', replaces `'~'` with a space, removes leading spaces, extracts the second part after '~' in each line, extracts the date part before 'T', removes non-numeric characters, prepends 'd:' to each line, keeps only the first 12 characters, and saves the result in a file named '2'.\n",
    "\n",
    "4. `cut -f5 source/matched_emojified.tsv | sed 's/^/u:/' > 3`: This command extracts the fifth column from 'matched_emojified.tsv' and prepends 'u:' to each line. It saves the result in a file named '3'.\n",
    "\n",
    "5. `cut -f7 source/matched_emojified.tsv | sed 's/^/c:/' > 4`: This command extracts the seventh column from 'matched_emojified.tsv' and prepends 'c:' to each line. It saves the result in a file named '4'.\n",
    "\n",
    "6. `cut -f6 source/matched_emojified.tsv | sed 's/^/url:/' > 5`: This command extracts the sixth column from 'matched_emojified.tsv' and prepends 'url:' to each line. It saves the result in a file named '5'.\n",
    "\n",
    "7. `paste 1 2 3 4  | tr '\\t' '|' | nl -nrz | tr '\\t' '|' | sed 's/^/t/' | rg -v '...' 6 | rg -v 'v:...................  ' > tweets/tweets.txt`: This command combines the contents of files '1', '2', '3', and '4' using '|' as a delimiter. It then numbers the lines, replaces the tabs with '|', prepends 't' to each line, removes lines with less than 6 characters, and removes lines with 'v:...................  '. The resulting output is saved in a file named 'tweets/tweets.txt'.\n",
    "\n",
    "8. `cut -d'|' -f1 tweets/tweets.txt > i`: This command extracts the first column from 'tweets/tweets.txt' and saves it in a file named 'i'.\n",
    "\n",
    "9. `paste 1 5  | nl -nrz | tr '\\t' '|' | sed 's/^/t/' | rg -f i > tweets/urls.txt`: This command combines the contents of files '1' and '5' using '|' as a delimiter. It then numbers the lines, replaces the tabs with '|', prepends 't' to each line, and only keeps the lines that match the contents of file 'i'. The resulting output is saved in a file named 'tweets/urls.txt'.\n",
    "\n",
    "10. `cut -d'|' -f1 tweets/urls.txt > u`: This command extracts the first column from 'tweets/urls.txt' and saves it in a file named 'u'.\n",
    "\n",
    "11. `cat i u | sort | uniq -u > e`: This command concatenates the contents of files 'i' and 'u', sorts them, and keeps only the unique lines that are present in either 'i' or 'u' but not in both. The resulting output is saved in a file named 'e'.\n",
    "\n",
    "12. `rg -v -f e tweets/urls.txt > p ; mv p tweets/urls.txt`: This command removes the lines from 'tweets/urls.txt' that match the contents of file 'e'. The resulting output is saved in a temporary file named 'p', which is then renamed to 'tweets/urls.txt'.\n",
    "\n",
    "13. `paste 1 2 3 5 | nl -nrz | tr '\\t' ' ' | sed 's/^/t/' | rg -f i | rg -v -f e > file_index.txt`: This command combines the contents of files '1', '2', '3', and '5' using spaces as a delimiter. It then numbers the lines, replaces the tabs with spaces, prepends 't' to each line, and only keeps the lines that match the contents of file 'i' but not 'e'. The resulting output is saved in a file named 'file_index.txt'.\n",
    "\n",
    "Overall, this code seems to be performing various data extraction and manipulation operations on files, possibly related to processing tweets and their associated metadata.\n"
   ]
  },
  {
   "cell_type": "markdown",
   "id": "d52ea759-9cb0-4ff9-a42e-0e0b124cb83d",
   "metadata": {},
   "source": [
    "## Commented by Anaconda Assistant"
   ]
  },
  {
   "cell_type": "markdown",
   "id": "9ca2c849-4f2f-477a-923a-1627c116d198",
   "metadata": {},
   "source": [
    "Could you comment the code?"
   ]
  },
  {
   "cell_type": "code",
   "execution_count": null,
   "id": "67a70f1b-8959-44d2-a78c-9c336e081b35",
   "metadata": {},
   "outputs": [],
   "source": [
    "mkdir -p tweets  # Create a directory named 'tweets'\n",
    "\n",
    "# Extract the third column from 'matched_emojified.tsv', extract the second part after '_' in each line,\n",
    "# prepend 'v:' to each line, and save the result in a file named '1'\n",
    "cut -f3 source/matched_emojified.tsv | cut -d'_' -f2 | sed 's/^/v:/' > 1\n",
    "\n",
    "# Extract the first column from 'matched_emojified.tsv', replace '~' with a space, remove leading spaces,\n",
    "# extract the second part after '~' in each line, extract the date part before 'T', remove non-numeric characters,\n",
    "# prepend 'd:' to each line, keep only the first 12 characters, and save the result in a file named '2'\n",
    "cut -f1 source/matched_emojified.tsv | tr '~' ' ' | sed -e 's/^[ ]*//' | cut -d'~' -f2 | cut -d'T' -f1 | tr -dc '[0-9-\\n]' | sed 's/^/d:/' | cut -c1-12 > 2\n",
    "\n",
    "# Extract the fifth column from 'matched_emojified.tsv' and prepend 'u:' to each line, save the result in a file named '3'\n",
    "cut -f5 source/matched_emojified.tsv | sed 's/^/u:/' > 3\n",
    "\n",
    "# Extract the seventh column from 'matched_emojified.tsv' and prepend 'c:' to each line, save the result in a file named '4'\n",
    "cut -f7 source/matched_emojified.tsv | sed 's/^/c:/' > 4\n",
    "\n",
    "# Extract the sixth column from 'matched_emojified.tsv' and prepend 'url:' to each line, save the result in a file named '5'\n",
    "cut -f6 source/matched_emojified.tsv | sed 's/^/url:/' > 5\n",
    "\n",
    "# Combine the contents of files '1', '2', '3', and '4' using '|' as a delimiter, number the lines,\n",
    "# replace the tabs with '|', prepend 't' to each line, remove lines with less than 6 characters,\n",
    "# and remove lines with 'v:...................  '\n",
    "paste 1 2 3 4  | tr '\\t' '|' | nl -nrz | tr '\\t' '|' | sed 's/^/t/' | rg -v '...' 6 | rg -v 'v:...................  ' > tweets/tweets.txt\n",
    "\n",
    "# Extract the first column from 'tweets/tweets.txt' and save it in a file named 'i'\n",
    "cut -d'|' -f1 tweets/tweets.txt > i\n",
    "\n",
    "# Combine the contents of files '1' and '5', number the lines, replace the tabs with '|',\n",
    "# prepend 't' to each line, and only keep the lines that match the contents of file 'i'\n",
    "paste 1 5  | nl -nrz | tr '\\t' '|' | sed 's/^/t/' | rg -f i > tweets/urls.txt\n",
    "\n",
    "# Extract the first column from 'tweets/urls.txt' and save it in a file named 'u'\n",
    "cut -d'|' -f1 tweets/urls.txt > u\n",
    "\n",
    "# Find the lines that are present in either 'i' or 'u' but not in both, and save the result in a file named 'e'\n",
    "cat i u | sort | uniq -u > e\n",
    "\n",
    "# Remove the lines from 'tweets/urls.txt' that match the contents of file 'e', and save the result in a file named 'p'\n",
    "rg -v -f e tweets/urls.txt > p ; mv p tweets/urls.txt\n",
    "\n",
    "# Combine the contents of files '1', '2', '3', and '5', number the lines, replace the tabs with spaces,\n",
    "# prepend 't' to each line, and only keep the lines that match the contents of file 'i' but not 'e',\n",
    "# and save the result in a file named 'file_index.txt'\n",
    "paste 1 2 3 5 | nl -nrz | tr '\\t' ' ' | sed 's/^/t/' | rg -f i | rg -v -f e > file_index.txt"
   ]
  },
  {
   "cell_type": "markdown",
   "id": "8837f514-2f74-4075-8468-c2cfcbc4b15d",
   "metadata": {},
   "source": [
    "## Recommendation\n",
    "Use [Emulating macOS pbcopy and pbpaste over Ubuntu](https://github.com/laelgelc/laelgelc/blob/main/CL_pbcopy_pbpaste_Ubuntu.ipynb) to verify each line of the code to find out where the error occurs and what causes it. We have seen Professor Tony using those commands to execute lines of code on data copied on a clipboard and checking the results on the fly. You do not need to own a Mac computer - you can emulate the same functionality of those commands on a Linux system. Regard the following steps as a guide:"
   ]
  },
  {
   "cell_type": "markdown",
   "id": "e5ac6746-35fc-4373-89cf-725cb46b4fdc",
   "metadata": {},
   "source": [
    "- Review the previous explanation and comments\n",
    "- Use [Bing Copilot](https://www.bing.com/) (based on ChatGPT) as your code troubleshooting assistant\n",
    "- Troubleshoot the code line by line using `pbcopy` and `pbpaste` over Ubuntu"
   ]
  }
 ],
 "metadata": {
  "kernelspec": {
   "display_name": "anaconda-panel-2023.05-py310",
   "language": "python",
   "name": "conda-env-anaconda-panel-2023.05-py310-py"
  },
  "language_info": {
   "codemirror_mode": {
    "name": "ipython",
    "version": 3
   },
   "file_extension": ".py",
   "mimetype": "text/x-python",
   "name": "python",
   "nbconvert_exporter": "python",
   "pygments_lexer": "ipython3",
   "version": "3.11.5"
  }
 },
 "nbformat": 4,
 "nbformat_minor": 5
}
