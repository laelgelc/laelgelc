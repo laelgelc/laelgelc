{
 "cells": [
  {
   "cell_type": "markdown",
   "id": "810d9f10-ec19-4b09-8f90-e983e460b319",
   "metadata": {},
   "source": [
    "<center>\n",
    "<img src=\"https://laelgelcpublic.s3.sa-east-1.amazonaws.com/lael_50_years_narrow_white.png.no_years.400px_96dpi.png\" width=\"300\" alt=\"LAEL 50 years logo\">\n",
    "<h3>APPLIED LINGUISTICS GRADUATE PROGRAMME (LAEL)</h3>\n",
    "</center>\n",
    "<hr>"
   ]
  },
  {
   "cell_type": "markdown",
   "id": "888c2c96-2fc3-4a1a-995b-c388036a2a15",
   "metadata": {},
   "source": [
    "# Web scraping with Beautiful Soup - Quick Start"
   ]
  },
  {
   "cell_type": "markdown",
   "id": "7a9c2af7-9fc1-4f51-a4f5-2ed915b93039",
   "metadata": {},
   "source": [
    "## What is Beautiful Soup?"
   ]
  },
  {
   "cell_type": "markdown",
   "id": "96746640-4b0f-45ff-a3dd-6e660b9f88cc",
   "metadata": {},
   "source": [
    "Beautiful Soup is a Python library for pulling data out of HTML and XML files. It is a well known library for web scraping.\n",
    "\n",
    "Please refer to:\n",
    "- [Beautiful Soup Documentation](https://beautiful-soup-4.readthedocs.io/en/latest/)\n",
    "- [A Practical Introduction to Web Scraping in Python](https://realpython.com/python-web-scraping-practical-introduction/)"
   ]
  },
  {
   "cell_type": "markdown",
   "id": "539ba59b-64d1-43a1-bf35-c5c1b747b4f6",
   "metadata": {},
   "source": [
    "## Beautiful Soup Quick Start"
   ]
  },
  {
   "cell_type": "markdown",
   "id": "9152529b-e9f1-4f8f-b393-357cd4d75277",
   "metadata": {},
   "source": [
    "Please refer to [Beautiful Soup - Quick Start](https://beautiful-soup-4.readthedocs.io/en/latest/#quick-start)."
   ]
  },
  {
   "cell_type": "markdown",
   "id": "46da8855-55d2-45ed-94f9-5185c3fb4e5a",
   "metadata": {},
   "source": [
    "### Importing the required libraries"
   ]
  },
  {
   "cell_type": "code",
   "execution_count": 1,
   "id": "915c034c-3907-499e-9b23-0abc4d381986",
   "metadata": {},
   "outputs": [],
   "source": [
    "from bs4 import BeautifulSoup"
   ]
  },
  {
   "cell_type": "markdown",
   "id": "1aa03e96-df34-44b3-8ef4-193fb406ba96",
   "metadata": {},
   "source": [
    "### Example"
   ]
  },
  {
   "cell_type": "markdown",
   "id": "7bf45a60-5d45-4067-ad71-b4c1a2195e67",
   "metadata": {},
   "source": [
    "#### Original example (not used)"
   ]
  },
  {
   "cell_type": "markdown",
   "id": "5046040e-e4dd-42db-94b0-1669334e11b3",
   "metadata": {},
   "source": [
    "In the original example, the `html` document is assigned to the variable `html_doc` directly. This approach is not being used (the corresponding lines of code have been commented out) because the example was changed in a way that the `html` document is imported from a `.html` file instead."
   ]
  },
  {
   "cell_type": "code",
   "execution_count": 2,
   "id": "9b27202c-6095-4cdb-818c-eb60bd4a90c3",
   "metadata": {},
   "outputs": [],
   "source": [
    "#html_doc = \"\"\"\n",
    "#<html><head><title>The Dormouse's story</title></head>\n",
    "#<body>\n",
    "#<p class=\"title\"><b>The Dormouse's story</b></p>\n",
    "#\n",
    "#<p class=\"story\">Once upon a time there were three little sisters; and their names were\n",
    "#<a href=\"http://example.com/elsie\" class=\"sister\" id=\"link1\">Elsie</a>,\n",
    "#<a href=\"http://example.com/lacie\" class=\"sister\" id=\"link2\">Lacie</a> and\n",
    "#<a href=\"http://example.com/tillie\" class=\"sister\" id=\"link3\">Tillie</a>;\n",
    "#and they lived at the bottom of a well.</p>\n",
    "#\n",
    "#<p class=\"story\">...</p>\n",
    "#\"\"\""
   ]
  },
  {
   "cell_type": "code",
   "execution_count": 3,
   "id": "c7ee5fe0-36e2-4222-93bf-f21dd6bb3866",
   "metadata": {},
   "outputs": [],
   "source": [
    "#soup = BeautifulSoup(html_doc, 'html.parser')"
   ]
  },
  {
   "cell_type": "markdown",
   "id": "0fad3434-dcb2-4bab-a11a-7d0408b3681e",
   "metadata": {},
   "source": [
    "#### Creating a `BeautifulSoup` object out of the `CL_Beautiful_Soup_Quick_Start.html` document and assigning it to a variable"
   ]
  },
  {
   "cell_type": "markdown",
   "id": "57e1f632-5ca2-425c-b74b-c8d2c0c8b68b",
   "metadata": {},
   "source": [
    "A `BeautifulSoup` object represents the `.html` document as a nested data structure."
   ]
  },
  {
   "cell_type": "code",
   "execution_count": 4,
   "id": "135dd8a7-2eb1-4680-b688-0754ddbdd6a3",
   "metadata": {},
   "outputs": [],
   "source": [
    "with open('CL_Beautiful_Soup_Quick_Start.html', 'r', encoding='utf8', newline='\\n') as html_doc:\n",
    "    soup = BeautifulSoup(html_doc, 'html.parser')"
   ]
  },
  {
   "cell_type": "markdown",
   "id": "e949efe3-d4aa-4897-83a6-8fcf95af6b97",
   "metadata": {},
   "source": [
    "#### Navigating the data structure"
   ]
  },
  {
   "cell_type": "code",
   "execution_count": 5,
   "id": "4b1a6a2a-49a1-4a51-a0a1-afe300c32eca",
   "metadata": {},
   "outputs": [
    {
     "name": "stdout",
     "output_type": "stream",
     "text": [
      "<html>\n",
      " <head>\n",
      "  <title>\n",
      "   The Dormouse's story\n",
      "  </title>\n",
      " </head>\n",
      " <body>\n",
      "  <p class=\"title\">\n",
      "   <b>\n",
      "    The Dormouse's story\n",
      "   </b>\n",
      "  </p>\n",
      "  <p class=\"story\">\n",
      "   Once upon a time there were three little sisters; and their names were\n",
      "   <a class=\"sister\" href=\"http://example.com/elsie\" id=\"link1\">\n",
      "    Elsie\n",
      "   </a>\n",
      "   ,\n",
      "   <a class=\"sister\" href=\"http://example.com/lacie\" id=\"link2\">\n",
      "    Lacie\n",
      "   </a>\n",
      "   and\n",
      "   <a class=\"sister\" href=\"http://example.com/tillie\" id=\"link3\">\n",
      "    Tillie\n",
      "   </a>\n",
      "   ;\n",
      "and they lived at the bottom of a well.\n",
      "  </p>\n",
      "  <p class=\"story\">\n",
      "   ...\n",
      "  </p>\n",
      " </body>\n",
      "</html>\n",
      "\n"
     ]
    }
   ],
   "source": [
    "print(soup.prettify())"
   ]
  },
  {
   "cell_type": "code",
   "execution_count": 6,
   "id": "0aa3b760-8414-42ce-9acc-5f0d7f7ef785",
   "metadata": {},
   "outputs": [
    {
     "data": {
      "text/plain": [
       "<title>The Dormouse's story</title>"
      ]
     },
     "execution_count": 6,
     "metadata": {},
     "output_type": "execute_result"
    }
   ],
   "source": [
    "soup.title"
   ]
  },
  {
   "cell_type": "code",
   "execution_count": 7,
   "id": "c6411231-5dee-404a-98e5-6123aff34fbf",
   "metadata": {},
   "outputs": [
    {
     "data": {
      "text/plain": [
       "'title'"
      ]
     },
     "execution_count": 7,
     "metadata": {},
     "output_type": "execute_result"
    }
   ],
   "source": [
    "soup.title.name"
   ]
  },
  {
   "cell_type": "code",
   "execution_count": 8,
   "id": "5d9e5916-3b6a-4e9b-a929-dd95eda841d0",
   "metadata": {},
   "outputs": [
    {
     "data": {
      "text/plain": [
       "\"The Dormouse's story\""
      ]
     },
     "execution_count": 8,
     "metadata": {},
     "output_type": "execute_result"
    }
   ],
   "source": [
    "soup.title.string"
   ]
  },
  {
   "cell_type": "code",
   "execution_count": 9,
   "id": "dc1716aa-2a82-4a54-a1a8-95a888c9caf2",
   "metadata": {},
   "outputs": [
    {
     "data": {
      "text/plain": [
       "'head'"
      ]
     },
     "execution_count": 9,
     "metadata": {},
     "output_type": "execute_result"
    }
   ],
   "source": [
    "soup.title.parent.name"
   ]
  },
  {
   "cell_type": "code",
   "execution_count": 10,
   "id": "af31f8f5-aa09-4f2d-8e7f-bc4ed6205d61",
   "metadata": {},
   "outputs": [
    {
     "data": {
      "text/plain": [
       "<p class=\"title\"><b>The Dormouse's story</b></p>"
      ]
     },
     "execution_count": 10,
     "metadata": {},
     "output_type": "execute_result"
    }
   ],
   "source": [
    "soup.p"
   ]
  },
  {
   "cell_type": "code",
   "execution_count": 11,
   "id": "2bf5322c-1742-4eab-86f2-ed17d729a186",
   "metadata": {},
   "outputs": [
    {
     "data": {
      "text/plain": [
       "['title']"
      ]
     },
     "execution_count": 11,
     "metadata": {},
     "output_type": "execute_result"
    }
   ],
   "source": [
    "soup.p['class']"
   ]
  },
  {
   "cell_type": "code",
   "execution_count": 12,
   "id": "6789263c-2e9f-4d4f-a8c0-4c762a5ac019",
   "metadata": {},
   "outputs": [
    {
     "data": {
      "text/plain": [
       "<a class=\"sister\" href=\"http://example.com/elsie\" id=\"link1\">Elsie</a>"
      ]
     },
     "execution_count": 12,
     "metadata": {},
     "output_type": "execute_result"
    }
   ],
   "source": [
    "soup.a"
   ]
  },
  {
   "cell_type": "code",
   "execution_count": 13,
   "id": "78899f14-eff3-4f38-ad95-55e3adf110db",
   "metadata": {},
   "outputs": [
    {
     "data": {
      "text/plain": [
       "[<a class=\"sister\" href=\"http://example.com/elsie\" id=\"link1\">Elsie</a>,\n",
       " <a class=\"sister\" href=\"http://example.com/lacie\" id=\"link2\">Lacie</a>,\n",
       " <a class=\"sister\" href=\"http://example.com/tillie\" id=\"link3\">Tillie</a>]"
      ]
     },
     "execution_count": 13,
     "metadata": {},
     "output_type": "execute_result"
    }
   ],
   "source": [
    "soup.find_all('a')"
   ]
  },
  {
   "cell_type": "code",
   "execution_count": 14,
   "id": "a88acabb-4dd2-4c28-97fc-be6d6e54e98d",
   "metadata": {},
   "outputs": [
    {
     "data": {
      "text/plain": [
       "<a class=\"sister\" href=\"http://example.com/tillie\" id=\"link3\">Tillie</a>"
      ]
     },
     "execution_count": 14,
     "metadata": {},
     "output_type": "execute_result"
    }
   ],
   "source": [
    "soup.find(id=\"link3\")"
   ]
  },
  {
   "cell_type": "code",
   "execution_count": 15,
   "id": "d5a516f0-a507-4ce5-860e-1f9d2a17c46f",
   "metadata": {},
   "outputs": [
    {
     "name": "stdout",
     "output_type": "stream",
     "text": [
      "http://example.com/elsie\n",
      "http://example.com/lacie\n",
      "http://example.com/tillie\n"
     ]
    }
   ],
   "source": [
    "for link in soup.find_all('a'):\n",
    "    print(link.get('href'))"
   ]
  },
  {
   "cell_type": "code",
   "execution_count": 16,
   "id": "1e4617c8-947a-4570-8006-ce7af63870df",
   "metadata": {},
   "outputs": [
    {
     "name": "stdout",
     "output_type": "stream",
     "text": [
      "The Dormouse's story\n",
      "\n",
      "The Dormouse's story\n",
      "Once upon a time there were three little sisters; and their names were\n",
      "Elsie,\n",
      "Lacie and\n",
      "Tillie;\n",
      "and they lived at the bottom of a well.\n",
      "...\n",
      "\n"
     ]
    }
   ],
   "source": [
    "print(soup.get_text())"
   ]
  },
  {
   "cell_type": "code",
   "execution_count": null,
   "id": "1976bca5-a407-4ada-8cc9-87c18a470237",
   "metadata": {},
   "outputs": [],
   "source": []
  }
 ],
 "metadata": {
  "kernelspec": {
   "display_name": "Python 3 (ipykernel)",
   "language": "python",
   "name": "python3"
  },
  "language_info": {
   "codemirror_mode": {
    "name": "ipython",
    "version": 3
   },
   "file_extension": ".py",
   "mimetype": "text/x-python",
   "name": "python",
   "nbconvert_exporter": "python",
   "pygments_lexer": "ipython3",
   "version": "3.11.8"
  }
 },
 "nbformat": 4,
 "nbformat_minor": 5
}
