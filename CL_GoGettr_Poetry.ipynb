{
 "cells": [
  {
   "cell_type": "markdown",
   "id": "810d9f10-ec19-4b09-8f90-e983e460b319",
   "metadata": {},
   "source": [
    "<center>\n",
    "<img src=\"https://laelgelcpublic.s3.sa-east-1.amazonaws.com/lael_50_years_narrow_white.png.no_years.400px_96dpi.png\" width=\"300\" alt=\"LAEL 50 years logo\">\n",
    "<h3>APPLIED LINGUISTICS GRADUATE PROGRAMME (LAEL)</h3>\n",
    "</center>\n",
    "<hr>"
   ]
  },
  {
   "cell_type": "markdown",
   "id": "888c2c96-2fc3-4a1a-995b-c388036a2a15",
   "metadata": {},
   "source": [
    "# `GoGettr` over `Poetry`"
   ]
  },
  {
   "cell_type": "markdown",
   "id": "7a9c2af7-9fc1-4f51-a4f5-2ed915b93039",
   "metadata": {},
   "source": [
    "## Prerequisites"
   ]
  },
  {
   "cell_type": "markdown",
   "id": "e4f28a2a-bdcb-44b4-ac86-0a6c95097097",
   "metadata": {},
   "source": [
    "### Installing `pipx`"
   ]
  },
  {
   "cell_type": "markdown",
   "id": "cffc852e-ce73-45af-8573-66c0d6a412fd",
   "metadata": {},
   "source": [
    "`pipx` is a solution for installing and running Python Applications in isolated environments.\n",
    "\n",
    "Please refer to:\n",
    "- [pipx](https://pipx.pypa.io/stable/)\n",
    "\n",
    "Note: You have to download and open this Jupyter Notebook on JupyterLab (provided as part of Anaconda Distribution) to visualise the procedure."
   ]
  },
  {
   "cell_type": "raw",
   "id": "1982fa35-28e4-4601-a47e-0cf9ace32b17",
   "metadata": {},
   "source": [
    "eyamrog@Rog-ASUS:/mnt/c/Users/eyamr/Downloads$ sudo apt update\n",
    "<omitted>\n",
    "eyamrog@Rog-ASUS:/mnt/c/Users/eyamr/Downloads$ sudo apt upgrade -y\n",
    "<omitted>\n",
    "eyamrog@Rog-ASUS:/mnt/c/Users/eyamr/Downloads$ python3 -V\n",
    "Python 3.10.12\n",
    "eyamrog@Rog-ASUS:/mnt/c/Users/eyamr/Downloads$ sudo apt install -y pipx\n",
    "<omitted>\n",
    "eyamrog@Rog-ASUS:/mnt/c/Users/eyamr/Downloads$ pipx ensurepath\n",
    "Success! Added /home/eyamrog/.local/bin to the PATH environment variable.\n",
    "\n",
    "Consider adding shell completions for pipx. Run 'pipx completions' for instructions.\n",
    "\n",
    "You will need to open a new terminal or re-login for the PATH changes to take effect.\n",
    "\n",
    "Otherwise pipx is ready to go! ✨ 🌟 ✨\n",
    "eyamrog@Rog-ASUS:/mnt/c/Users/eyamr/Downloads$"
   ]
  },
  {
   "cell_type": "markdown",
   "id": "78503435-49b1-44d4-9ffa-7effcfc2b104",
   "metadata": {},
   "source": [
    "### Installing `Poetry`"
   ]
  },
  {
   "cell_type": "markdown",
   "id": "6b57b55b-990c-43f4-90e7-0ed31267e71b",
   "metadata": {},
   "source": [
    "`Poetry` is a tool for dependency management and packaging in Python.\n",
    "\n",
    "Please refer to:\n",
    "- [Poetry](https://python-poetry.org/)"
   ]
  },
  {
   "cell_type": "raw",
   "id": "0c6043a1-9159-40af-887b-b63d171d906f",
   "metadata": {},
   "source": [
    "eyamrog@Rog-ASUS:/mnt/c/Users/eyamr/Downloads$ cd\n",
    "eyamrog@Rog-ASUS:~$ ll\n",
    "<omitted>\n",
    "eyamrog@Rog-ASUS:~$ pipx list\n",
    "nothing has been installed with pipx 😴\n",
    "eyamrog@Rog-ASUS:~$ pipx install poetry\n",
    "  installed package poetry 1.8.3, installed using Python 3.10.12\n",
    "  These apps are now globally available\n",
    "    - poetry\n",
    "done! ✨ 🌟 ✨\n",
    "eyamrog@Rog-ASUS:~$ pipx list\n",
    "venvs are in /home/eyamrog/.local/pipx/venvs\n",
    "apps are exposed on your $PATH at /home/eyamrog/.local/bin\n",
    "   package poetry 1.8.3, installed using Python 3.10.12\n",
    "    - poetry\n",
    "eyamrog@Rog-ASUS:~$ "
   ]
  },
  {
   "cell_type": "markdown",
   "id": "4ef852c8-69fc-4160-955e-afe7fe5f437a",
   "metadata": {},
   "source": [
    "## Cloning `GoGettr` and installing dependencies"
   ]
  },
  {
   "cell_type": "raw",
   "id": "21f23637-0d3b-47f1-8838-7f9909150e04",
   "metadata": {},
   "source": [
    "eyamrog@Rog-ASUS:~$ mkdir work\n",
    "eyamrog@Rog-ASUS:~$ cd work\n",
    "eyamrog@Rog-ASUS:~/work$ ll\n",
    "total 8\n",
    "drwxr-xr-x 2 eyamrog eyamrog 4096 Apr 14 22:36 ./\n",
    "drwxr-x--- 9 eyamrog eyamrog 4096 Jun  9 11:13 ../\n",
    "eyamrog@Rog-ASUS:~/work$ git clone https://github.com/stanfordio/gogettr.git\n",
    "Cloning into 'gogettr'...\n",
    "remote: Enumerating objects: 772, done.\n",
    "remote: Counting objects: 100% (250/250), done.\n",
    "remote: Compressing objects: 100% (89/89), done.\n",
    "Receiving objects: 100% (772/772), 230.00 KiB | 2.74 MiB/s, done.\n",
    "remote: Total 772 (delta 194), reused 175 (delta 160), pack-reused 522\n",
    "Resolving deltas: 100% (487/487), done.\n",
    "eyamrog@Rog-ASUS:~/work$ ll\n",
    "total 12\n",
    "drwxr-xr-x 3 eyamrog eyamrog 4096 Jun  9 12:20 ./\n",
    "drwxr-x--- 9 eyamrog eyamrog 4096 Jun  9 11:13 ../\n",
    "drwxr-xr-x 6 eyamrog eyamrog 4096 Jun  9 12:20 gogettr/\n",
    "eyamrog@Rog-ASUS:~/work$ cd gogettr/\n",
    "eyamrog@Rog-ASUS:~/work/gogettr$ ll\n",
    "total 116\n",
    "drwxr-xr-x 6 eyamrog eyamrog  4096 Jun  9 12:20 ./\n",
    "drwxr-xr-x 3 eyamrog eyamrog  4096 Jun  9 12:20 ../\n",
    "drwxr-xr-x 8 eyamrog eyamrog  4096 Jun  9 12:20 .git/\n",
    "drwxr-xr-x 3 eyamrog eyamrog  4096 Jun  9 12:20 .github/\n",
    "-rw-r--r-- 1 eyamrog eyamrog  1821 Jun  9 12:20 .gitignore\n",
    "-rw-r--r-- 1 eyamrog eyamrog  5499 Jun  9 12:20 CODE_OF_CONDUCT.md\n",
    "-rw-r--r-- 1 eyamrog eyamrog 11357 Jun  9 12:20 LICENSE\n",
    "-rw-r--r-- 1 eyamrog eyamrog  8533 Jun  9 12:20 README.md\n",
    "-rw-r--r-- 1 eyamrog eyamrog   434 Jun  9 12:20 SECURITY.md\n",
    "drwxr-xr-x 3 eyamrog eyamrog  4096 Jun  9 12:20 gogettr/\n",
    "-rw-r--r-- 1 eyamrog eyamrog 46948 Jun  9 12:20 poetry.lock\n",
    "-rw-r--r-- 1 eyamrog eyamrog   681 Jun  9 12:20 pyproject.toml\n",
    "drwxr-xr-x 2 eyamrog eyamrog  4096 Jun  9 12:20 tests/\n",
    "eyamrog@Rog-ASUS:~/work/gogettr$ poetry install\n",
    "Creating virtualenv gogettr-msvC0KfL-py3.10 in /home/eyamrog/.cache/pypoetry/virtualenvs\n",
    "Installing dependencies from lock file\n",
    "\n",
    "Package operations: 27 installs, 0 updates, 0 removals\n",
    "\n",
    "  - Installing lazy-object-proxy (1.10.0)\n",
    "  - Installing typing-extensions (4.10.0)\n",
    "  - Installing wrapt (1.16.0)\n",
    "  - Installing astroid (2.15.8)\n",
    "  - Installing attrs (23.2.0)\n",
    "  - Installing click (8.1.7)\n",
    "  - Installing charset-normalizer (3.3.2)\n",
    "  - Installing certifi (2024.2.2)\n",
    "  - Installing dill (0.3.8)\n",
    "  - Installing idna (3.6)\n",
    "  - Installing iniconfig (2.0.0)\n",
    "  - Installing isort (5.13.2)\n",
    "  - Installing mccabe (0.7.0)\n",
    "  - Installing mypy-extensions (1.0.0)\n",
    "  - Installing packaging (24.0)\n",
    "  - Installing pathspec (0.12.1)\n",
    "  - Installing platformdirs (4.2.0)\n",
    "  - Installing pluggy (1.4.0)\n",
    "  - Installing py (1.11.0)\n",
    "  - Installing toml (0.10.2)\n",
    "  - Installing tomli (1.2.3)\n",
    "  - Installing tomlkit (0.12.4)\n",
    "  - Installing urllib3 (2.2.1)\n",
    "  - Installing black (21.12b0)\n",
    "  - Installing pylint (2.17.7)\n",
    "  - Installing pytest (6.2.5)\n",
    "  - Installing requests (2.32.0)\n",
    "Warning: The file chosen for install of requests 2.32.0 (requests-2.32.0-py3-none-any.whl) is yanked. Reason for being yanked: Yanked due to conflicts with CVE-2024-35195 mitigation\n",
    "\n",
    "Installing the current project: gogettr (0.9.0)\n",
    "eyamrog@Rog-ASUS:~/work/gogettr$ "
   ]
  },
  {
   "cell_type": "markdown",
   "id": "4a5078a8-dc6e-4fae-8454-612a9c630349",
   "metadata": {},
   "source": [
    "## Running `GoGettr`"
   ]
  },
  {
   "cell_type": "markdown",
   "id": "ef01674e-cedc-423e-ba7f-325cc09caad6",
   "metadata": {},
   "source": [
    "### Activating and deactivating `GoGettr`'s environment"
   ]
  },
  {
   "cell_type": "raw",
   "id": "329f5452-448e-4fed-9e5b-c838eb6198bf",
   "metadata": {},
   "source": [
    "eyamrog@Rog-ASUS:~/work/gogettr$ gogettr --help\n",
    "gogettr: command not found\n",
    "eyamrog@Rog-ASUS:~/work/gogettr$ poetry shell\n",
    "Spawning shell within /home/eyamrog/.cache/pypoetry/virtualenvs/gogettr-msvC0KfL-py3.10\n",
    "eyamrog@Rog-ASUS:~/work/gogettr$ . /home/eyamrog/.cache/pypoetry/virtualenvs/gogettr-msvC0KfL-py3.10/bin/activate\n",
    "(gogettr-py3.10) eyamrog@Rog-ASUS:~/work/gogettr$ gogettr --help\n",
    "Usage: gogettr [OPTIONS] COMMAND [ARGS]...\n",
    "\n",
    "  GoGettr is an unauthenticated API client for GETTR.\n",
    "\n",
    "Options:\n",
    "  --version  Show the version and exit.\n",
    "  --help     Show this message and exit.\n",
    "\n",
    "Commands:\n",
    "  all             Pull all posts (or comments) sequentially.\n",
    "  comments        Pull comments on a specific post.\n",
    "  hashtags        Pull the suggested hashtags (the top suggestions are...\n",
    "  live            Pull livestream posts.\n",
    "  search          Search posts for the given query.\n",
    "  suggested       Pull the suggested users (users displayed on the home...\n",
    "  trends          Pull all the trends (posts displayed on the home page).\n",
    "  user            Pull the posts, likes, or comments made by a user.\n",
    "  user-followers  Pull all a user's followers.\n",
    "  user-following  Pull all users a given user follows.\n",
    "  user-info       Pull given user's information.\n",
    "(gogettr-py3.10) eyamrog@Rog-ASUS:~/work/gogettr$ exit\n",
    "exit\n",
    "eyamrog@Rog-ASUS:~/work/gogettr$ "
   ]
  },
  {
   "cell_type": "markdown",
   "id": "031b6342-37d4-4ad3-bd2c-2c1e9455b372",
   "metadata": {},
   "source": [
    "### Running tests"
   ]
  },
  {
   "cell_type": "markdown",
   "id": "f9537f82-ef53-462f-9794-48a8f173248e",
   "metadata": {},
   "source": [
    "`GoGettr` fails in 21 out of 22 tests."
   ]
  },
  {
   "cell_type": "raw",
   "id": "729ec0df-9597-4950-8392-d89bab4d0a00",
   "metadata": {},
   "source": [
    "(gogettr-py3.10) eyamrog@Rog-ASUS:~/work/gogettr$ poetry run pytest\n",
    "============================= test session starts ==============================\n",
    "platform linux -- Python 3.10.12, pytest-6.2.5, py-1.11.0, pluggy-1.4.0\n",
    "rootdir: /home/eyamrog/work/gogettr\n",
    "collected 22 items\n",
    "\n",
    "tests/test_all.py FFFF                                                   [ 18%]\n",
    "tests/test_comments.py FFF                                               [ 31%]\n",
    "tests/test_hashtags.py F                                                 [ 36%]\n",
    "tests/test_live.py F                                                     [ 40%]\n",
    "tests/test_search.py FF                                                  [ 50%]\n",
    "tests/test_suggested.py F                                                [ 54%]\n",
    "tests/test_trends.py .                                                   [ 59%]\n",
    "tests/test_user_activity.py FFFFF                                        [ 81%]\n",
    "tests/test_user_info.py FF                                               [ 90%]\n",
    "tests/test_user_relationships.py FF                                      [100%]\n",
    "\n",
    "<omitted>\n",
    "\n",
    "====================================================================== short test summary info ======================================================================\n",
    "FAILED tests/test_all.py::test_all_posts - requests.exceptions.JSONDecodeError: Expecting value: line 1 column 1 (char 0)\n",
    "FAILED tests/test_all.py::test_user_posts_downward - requests.exceptions.JSONDecodeError: Expecting value: line 1 column 1 (char 0)\n",
    "FAILED tests/test_all.py::test_user_posts_limited_id - requests.exceptions.JSONDecodeError: Expecting value: line 1 column 1 (char 0)\n",
    "FAILED tests/test_all.py::test_all_comments - requests.exceptions.JSONDecodeError: Expecting value: line 1 column 1 (char 0)\n",
    "FAILED tests/test_comments.py::test_comments_from_post - requests.exceptions.JSONDecodeError: Expecting value: line 1 column 1 (char 0)\n",
    "FAILED tests/test_comments.py::test_comments_from_post_no_comments - requests.exceptions.JSONDecodeError: Expecting value: line 1 column 1 (char 0)\n",
    "FAILED tests/test_comments.py::test_comments_from_post_two_comments - requests.exceptions.JSONDecodeError: Expecting value: line 1 column 1 (char 0)\n",
    "FAILED tests/test_hashtags.py::test_suggested_hashtags - requests.exceptions.JSONDecodeError: Expecting value: line 1 column 1 (char 0)\n",
    "FAILED tests/test_live.py::test_live_all - requests.exceptions.JSONDecodeError: Expecting value: line 1 column 1 (char 0)\n",
    "FAILED tests/test_search.py::test_basic_search - requests.exceptions.JSONDecodeError: Expecting value: line 1 column 1 (char 0)\n",
    "FAILED tests/test_search.py::test_paginated_search - requests.exceptions.JSONDecodeError: Expecting value: line 1 column 1 (char 0)\n",
    "FAILED tests/test_suggested.py::test_suggested - requests.exceptions.JSONDecodeError: Expecting value: line 1 column 1 (char 0)\n",
    "FAILED tests/test_user_activity.py::test_user_posts - requests.exceptions.JSONDecodeError: Expecting value: line 1 column 1 (char 0)\n",
    "FAILED tests/test_user_activity.py::test_user_posts_max - requests.exceptions.JSONDecodeError: Expecting value: line 1 column 1 (char 0)\n",
    "FAILED tests/test_user_activity.py::test_user_comments - requests.exceptions.JSONDecodeError: Expecting value: line 1 column 1 (char 0)\n",
    "FAILED tests/test_user_activity.py::test_user_likes - requests.exceptions.JSONDecodeError: Expecting value: line 1 column 1 (char 0)\n",
    "FAILED tests/test_user_activity.py::test_user_pagination - requests.exceptions.JSONDecodeError: Expecting value: line 1 column 1 (char 0)\n",
    "FAILED tests/test_user_info.py::test_user_info - requests.exceptions.JSONDecodeError: Expecting value: line 1 column 1 (char 0)\n",
    "FAILED tests/test_user_info.py::test_user_info_nonexistent - requests.exceptions.JSONDecodeError: Expecting value: line 1 column 1 (char 0)\n",
    "FAILED tests/test_user_relationships.py::test_user_following - requests.exceptions.JSONDecodeError: Expecting value: line 1 column 1 (char 0)\n",
    "FAILED tests/test_user_relationships.py::test_user_followers - requests.exceptions.JSONDecodeError: Expecting value: line 1 column 1 (char 0)\n",
    "=================================================================== 21 failed, 1 passed in 3.59s ===================================================================="
   ]
  },
  {
   "cell_type": "markdown",
   "id": "250da286-0d41-4800-a0cf-cd1ea8b5a667",
   "metadata": {},
   "source": [
    "### Running a request"
   ]
  },
  {
   "cell_type": "raw",
   "id": "048d5896-d68c-42dc-b091-6a0db3ba6edf",
   "metadata": {},
   "source": [
    "(gogettr-py3.10) eyamrog@Rog-ASUS:~/work/gogettr$ gogettr user stevebannon --type posts\n",
    "Traceback (most recent call last):\n",
    "  File \"/home/eyamrog/.cache/pypoetry/virtualenvs/gogettr-msvC0KfL-py3.10/lib/python3.10/site-packages/requests/models.py\", line 974, in json\n",
    "    return complexjson.loads(self.text, **kwargs)\n",
    "  File \"/usr/lib/python3.10/json/__init__.py\", line 346, in loads\n",
    "    return _default_decoder.decode(s)\n",
    "  File \"/usr/lib/python3.10/json/decoder.py\", line 337, in decode\n",
    "    obj, end = self.raw_decode(s, idx=_w(s, 0).end())\n",
    "  File \"/usr/lib/python3.10/json/decoder.py\", line 355, in raw_decode\n",
    "    raise JSONDecodeError(\"Expecting value\", s, err.value) from None\n",
    "json.decoder.JSONDecodeError: Expecting value: line 1 column 1 (char 0)\n",
    "\n",
    "During handling of the above exception, another exception occurred:\n",
    "\n",
    "Traceback (most recent call last):\n",
    "  File \"/home/eyamrog/.cache/pypoetry/virtualenvs/gogettr-msvC0KfL-py3.10/bin/gogettr\", line 6, in <module>\n",
    "    sys.exit(cli())\n",
    "  File \"/home/eyamrog/.cache/pypoetry/virtualenvs/gogettr-msvC0KfL-py3.10/lib/python3.10/site-packages/click/core.py\", line 1157, in __call__\n",
    "    return self.main(*args, **kwargs)\n",
    "  File \"/home/eyamrog/.cache/pypoetry/virtualenvs/gogettr-msvC0KfL-py3.10/lib/python3.10/site-packages/click/core.py\", line 1078, in main\n",
    "    rv = self.invoke(ctx)\n",
    "  File \"/home/eyamrog/.cache/pypoetry/virtualenvs/gogettr-msvC0KfL-py3.10/lib/python3.10/site-packages/click/core.py\", line 1688, in invoke\n",
    "    return _process_result(sub_ctx.command.invoke(sub_ctx))\n",
    "  File \"/home/eyamrog/.cache/pypoetry/virtualenvs/gogettr-msvC0KfL-py3.10/lib/python3.10/site-packages/click/core.py\", line 1434, in invoke\n",
    "    return ctx.invoke(self.callback, **ctx.params)\n",
    "  File \"/home/eyamrog/.cache/pypoetry/virtualenvs/gogettr-msvC0KfL-py3.10/lib/python3.10/site-packages/click/core.py\", line 783, in invoke\n",
    "    return __callback(*args, **kwargs)\n",
    "  File \"/home/eyamrog/work/gogettr/gogettr/cli.py\", line 41, in user\n",
    "    for post in client.user_activity(username.lower(), max=max, until=until, type=type):\n",
    "  File \"/home/eyamrog/work/gogettr/gogettr/capabilities/user_activity.py\", line 38, in pull\n",
    "    for data in self.client.get_paginated(\n",
    "  File \"/home/eyamrog/work/gogettr/gogettr/api.py\", line 98, in get_paginated\n",
    "    data = self.get(*args, **kwargs)\n",
    "  File \"/home/eyamrog/work/gogettr/gogettr/api.py\", line 75, in get\n",
    "    data = resp.json()\n",
    "  File \"/home/eyamrog/.cache/pypoetry/virtualenvs/gogettr-msvC0KfL-py3.10/lib/python3.10/site-packages/requests/models.py\", line 978, in json\n",
    "    raise RequestsJSONDecodeError(e.msg, e.doc, e.pos)\n",
    "requests.exceptions.JSONDecodeError: Expecting value: line 1 column 1 (char 0)\n",
    "(gogettr-py3.10) eyamrog@Rog-ASUS:~/work/gogettr$ "
   ]
  },
  {
   "cell_type": "code",
   "execution_count": null,
   "id": "875b774d-705d-4e40-bab1-71f7995716dd",
   "metadata": {},
   "outputs": [],
   "source": []
  }
 ],
 "metadata": {
  "kernelspec": {
   "display_name": "Python 3 (ipykernel)",
   "language": "python",
   "name": "python3"
  },
  "language_info": {
   "codemirror_mode": {
    "name": "ipython",
    "version": 3
   },
   "file_extension": ".py",
   "mimetype": "text/x-python",
   "name": "python",
   "nbconvert_exporter": "python",
   "pygments_lexer": "ipython3",
   "version": "3.11.8"
  }
 },
 "nbformat": 4,
 "nbformat_minor": 5
}
