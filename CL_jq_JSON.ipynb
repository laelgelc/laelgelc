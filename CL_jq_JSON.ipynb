{
 "cells": [
  {
   "cell_type": "markdown",
   "id": "810d9f10-ec19-4b09-8f90-e983e460b319",
   "metadata": {},
   "source": [
    "<center>\n",
    "<img src=\"https://laelgelcpublic.s3.sa-east-1.amazonaws.com/lael_50_years_narrow_white.png.no_years.400px_96dpi.png\" width=\"300\" alt=\"LAEL 50 years logo\">\n",
    "<h3>APPLIED LINGUISTICS GRADUATE PROGRAMME (LAEL)</h3>\n",
    "</center>\n",
    "<hr>"
   ]
  },
  {
   "cell_type": "markdown",
   "id": "888c2c96-2fc3-4a1a-995b-c388036a2a15",
   "metadata": {},
   "source": [
    "# Prettifying JSON with `jq`"
   ]
  },
  {
   "cell_type": "markdown",
   "id": "7a9c2af7-9fc1-4f51-a4f5-2ed915b93039",
   "metadata": {},
   "source": [
    "## What is `jq`?"
   ]
  },
  {
   "cell_type": "markdown",
   "id": "1b4a8657-0245-4eaf-b11f-233891dc8849",
   "metadata": {},
   "source": [
    "`jq` is a command-line JSON processor that can be used to filter a JSON file into a more readable, convenient format (prettify). Please refer to the following references for further information:\n",
    "\n",
    "[Guide to Linux jq Command for JSON Processing](https://www.baeldung.com/linux/jq-command-json)\n",
    "\n",
    "[jq documentation - DevDocs](https://devdocs.io/jq/)"
   ]
  },
  {
   "cell_type": "markdown",
   "id": "d23f77a0",
   "metadata": {},
   "source": [
    "## Install `jq`"
   ]
  },
  {
   "cell_type": "code",
   "execution_count": null,
   "id": "51c4f212",
   "metadata": {
    "vscode": {
     "languageId": "plaintext"
    }
   },
   "outputs": [],
   "source": [
    "ubuntu@ip-172-31-3-178:~$ sudo apt install -y jq\n",
    "<omitted>\n",
    "ubuntu@ip-172-31-3-178:~$ jq --help\n",
    "jq - commandline JSON processor [version 1.6]\n",
    "<omitted>\n",
    "ubuntu@ip-172-31-3-178:~$ \n"
   ]
  },
  {
   "cell_type": "markdown",
   "id": "7141b41d",
   "metadata": {},
   "source": [
    "## Fetch a JSON file from its URL"
   ]
  },
  {
   "cell_type": "code",
   "execution_count": null,
   "id": "6af4ee2e",
   "metadata": {
    "vscode": {
     "languageId": "plaintext"
    }
   },
   "outputs": [],
   "source": [
    "ubuntu@ip-172-31-3-178:~$ curl -O https://laelgelcawsemrmariana.s3.sa-east-1.amazonaws.com/mari201901.jsonl\n",
    "  % Total    % Received % Xferd  Average Speed   Time    Time     Time  Current\n",
    "                                 Dload  Upload   Total   Spent    Left  Speed\n",
    "100  242M  100  242M    0     0  65.8M      0  0:00:03  0:00:03 --:--:-- 65.9M\n",
    "ubuntu@ip-172-31-3-178:~$ ll\n",
    "total 248104\n",
    "drwxr-x--- 4 ubuntu ubuntu      4096 Jan 18 12:44 ./\n",
    "drwxr-xr-x 3 root   root        4096 Jan 18 12:14 ../\n",
    "-rw------- 1 ubuntu ubuntu       371 Jan 18 12:43 .bash_history\n",
    "-rw-r--r-- 1 ubuntu ubuntu       220 Jan  6  2022 .bash_logout\n",
    "-rw-r--r-- 1 ubuntu ubuntu      3771 Jan  6  2022 .bashrc\n",
    "drwx------ 2 ubuntu ubuntu      4096 Jan 18 12:14 .cache/\n",
    "-rw-r--r-- 1 ubuntu ubuntu       807 Jan  6  2022 .profile\n",
    "drwx------ 2 ubuntu ubuntu      4096 Jan 18 12:14 .ssh/\n",
    "-rw-r--r-- 1 ubuntu ubuntu         0 Jan 18 12:15 .sudo_as_admin_successful\n",
    "-rw-rw-r-- 1 ubuntu ubuntu 254025044 Jan 18 12:44 mari201901.jsonl\n",
    "ubuntu@ip-172-31-3-178:~$ \n"
   ]
  },
  {
   "cell_type": "markdown",
   "id": "ae4c89f2",
   "metadata": {},
   "source": [
    "## JSON file before prettifying"
   ]
  },
  {
   "cell_type": "code",
   "execution_count": null,
   "id": "2be0b7ad",
   "metadata": {
    "vscode": {
     "languageId": "plaintext"
    }
   },
   "outputs": [],
   "source": [
    "ubuntu@ip-172-31-3-178:~$ head -1 mari201901.jsonl\n",
    "{\"created_at\":\"Tue Jan 15 14:07:11 +0000 2019\",\"entities\":{\"hashtags\":[{\"indices\":[67,77],\"text\":\"Venezuela\"}],\"symbols\":[],\"urls\":[],\"user_mentions\":[{\"id\":150342453,\"id_str\":\"150342453\",\"indices\":[3,14],\"name\":\"Cecilia Pérez Jara\",\"screen_name\":\"ceciperez1\"},{\"id\":42102939,\"id_str\":\"42102939\",\"indices\":[118,134],\"name\":\"Gobierno de Chile\",\"screen_name\":\"GobiernodeChile\"}]},\"favorite_count\":0,\"favorited\":false,\"filter_level\":\"low\",\"id\":1085176574671048705,\"id_str\":\"1085176574671048705\",\"is_quote_status\":false,\"lang\":\"es\",\"quote_count\":0,\"reply_count\":0,\"retweet_count\":0,\"retweeted\":false,\"retweeted_status\":{\"created_at\":\"Tue Jan 15 10:51:32 +0000 2019\",\"display_text_range\":[0,140],\"entities\":{\"hashtags\":[{\"indices\":[51,61],\"text\":\"Venezuela\"}],\"symbols\":[],\"urls\":[{\"display_url\":\"twitter.com/i/web/status/1…\",\"expanded_url\":\"https://twitter.com/i/web/status/1085127334976466944\",\"indices\":[103,126],\"url\":\"https://t.co/pyUGlGqScB\"}],\"user_mentions\":[]},\"extended_tweet\":{\"display_text_range\":[0,280],\"entities\":{\"hashtags\":[{\"indices\":[51,61],\"text\":\"Venezuela\"}],\"media\":[{\"additional_media_info\":{\"monetizable\":false},\"display_url\":\"pic.twitter.com/bmNsW5bnQx\",\"expanded_url\":\"https://twitter.com/ceciperez1/status/1085127334976466944/video/1\",\"id\":1085127220774031360,\"id_str\":\"1085127220774031360\",\"indices\":[281,304],\"media_url\":\"http://pbs.twimg.com/ext_tw_video_thumb/1085127220774031360/pu/img/PgAZ2SijACb0NicF.jpg\",\"media_url_https\":\"https://pbs.twimg.com/ext_tw_video_thumb/1085127220774031360/pu/img/PgAZ2SijACb0NicF.jpg\",\"sizes\":{\"large\":{\"h\":720,\"resize\":\"fit\",\"w\":1280},\"medium\":{\"h\":675,\"resize\":\"fit\",\"w\":1200},\"small\":{\"h\":383,\"resize\":\"fit\",\"w\":680},\"thumb\":{\"h\":150,\"resize\":\"crop\",\"w\":150}},\"type\":\"video\",\"url\":\"https://t.co/bmNsW5bnQx\",\"video_info\":{\"aspect_ratio\":[16,9],\"duration_millis\":41583,\"variants\":[{\"bitrate\":256000,\"content_type\":\"video/mp4\",\"url\":\"https://video.twimg.com/ext_tw_video/1085127220774031360/pu/vid/320x180/vz_gCW9_OlZf-QHM.mp4?tag=8\"},{\"bitrate\":832000,\"content_type\":\"video/mp4\",\"url\":\"https://video.twimg.com/ext_tw_video/1085127220774031360/pu/vid/640x360/mEyoQ64D87d2KM1F.mp4?tag=8\"},{\"bitrate\":2176000,\"content_type\":\"video/mp4\",\"url\":\"https://video.twimg.com/ext_tw_video/1085127220774031360/pu/vid/1280x720/u6ahAStynRKTNIW3.mp4?tag=8\"},{\"content_type\":\"application/x-mpegURL\",\"url\":\"https://video.twimg.com/ext_tw_video/1085127220774031360/pu/pl/P9nWleh31SXfVvYN.m3u8?tag=8\"}]}}],\"symbols\":[],\"urls\":[],\"user_mentions\":[{\"id\":42102939,\"id_str\":\"42102939\",\"indices\":[102,118],\"name\":\"Gobierno de Chile\",\"screen_name\":\"GobiernodeChile\"},{\"id\":1252764865,\"id_str\":\"1252764865\",\"indices\":[197,211],\"name\":\"Nicolás Maduro\",\"screen_name\":\"NicolasMaduro\"},{\"id\":39176902,\"id_str\":\"39176902\",\"indices\":[237,245],\"name\":\"Juan Guaidó\",\"screen_name\":\"jguaido\"}]},\"extended_entities\":{\"media\":[{\"additional_media_info\":{\"monetizable\":false},\"display_url\":\"pic.twitter.com/bmNsW5bnQx\",\"expanded_url\":\"https://twitter.com/ceciperez1/status/1085127334976466944/video/1\",\"id\":1085127220774031360,\"id_str\":\"1085127220774031360\",\"indices\":[281,304],\"media_url\":\"http://pbs.twimg.com/ext_tw_video_thumb/1085127220774031360/pu/img/PgAZ2SijACb0NicF.jpg\",\"media_url_https\":\"https://pbs.twimg.com/ext_tw_video_thumb/1085127220774031360/pu/img/PgAZ2SijACb0NicF.jpg\",\"sizes\":{\"large\":{\"h\":720,\"resize\":\"fit\",\"w\":1280},\"medium\":{\"h\":675,\"resize\":\"fit\",\"w\":1200},\"small\":{\"h\":383,\"resize\":\"fit\",\"w\":680},\"thumb\":{\"h\":150,\"resize\":\"crop\",\"w\":150}},\"type\":\"video\",\"url\":\"https://t.co/bmNsW5bnQx\",\"video_info\":{\"aspect_ratio\":[16,9],\"duration_millis\":41583,\"variants\":[{\"bitrate\":256000,\"content_type\":\"video/mp4\",\"url\":\"https://video.twimg.com/ext_tw_video/1085127220774031360/pu/vid/320x180/vz_gCW9_OlZf-QHM.mp4?tag=8\"},{\"bitrate\":832000,\"content_type\":\"video/mp4\",\"url\":\"https://video.twimg.com/ext_tw_video/1085127220774031360/pu/vid/640x360/mEyoQ64D87d2KM1F.mp4?tag=8\"},{\"bitrate\":2176000,\"content_type\":\"video/mp4\",\"url\":\"https://video.twimg.com/ext_tw_video/1085127220774031360/pu/vid/1280x720/u6ahAStynRKTNIW3.mp4?tag=8\"},{\"content_type\":\"application/x-mpegURL\",\"url\":\"https://video.twimg.com/ext_tw_video/1085127220774031360/pu/pl/P9nWleh31SXfVvYN.m3u8?tag=8\"}]}}]},\"full_text\":\"Chile solidariza con cada demócrata q lucha para q #Venezuela recupere su democracia y libertad. Como @GobiernodeChile condenamos la acción ilegal y el matonaje de la policia política del dictador @NicolasMaduro para detener al Diputado @jguaido, Pdte de la Asamblea Nacional.🇻🇪🇨🇱 https://t.co/bmNsW5bnQx\"},\"favorite_count\":650,\"favorited\":false,\"filter_level\":\"low\",\"id\":1085127334976466944,\"id_str\":\"1085127334976466944\",\"is_quote_status\":false,\"lang\":\"es\",\"place\":{\"bounding_box\":{\"coordinates\":[[[-70.653849,-33.442901],[-70.653849,-33.442901],[-70.653849,-33.442901],[-70.653849,-33.442901]]],\"type\":\"Polygon\"},\"country\":\"Chile\",\"country_code\":\"CL\",\"full_name\":\"Palacio de La Moneda\",\"id\":\"07d9db49aa487000\",\"name\":\"Palacio de La Moneda\",\"place_type\":\"poi\",\"url\":\"https://api.twitter.com/1.1/geo/id/07d9db49aa487000.json\"},\"possibly_sensitive\":false,\"quote_count\":9,\"reply_count\":46,\"retweet_count\":337,\"retweeted\":false,\"source\":\"<a href=\\\"http://twitter.com/download/iphone\\\" rel=\\\"nofollow\\\">Twitter for iPhone</a>\",\"text\":\"Chile solidariza con cada demócrata q lucha para q #Venezuela recupere su democracia y libertad. Como… https://t.co/pyUGlGqScB\",\"truncated\":true,\"user\":{\"contributors_enabled\":false,\"created_at\":\"Mon May 31 18:00:20 +0000 2010\",\"default_profile\":true,\"default_profile_image\":false,\"description\":\"Ministra Secretaria General de Gobierno del Presidente @sebastianpinera (@Segegob). Madre de dos princesas, con el ❤️ llenito, chuncha hasta la médula. 🤗\",\"favourites_count\":11486,\"followers_count\":175686,\"friends_count\":4039,\"geo_enabled\":true,\"id\":150342453,\"id_str\":\"150342453\",\"is_translator\":false,\"lang\":\"es\",\"listed_count\":582,\"location\":\"Santiago- Chile\",\"name\":\"Cecilia Pérez Jara\",\"profile_background_color\":\"C0DEED\",\"profile_background_image_url\":\"http://abs.twimg.com/images/themes/theme1/bg.png\",\"profile_background_image_url_https\":\"https://abs.twimg.com/images/themes/theme1/bg.png\",\"profile_background_tile\":false,\"profile_banner_url\":\"https://pbs.twimg.com/profile_banners/150342453/1543343161\",\"profile_image_url\":\"http://pbs.twimg.com/profile_images/1056622153838288896/TEzNywWl_normal.jpg\",\"profile_image_url_https\":\"https://pbs.twimg.com/profile_images/1056622153838288896/TEzNywWl_normal.jpg\",\"profile_link_color\":\"1DA1F2\",\"profile_sidebar_border_color\":\"C0DEED\",\"profile_sidebar_fill_color\":\"DDEEF6\",\"profile_text_color\":\"333333\",\"profile_use_background_image\":true,\"protected\":false,\"screen_name\":\"ceciperez1\",\"statuses_count\":60304,\"translator_type\":\"none\",\"verified\":true}},\"source\":\"<a href=\\\"https://mobile.twitter.com\\\" rel=\\\"nofollow\\\">Twitter Lite</a>\",\"text\":\"RT @ceciperez1: Chile solidariza con cada demócrata q lucha para q #Venezuela recupere su democracia y libertad. Como @GobiernodeChile cond…\",\"timestamp_ms\":\"1547561231664\",\"truncated\":false,\"user\":{\"contributors_enabled\":false,\"created_at\":\"Mon Jan 04 21:33:19 +0000 2010\",\"default_profile\":false,\"default_profile_image\":false,\"description\":\"Locutora, Modelo y Actriz\",\"favourites_count\":11245,\"followers_count\":1510,\"friends_count\":880,\"geo_enabled\":true,\"id\":101868914,\"id_str\":\"101868914\",\"is_translator\":false,\"lang\":\"es\",\"listed_count\":22,\"location\":\"Caracas\",\"name\":\"Gloria Valderrama\",\"profile_background_color\":\"DBE9ED\",\"profile_background_image_url\":\"http://abs.twimg.com/images/themes/theme17/bg.gif\",\"profile_background_image_url_https\":\"https://abs.twimg.com/images/themes/theme17/bg.gif\",\"profile_background_tile\":false,\"profile_banner_url\":\"https://pbs.twimg.com/profile_banners/101868914/1403632691\",\"profile_image_url\":\"http://pbs.twimg.com/profile_images/675642231496253440/jfF8UX1f_normal.jpg\",\"profile_image_url_https\":\"https://pbs.twimg.com/profile_images/675642231496253440/jfF8UX1f_normal.jpg\",\"profile_link_color\":\"CC3366\",\"profile_sidebar_border_color\":\"DBE9ED\",\"profile_sidebar_fill_color\":\"E6F6F9\",\"profile_text_color\":\"333333\",\"profile_use_background_image\":true,\"protected\":false,\"screen_name\":\"GloriaValderram\",\"statuses_count\":24501,\"translator_type\":\"none\",\"verified\":false}}\n",
    "ubuntu@ip-172-31-3-178:~$ \n"
   ]
  },
  {
   "cell_type": "markdown",
   "id": "8a997e06",
   "metadata": {},
   "source": [
    "## Prettifying the JSON file"
   ]
  },
  {
   "cell_type": "code",
   "execution_count": null,
   "id": "cd137a98",
   "metadata": {
    "vscode": {
     "languageId": "plaintext"
    }
   },
   "outputs": [],
   "source": [
    "ubuntu@ip-172-31-3-178:~$ jq '.' mari201901.jsonl > mari201901_pret.jsonl\n",
    "ubuntu@ip-172-31-3-178:~$ \n",
    "ubuntu@ip-172-31-3-178:~$ ll\n",
    "total 607536\n",
    "drwxr-x--- 4 ubuntu ubuntu      4096 Jan 18 13:02 ./\n",
    "drwxr-xr-x 3 root   root        4096 Jan 18 12:14 ../\n",
    "-rw------- 1 ubuntu ubuntu       371 Jan 18 12:43 .bash_history\n",
    "-rw-r--r-- 1 ubuntu ubuntu       220 Jan  6  2022 .bash_logout\n",
    "-rw-r--r-- 1 ubuntu ubuntu      3771 Jan  6  2022 .bashrc\n",
    "drwx------ 2 ubuntu ubuntu      4096 Jan 18 12:14 .cache/\n",
    "-rw-r--r-- 1 ubuntu ubuntu       807 Jan  6  2022 .profile\n",
    "drwx------ 2 ubuntu ubuntu      4096 Jan 18 12:14 .ssh/\n",
    "-rw-r--r-- 1 ubuntu ubuntu         0 Jan 18 12:15 .sudo_as_admin_successful\n",
    "-rw-rw-r-- 1 ubuntu ubuntu 254025044 Jan 18 12:44 mari201901.jsonl\n",
    "-rw-rw-r-- 1 ubuntu ubuntu 368053861 Jan 18 13:10 mari201901_pret.jsonl\n",
    "ubuntu@ip-172-31-3-178:~$ "
   ]
  },
  {
   "cell_type": "markdown",
   "id": "320a1480",
   "metadata": {},
   "source": [
    "## JSON file after prettifying"
   ]
  },
  {
   "cell_type": "code",
   "execution_count": null,
   "id": "6554f944",
   "metadata": {
    "vscode": {
     "languageId": "plaintext"
    }
   },
   "outputs": [],
   "source": [
    "ubuntu@ip-172-31-3-178:~$ head -30 mari201901_pret.jsonl\n",
    "{\n",
    "  \"created_at\": \"Tue Jan 15 14:07:11 +0000 2019\",\n",
    "  \"entities\": {\n",
    "    \"hashtags\": [\n",
    "      {\n",
    "        \"indices\": [\n",
    "          67,\n",
    "          77\n",
    "        ],\n",
    "        \"text\": \"Venezuela\"\n",
    "      }\n",
    "    ],\n",
    "    \"symbols\": [],\n",
    "    \"urls\": [],\n",
    "    \"user_mentions\": [\n",
    "      {\n",
    "        \"id\": 150342453,\n",
    "        \"id_str\": \"150342453\",\n",
    "        \"indices\": [\n",
    "          3,\n",
    "          14\n",
    "        ],\n",
    "        \"name\": \"Cecilia Pérez Jara\",\n",
    "        \"screen_name\": \"ceciperez1\"\n",
    "      },\n",
    "      {\n",
    "        \"id\": 42102939,\n",
    "        \"id_str\": \"42102939\",\n",
    "        \"indices\": [\n",
    "          118,\n",
    "ubuntu@ip-172-31-3-178:~$ "
   ]
  },
  {
   "cell_type": "markdown",
   "id": "63203492",
   "metadata": {},
   "source": [
    "## Transfer the file to the main operating system\n",
    "Here is an example of how to do this considering the case of Windows WSL (replace <user_name> by your actual user name on your Windows computer):"
   ]
  },
  {
   "cell_type": "code",
   "execution_count": null,
   "id": "9c6e3e0b",
   "metadata": {
    "vscode": {
     "languageId": "plaintext"
    }
   },
   "outputs": [],
   "source": [
    "ubuntu@ip-172-31-3-178:~$ cp mari201901_pret.jsonl /mnt/c/Users/<user_name>/Documents/"
   ]
  },
  {
   "cell_type": "markdown",
   "id": "45230fc3",
   "metadata": {},
   "source": [
    "## You can use a code editor like Visual Studio Code to inspect the file"
   ]
  },
  {
   "cell_type": "markdown",
   "id": "0b5d7bf8",
   "metadata": {},
   "source": [
    "Please refer to the following reference to learn how to interpret the data model:\n",
    "\n",
    "[Introduction to Tweet JSON](https://developer.twitter.com/en/docs/twitter-api/v1/data-dictionary/overview)"
   ]
  },
  {
   "cell_type": "markdown",
   "id": "d2b1cc73",
   "metadata": {},
   "source": [
    "## Appendix A\n",
    "You can click on the following link to download the `mari201901_pret.jsonl` file used in this tutorial\n",
    "\n",
    "[mari201901_pret.jsonl](https://laelgelcawsemrmariana.s3.sa-east-1.amazonaws.com/mari201901_pret.jsonl)"
   ]
  }
 ],
 "metadata": {
  "kernelspec": {
   "display_name": "anaconda-panel-2023.05-py310",
   "language": "python",
   "name": "conda-env-anaconda-panel-2023.05-py310-py"
  },
  "language_info": {
   "codemirror_mode": {
    "name": "ipython",
    "version": 3
   },
   "file_extension": ".py",
   "mimetype": "text/x-python",
   "name": "python",
   "nbconvert_exporter": "python",
   "pygments_lexer": "ipython3",
   "version": "3.11.4"
  }
 },
 "nbformat": 4,
 "nbformat_minor": 5
}
