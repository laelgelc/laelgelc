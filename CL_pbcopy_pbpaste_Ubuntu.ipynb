{
 "cells": [
  {
   "cell_type": "markdown",
   "id": "810d9f10-ec19-4b09-8f90-e983e460b319",
   "metadata": {},
   "source": [
    "<center>\n",
    "<img src=\"https://laelgelcpublic.s3.sa-east-1.amazonaws.com/lael_50_years_narrow_white.png.no_years.400px_96dpi.png\" width=\"300\" alt=\"LAEL 50 years logo\">\n",
    "<h3>APPLIED LINGUISTICS GRADUATE PROGRAMME (LAEL)</h3>\n",
    "</center>\n",
    "<hr>"
   ]
  },
  {
   "cell_type": "markdown",
   "id": "888c2c96-2fc3-4a1a-995b-c388036a2a15",
   "metadata": {},
   "source": [
    "# Emulating macOS `pbcopy` and `pbpaste` over Ubuntu"
   ]
  },
  {
   "cell_type": "markdown",
   "id": "0a6d5008-b550-494d-bd26-08d6d5a7a372",
   "metadata": {},
   "source": [
    "`pbcopy` and `pbpaste` macOS commands are useful when developing and troubleshooting bash script code for data wrangling. Although they are macOS-specific, they can be emulated in Linux environments."
   ]
  },
  {
   "cell_type": "markdown",
   "id": "208d0e2c-cc68-4983-a36a-d1ae148bbfa5",
   "metadata": {},
   "source": [
    "References:\n",
    "- [How To Use Pbcopy And Pbpaste Commands On Linux](https://ostechnix.com/how-to-use-pbcopy-and-pbpaste-commands-on-linux/)\n",
    "- [VIM Editor Commands](https://sites.radford.edu/~mhtay/CPSC120/VIM_Editor_Commands.htm)\n",
    "- [Mac: Using the Clipboard on the Command Line (pbcopy/pbpaste)](https://www.youtube.com/watch?v=1Hsw4N1O6xI)"
   ]
  },
  {
   "cell_type": "markdown",
   "id": "8837f514-2f74-4075-8468-c2cfcbc4b15d",
   "metadata": {},
   "source": [
    "## Install `xsel`"
   ]
  },
  {
   "cell_type": "code",
   "execution_count": null,
   "id": "5f13238c-b9c5-4b24-825a-e2ec235a1b2a",
   "metadata": {},
   "outputs": [],
   "source": [
    "eyamrog@RogLet-ASUS:~$ sudo apt install xsel\n",
    "Reading package lists... Done\n",
    "Building dependency tree... Done\n",
    "Reading state information... Done\n",
    "The following NEW packages will be installed:\n",
    "  xsel\n",
    "0 upgraded, 1 newly installed, 0 to remove and 2 not upgraded.\n",
    "Need to get 20.5 kB of archives.\n",
    "After this operation, 60.4 kB of additional disk space will be used.\n",
    "Get:1 http://archive.ubuntu.com/ubuntu jammy/universe amd64 xsel amd64 1.2.0+git9bfc13d.20180109-3 [20.5 kB]\n",
    "Fetched 20.5 kB in 1s (19.9 kB/s)\n",
    "Selecting previously unselected package xsel.\n",
    "(Reading database ... 43318 files and directories currently installed.)\n",
    "Preparing to unpack .../xsel_1.2.0+git9bfc13d.20180109-3_amd64.deb ...\n",
    "Unpacking xsel (1.2.0+git9bfc13d.20180109-3) ...\n",
    "Setting up xsel (1.2.0+git9bfc13d.20180109-3) ...\n",
    "Processing triggers for man-db (2.10.2-1) ...\n",
    "eyamrog@RogLet-ASUS:~$ \n"
   ]
  },
  {
   "cell_type": "markdown",
   "id": "566a08c0-0733-4a09-b26f-e4f404b2bbfb",
   "metadata": {},
   "source": [
    "## Edit `~/.bashrc` with `vim`\n",
    "Alternatively, any other text editor can be used instead of `vim`"
   ]
  },
  {
   "cell_type": "code",
   "execution_count": null,
   "id": "e3af7778-b1bf-45dc-adb0-a57b39e8b397",
   "metadata": {},
   "outputs": [],
   "source": [
    "eyamrog@RogLet-ASUS:~$ vim ~/.bashrc\n"
   ]
  },
  {
   "cell_type": "markdown",
   "id": "dcd3cfae-ecff-46ce-8631-89b43c9cd1db",
   "metadata": {},
   "source": [
    "## Append the following lines to the `~/.bashrc` file by using the `vim` commands `G` + `$` + `a`"
   ]
  },
  {
   "cell_type": "code",
   "execution_count": null,
   "id": "3f1b35eb-9aa5-41f2-b83b-476ccfc1ae85",
   "metadata": {},
   "outputs": [],
   "source": [
    "# The following lines enable the emulation of the macOS commands 'pbcopy' and 'pbpaste'\n",
    "alias pbcopy='xsel --clipboard --input'\n",
    "alias pbpaste='xsel --clipboard --output'"
   ]
  },
  {
   "cell_type": "markdown",
   "id": "0c0a5160-482e-4df4-9e92-e05d90bd4423",
   "metadata": {},
   "source": [
    "## Save the `~/.bashrc` file with `ESC` + `:wq!`"
   ]
  },
  {
   "cell_type": "markdown",
   "id": "f71530bf-fd49-4227-abbc-453ef9ec0fff",
   "metadata": {},
   "source": [
    "## Source the `~/.bashrc` file"
   ]
  },
  {
   "cell_type": "code",
   "execution_count": null,
   "id": "3c90e6eb-ffad-4ecf-bbc3-13c17f68c900",
   "metadata": {},
   "outputs": [],
   "source": [
    "eyamrog@RogLet-ASUS:~$ source ~/.bashrc"
   ]
  },
  {
   "cell_type": "markdown",
   "id": "a884d751-7e88-4d07-8de7-e586698a6b97",
   "metadata": {},
   "source": [
    "## Demo"
   ]
  },
  {
   "cell_type": "markdown",
   "id": "8fc0c2a5-2a16-44e8-b029-972f5327793c",
   "metadata": {},
   "source": [
    "### Watch this brief tutorial:\n",
    "- [Mac: Using the Clipboard on the Command Line (pbcopy/pbpaste)](https://www.youtube.com/watch?v=1Hsw4N1O6xI)"
   ]
  },
  {
   "cell_type": "markdown",
   "id": "ec881102-7e50-4812-a670-9d4ec67bcded",
   "metadata": {},
   "source": [
    "### On your Ubuntu system, create the file `full_names.txt` using `vim` and enter the following names"
   ]
  },
  {
   "cell_type": "markdown",
   "id": "2ca88fc6-4ca9-43b4-8c57-4a242d244c68",
   "metadata": {},
   "source": [
    "Marcos Oliveira\n",
    "\n",
    "Maria Cláudia Delfino\n",
    "\n",
    "Adílson Gomes\n",
    "\n",
    "Fernanda Coelho\n",
    "\n",
    "Rogério Yamada"
   ]
  },
  {
   "cell_type": "markdown",
   "id": "c3113163-3b8c-46ae-9a23-557beeb05e4d",
   "metadata": {},
   "source": [
    "### Execute the following sequence of commands"
   ]
  },
  {
   "cell_type": "code",
   "execution_count": null,
   "id": "7dfe746a-7f82-48f9-889a-179fe54ec7c1",
   "metadata": {},
   "outputs": [],
   "source": [
    "eyamrog@RogLet-ASUS:~$ vim full_names.txt\n",
    "eyamrog@RogLet-ASUS:~$ more full_names.txt\n",
    "Marcos Oliveira\n",
    "Maria Cláudia Delfino\n",
    "Adílson Gomes\n",
    "Fernanda Coelho\n",
    "Rogério Yamada\n",
    "eyamrog@RogLet-ASUS:~$ pbcopy < full_names.txt\n",
    "eyamrog@RogLet-ASUS:~$ pbpaste\n",
    "Marcos Oliveira\n",
    "Maria Cláudia Delfino\n",
    "Adílson Gomes\n",
    "Fernanda Coelho\n",
    "Rogério Yamada\n",
    "eyamrog@RogLet-ASUS:~$ pbpaste | cut -d ' ' -f1\n",
    "Marcos\n",
    "Maria\n",
    "Adílson\n",
    "Fernanda\n",
    "Rogério\n",
    "eyamrog@RogLet-ASUS:~$ pbpaste | cut -d ' ' -f1 | pbcopy\n",
    "eyamrog@RogLet-ASUS:~$ pbpaste > first_names.txt\n",
    "eyamrog@RogLet-ASUS:~$ more first_names.txt\n",
    "Marcos\n",
    "Maria\n",
    "Adílson\n",
    "Fernanda\n",
    "Rogério\n",
    "eyamrog@RogLet-ASUS:~$ \n"
   ]
  }
 ],
 "metadata": {
  "kernelspec": {
   "display_name": "anaconda-panel-2023.05-py310",
   "language": "python",
   "name": "conda-env-anaconda-panel-2023.05-py310-py"
  },
  "language_info": {
   "codemirror_mode": {
    "name": "ipython",
    "version": 3
   },
   "file_extension": ".py",
   "mimetype": "text/x-python",
   "name": "python",
   "nbconvert_exporter": "python",
   "pygments_lexer": "ipython3",
   "version": "3.11.5"
  }
 },
 "nbformat": 4,
 "nbformat_minor": 5
}
