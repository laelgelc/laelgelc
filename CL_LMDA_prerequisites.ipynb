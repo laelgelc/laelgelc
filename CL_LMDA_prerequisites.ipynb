{
 "cells": [
  {
   "cell_type": "markdown",
   "id": "810d9f10-ec19-4b09-8f90-e983e460b319",
   "metadata": {
    "jp-MarkdownHeadingCollapsed": true
   },
   "source": [
    "<center>\n",
    "<img src=\"https://laelgelcpublic.s3.sa-east-1.amazonaws.com/lael_50_years_narrow_white.png.no_years.400px_96dpi.png\" width=\"300\" alt=\"LAEL 50 years logo\">\n",
    "<h3>APPLIED LINGUISTICS GRADUATE PROGRAMME (LAEL)</h3>\n",
    "</center>\n",
    "<hr>"
   ]
  },
  {
   "cell_type": "markdown",
   "id": "888c2c96-2fc3-4a1a-995b-c388036a2a15",
   "metadata": {},
   "source": [
    "# Lexical Multi-Dimensional Analysis - Prerequisites"
   ]
  },
  {
   "cell_type": "markdown",
   "id": "bc3bfb7c-e3dc-4840-9bf2-60a335f70448",
   "metadata": {},
   "source": [
    "The purpose of this document is to indicate the prerequisites of the **Lexical Multi-Dimensional Analysis** data processing for a Windows platform."
   ]
  },
  {
   "cell_type": "markdown",
   "id": "5ff82ec3-2171-4a44-9c78-ffbc989d6fc8",
   "metadata": {},
   "source": [
    "## Installing Visual Studio Code (VS Code)"
   ]
  },
  {
   "cell_type": "markdown",
   "id": "7bea9752-47fe-4369-be59-78c3229cc22c",
   "metadata": {},
   "source": [
    "- Follow the procedures on [Visual Studio Code - Download](https://code.visualstudio.com/Download)\n",
    "- Study how to open a [terminal](https://code.visualstudio.com/docs/terminal/basics)"
   ]
  },
  {
   "cell_type": "markdown",
   "id": "3fb93a1c-e137-47f8-a54d-0f800b56197a",
   "metadata": {},
   "source": [
    "## Installing Anaconda Distribution"
   ]
  },
  {
   "cell_type": "markdown",
   "id": "956350fb-e855-4b7a-b254-409f7f6b44e4",
   "metadata": {
    "tags": []
   },
   "source": [
    "- [Here](https://anaconda.cloud/sign-up) you can sign up to an account\n",
    "- [Here](https://www.anaconda.com/download#downloads) you can download an installer for Windows, Mac or Linux\n",
    "- Follow this [installation procedure](https://docs.anaconda.com/free/anaconda/install/)"
   ]
  },
  {
   "cell_type": "markdown",
   "id": "d999a6ff-4613-4b87-9e7a-d6a9249b65d5",
   "metadata": {},
   "source": [
    "## Start Anaconda Navigator"
   ]
  },
  {
   "cell_type": "markdown",
   "id": "a8df5eb7-eac2-42d6-9976-6eb2364a6153",
   "metadata": {},
   "source": [
    "The Anaconda Distribution provides a graphical user interface called Anaconda Navigator for the conda package and environment manager.\n",
    "- Go to [Getting started with Navigator](https://docs.anaconda.com/free/navigator/getting-started/#), scroll down to 'Starting Navigator' and follow the procedure to start Anaconda Navigator"
   ]
  },
  {
   "cell_type": "markdown",
   "id": "cd4e196f-5364-4c84-9f90-11636ef6e02d",
   "metadata": {},
   "source": [
    "## Setting up a Python virtual environment"
   ]
  },
  {
   "cell_type": "markdown",
   "id": "15dab1c1-c260-4f4d-9080-64986d7752f4",
   "metadata": {},
   "source": [
    "The same concept of virtual environments explained in the section **Setting up a Python virtual environment over Ubuntu over Windows** is applicable here.\n",
    "- Create an environment following the procedures on [Managing environments](https://docs.anaconda.com/free/navigator/tutorials/manage-environments/). An appropriate name should be chosen for the environment such as `Env20240401`"
   ]
  },
  {
   "cell_type": "markdown",
   "id": "5f939cc5-9535-41db-8e41-206d1331e555",
   "metadata": {},
   "source": [
    "## Select the Python environment and install the required modules"
   ]
  },
  {
   "cell_type": "markdown",
   "id": "ea9ed6c2-b7ef-4ab5-b205-6896e97dede9",
   "metadata": {},
   "source": [
    "Follow the procedures on [Managing channels](https://docs.anaconda.com/free/navigator/tutorials/manage-channels/) to add the following channel:\n",
    "- conda-forge\n",
    "\n",
    "There should be at least the following channels:\n",
    "- anaconda\n",
    "- conda-forge\n",
    "- defaults"
   ]
  },
  {
   "cell_type": "markdown",
   "id": "a399f4be-f6cf-4e36-a117-602e4e395355",
   "metadata": {},
   "source": [
    "Follow the procedures on [Managing packages](https://docs.anaconda.com/free/navigator/tutorials/manage-packages/) to install the following packages into the environment:\n",
    "- ipython\n",
    "- pandas\n",
    "- demoji"
   ]
  },
  {
   "cell_type": "markdown",
   "id": "36fd5f0e-7af9-4af2-9b69-9a909c6b96d8",
   "metadata": {},
   "source": [
    "## Installing Ubuntu over Microsoft Windows"
   ]
  },
  {
   "cell_type": "markdown",
   "id": "9c474884-4968-4e38-bc60-5b57eb3c20c6",
   "metadata": {},
   "source": [
    "The Windows Subsystem for Linux (WSL) lets developers install a Linux distribution and use Linux applications, utilities, and Bash command-line tools directly on Windows, unmodified, without the overhead of a traditional virtual machine or dualboot setup.\n",
    "- Follow the procedures on [Install Linux on Windows with WSL](https://learn.microsoft.com/en-us/windows/wsl/install) and on [Set up a WSL development environment](https://learn.microsoft.com/en-us/windows/wsl/setup/environment)"
   ]
  },
  {
   "cell_type": "markdown",
   "id": "39dc9548-e951-4be1-a0ad-a9448c8105d0",
   "metadata": {},
   "source": [
    "## Updating and upgrading Linux"
   ]
  },
  {
   "cell_type": "markdown",
   "id": "a853668e-9dbd-4225-90a9-187f5db088ed",
   "metadata": {},
   "source": [
    "```\n",
    "eyamrog@Rog-ASUS:~$ sudo apt update\n",
    "[sudo] password for eyamrog: <omitted>\n",
    "<omitted>\n",
    "\n",
    "eyamrog@Rog-ASUS:~$ sudo apt upgrade -y\n",
    "<omitted>\n",
    "eyamrog@Rog-ASUS:~$\n",
    "```"
   ]
  },
  {
   "cell_type": "markdown",
   "id": "9e1bf4be-393f-4d86-9d42-4dcfcfca2dd6",
   "metadata": {},
   "source": [
    "## Installing the required Linux commands and programmes"
   ]
  },
  {
   "cell_type": "markdown",
   "id": "14f7e645-c0d5-4ad4-ab3a-6246044aee79",
   "metadata": {},
   "source": [
    "### `rg` command"
   ]
  },
  {
   "cell_type": "markdown",
   "id": "b899893d-a6a1-42f2-991f-b2c11a00dbb4",
   "metadata": {},
   "source": [
    "```\n",
    "# Check and install 'rg'\n",
    "eyamrog@Rog-ASUS:~$ rg --help\n",
    "Command 'rg' not found, but can be installed with:\n",
    "sudo snap install ripgrep  # version 12.1.0, or\n",
    "sudo apt  install ripgrep  # version 13.0.0-2ubuntu0.1\n",
    "See 'snap info ripgrep' for additional versions.\n",
    "eyamrog@Rog-ASUS:~$ \n",
    "eyamrog@Rog-ASUS:~$ sudo apt install ripgrep\n",
    "Reading package lists... Done\n",
    "Building dependency tree... Done\n",
    "Reading state information... Done\n",
    "The following NEW packages will be installed:\n",
    "  ripgrep\n",
    "0 upgraded, 1 newly installed, 0 to remove and 2 not upgraded.\n",
    "Need to get 1300 kB of archives.\n",
    "After this operation, 4247 kB of additional disk space will be used.\n",
    "Get:1 http://archive.ubuntu.com/ubuntu jammy-updates/universe amd64 ripgrep amd64 13.0.0-2ubuntu0.1 [1300 kB]\n",
    "Fetched 1300 kB in 2s (571 kB/s)\n",
    "Selecting previously unselected package ripgrep.\n",
    "(Reading database ... 43037 files and directories currently installed.)\n",
    "Preparing to unpack .../ripgrep_13.0.0-2ubuntu0.1_amd64.deb ...\n",
    "Unpacking ripgrep (13.0.0-2ubuntu0.1) ...\n",
    "Setting up ripgrep (13.0.0-2ubuntu0.1) ...\n",
    "Processing triggers for man-db (2.10.2-1) ...\n",
    "eyamrog@Rog-ASUS:~$\n",
    "```"
   ]
  },
  {
   "cell_type": "markdown",
   "id": "d315d7e9-da55-493a-9bdc-05193f43c5fc",
   "metadata": {},
   "source": [
    "### `TreeTagger` programme"
   ]
  },
  {
   "cell_type": "markdown",
   "id": "35bfe6de-9761-473d-962b-a39edf0ed7e9",
   "metadata": {},
   "source": [
    "#### Download `TreeTagger`"
   ]
  },
  {
   "cell_type": "markdown",
   "id": "a2dbf558-394b-4af2-99c4-8ee36a104eee",
   "metadata": {},
   "source": [
    "The TreeTagger is a tool for annotating text with part-of-speech and lemma information.\n",
    "- Follow the procedures on [TreeTagger - a part-of-speech tagger for many languages](https://cis.uni-muenchen.de/~schmid/tools/TreeTagger/)\n",
    "- Choose the parameter file `english.par.gz` on '[English parameter file (PENN tagset)](https://cis.uni-muenchen.de/~schmid/tools/TreeTagger/data/english.par.gz) (gzip compressed, UTF8, tagset documentation, trained on the Penn treebank)'\n",
    "- Choose the parameter file `portuguese2.par.gz` on 'Another [Portuguese parameter file](https://cis.uni-muenchen.de/~schmid/tools/TreeTagger/data/portuguese2.par.gz) trained on the Floresta Sintá(c)tica corpus and the Unitex lexicon (gzip compressed, UTF8).'"
   ]
  },
  {
   "cell_type": "markdown",
   "id": "c50b4cde-6466-4ae3-8b38-0e6b6841e0ae",
   "metadata": {},
   "source": [
    "#### Install `TreeTagger`"
   ]
  },
  {
   "cell_type": "markdown",
   "id": "f6c4a37b-29af-4d96-a1a3-7b8a7d601747",
   "metadata": {},
   "source": [
    "- Follow the procedures on [TreeTagger - a part-of-speech tagger for many languages](https://cis.uni-muenchen.de/~schmid/tools/TreeTagger/)\n",
    "- Open a terminal in VS Code\n",
    "- In the `cp` commands in the following sequence, replace `eyamr` by your actual Windows username"
   ]
  },
  {
   "cell_type": "markdown",
   "id": "746aada8-d5bb-450b-8cc6-c962a280c1c2",
   "metadata": {},
   "source": [
    "```\n",
    "eyamrog@Rog-ASUS:~$ cd ~\n",
    "eyamrog@Rog-ASUS:~$ ll\n",
    "total 44\n",
    "drwxr-x--- 6 eyamrog eyamrog 4096 Apr 29 11:58 ./\n",
    "drwxr-xr-x 3 root    root    4096 Mar 31 22:09 ../\n",
    "drwxr-xr-x 2 eyamrog eyamrog 4096 Mar 31 23:21 .aws/\n",
    "-rw------- 1 eyamrog eyamrog 2455 Apr 29 11:46 .bash_history\n",
    "-rw-r--r-- 1 eyamrog eyamrog  220 Mar 31 22:09 .bash_logout\n",
    "-rw-r--r-- 1 eyamrog eyamrog 3943 Apr  6 09:47 .bashrc\n",
    "drwx------ 3 eyamrog eyamrog 4096 Apr 29 11:08 .cache/\n",
    "-rw-r--r-- 1 eyamrog eyamrog    0 Apr 29 05:51 .motd_shown\n",
    "-rw-r--r-- 1 eyamrog eyamrog  807 Mar 31 22:09 .profile\n",
    "-rw-r--r-- 1 eyamrog eyamrog    0 Mar 31 22:15 .sudo_as_admin_successful\n",
    "-rw------- 1 eyamrog eyamrog 1203 Apr  6 10:00 .viminfo\n",
    "drwxr-xr-x 5 eyamrog eyamrog 4096 Apr  6 09:56 my_env/\n",
    "drwxr-xr-x 2 eyamrog eyamrog 4096 Apr 14 22:36 work/\n",
    "eyamrog@Rog-ASUS:~$ mkdir treetagger\n",
    "eyamrog@Rog-ASUS:~$ cp /mnt/c/Users/eyamr/Downloads/tree-tagger-linux-3.2.5.tar.gz ~/treetagger/\n",
    "eyamrog@Rog-ASUS:~$ cp /mnt/c/Users/eyamr/Downloads/tagger-scripts.tar.gz ~/treetagger/\n",
    "eyamrog@Rog-ASUS:~$ cp /mnt/c/Users/eyamr/Downloads/install-tagger.sh ~/treetagger/\n",
    "eyamrog@Rog-ASUS:~$ cp /mnt/c/Users/eyamr/Downloads/portuguese2.par.gz ~/treetagger/\n",
    "eyamrog@Rog-ASUS:~$ cp /mnt/c/Users/eyamr/Downloads/english.par.gz ~/treetagger/\n",
    "eyamrog@Rog-ASUS:~$ cd treetagger\n",
    "eyamrog@Rog-ASUS:~/treetagger$ ll\n",
    "total 3648\n",
    "drwxr-xr-x 2 eyamrog eyamrog    4096 Apr 29 12:04 ./\n",
    "drwxr-x--- 7 eyamrog eyamrog    4096 Apr 29 11:58 ../\n",
    "-rwxr-xr-x 1 eyamrog eyamrog 3331743 Jun 28 15:10 english.par.gz*\n",
    "-rwxr-xr-x 1 eyamrog eyamrog   15696 Apr 29 12:04 install-tagger.sh*\n",
    "-rwxr-xr-x 1 eyamrog eyamrog 1642747 Apr 29 12:04 portuguese2.par.gz*\n",
    "-rwxr-xr-x 1 eyamrog eyamrog  206227 Apr 29 12:03 tagger-scripts.tar.gz*\n",
    "-rwxr-xr-x 1 eyamrog eyamrog 1853130 Apr 29 12:03 tree-tagger-linux-3.2.5.tar.gz*\n",
    "eyamrog@Rog-ASUS:~/treetagger$ \n",
    "eyamrog@Rog-ASUS:~/treetagger$ sh install-tagger.sh\n",
    "\n",
    "TreeTagger version for PC-Linux installed.\n",
    "Tagging scripts installed.\n",
    "English parameter file installed.\n",
    "Alternative Portuguese parameter file installed.\n",
    "Path variables modified in tagging scripts.\n",
    "\n",
    "You might want to add /home/eyamrog/treetagger/cmd and /home/eyamrog/treetagger/bin to the PATH variable so that you do not need to specify the full path to run the tagging scripts.\n",
    "\n",
    "eyamrog@Rog-ASUS:~/treetagger$ cd ~\n",
    "eyamrog@Rog-ASUS:~$ \n",
    "```"
   ]
  },
  {
   "cell_type": "markdown",
   "id": "92efa0b5-a1cf-4433-bfdb-91dd27b349de",
   "metadata": {},
   "source": [
    "#### Add `/home/eyamrog/treetagger/cmd` and `/home/eyamrog/treetagger/bin` to the PATH variable"
   ]
  },
  {
   "cell_type": "markdown",
   "id": "efa6c2f9-2b45-4943-a90b-4dcde45069ba",
   "metadata": {},
   "source": [
    "- Replace `/home/eyamrog` by your Ubuntu username"
   ]
  },
  {
   "cell_type": "markdown",
   "id": "26bff7e5-c1f9-41fb-9d28-46c8d91b5e1e",
   "metadata": {},
   "source": [
    "##### Edit `~/.bashrc` with `vim`\n",
    "Alternatively, any other text editor can be used instead of `vim`\n",
    "- Please refer to [Vim Basics in 8 Minutes](https://youtu.be/ggSyF1SVFr4?si=X7k4xFi-s7HjqQcY)"
   ]
  },
  {
   "cell_type": "markdown",
   "id": "c1564187-a1c6-4aea-9f05-d57bf444c801",
   "metadata": {},
   "source": [
    "```\n",
    "eyamrog@Rog-ASUS:~$ vim ~/.bashrc\n",
    "```"
   ]
  },
  {
   "cell_type": "markdown",
   "id": "a96731a4-a727-4f0a-803b-180fae1c06e5",
   "metadata": {},
   "source": [
    "##### Append the following lines to the `~/.bashrc` file by using the `vim` commands `G` + `$` + `a`"
   ]
  },
  {
   "cell_type": "markdown",
   "id": "12a56ac9-be25-47d1-be14-5e23c0a28a1d",
   "metadata": {},
   "source": [
    "```\n",
    "# The following lines add TreeTagger to the PATH variable\n",
    "export PATH=$PATH:/home/eyamrog/treetagger/cmd\n",
    "export PATH=$PATH:/home/eyamrog/treetagger/bin\n",
    "```"
   ]
  },
  {
   "cell_type": "markdown",
   "id": "b291f55a-ed2b-4e3c-8128-5b78aa809413",
   "metadata": {},
   "source": [
    "##### Save the `~/.bashrc` file with `ESC` + `:wq!`"
   ]
  },
  {
   "cell_type": "markdown",
   "id": "18d19103-ef02-422f-843a-6352992c0ddc",
   "metadata": {},
   "source": [
    "##### Source the `~/.bashrc` file"
   ]
  },
  {
   "cell_type": "markdown",
   "id": "1e662a7d-5ebf-4a05-879f-1f0538bf16b8",
   "metadata": {},
   "source": [
    "```\n",
    "eyamrog@Rog-ASUS:~$ source ~/.bashrc\n",
    "eyamrog@Rog-ASUS:~$ \n",
    "```"
   ]
  },
  {
   "cell_type": "markdown",
   "id": "7859381c-2051-4169-baec-c31493f52dba",
   "metadata": {},
   "source": [
    "#### Test TreeTagger"
   ]
  },
  {
   "cell_type": "markdown",
   "id": "2c42d795-7544-4727-958c-d49f1c0cc469",
   "metadata": {},
   "source": [
    "```\n",
    "eyamrog@Rog-ASUS:~$ echo 'Bom dia todo mundo!' | tree-tagger-portuguese2\n",
    "        reading parameters ...\n",
    "        tagging ...\n",
    "Bom     ADJ.Masc.Sing   bom\n",
    "dia     NOUN.Masc.Sing  dia\n",
    "todo    DET.Masc.Sing   todo\n",
    "mundo   NOUN.Masc.Sing  mundo\n",
    "!       PUNCT.Sent      !\n",
    "         finished.\n",
    "eyamrog@Rog-ASUS:~$ echo 'Hello world!' | tree-tagger-english\n",
    "        reading parameters ...\n",
    "        tagging ...\n",
    "         finished.\n",
    "Hello   UH      hello\n",
    "world   NN      world\n",
    "!       SENT    !\n",
    "eyamrog@Rog-ASUS:~$ \n",
    "```"
   ]
  },
  {
   "cell_type": "markdown",
   "id": "773a2f53-eebe-4408-8c77-5930d0c0014c",
   "metadata": {},
   "source": [
    "### `html2text` command"
   ]
  },
  {
   "cell_type": "markdown",
   "id": "601cfd98-6a8d-4ee3-91b5-82f0f7a263d4",
   "metadata": {},
   "source": [
    "```\n",
    "# Check and install 'html2text'\n",
    "eyamrog@Rog-ASUS:~$ html2text --help\n",
    "Command 'html2text' not found, but can be installed with:\n",
    "sudo apt install html2text\n",
    "eyamrog@Rog-ASUS:~$ sudo apt install html2text\n",
    "Reading package lists... Done\n",
    "Building dependency tree... Done\n",
    "Reading state information... Done\n",
    "debconf: (Dialog frontend requires a screen at least 13 lines tall and 31 columns wide.)\n",
    "debconf: falling back to frontend: Readline\n",
    "Selecting previously unselected package html2text.\n",
    "(Reading database ... 43061 files and directories currently installed.)\n",
    "Preparing to unpack .../html2text_1.3.2a-28_amd64.deb ...\n",
    "Unpacking html2text (1.3.2a-28) ...\n",
    "Setting up html2text (1.3.2a-28) ...\n",
    "Processing triggers for man-db (2.10.2-1) ...\n",
    "Processing triggers for mailcap (3.70+nmu1ubuntu1) ...\n",
    "eyamrog@Rog-ASUS:~$ \n",
    "```"
   ]
  },
  {
   "cell_type": "markdown",
   "id": "d7f2a192-3fd4-4345-b7f1-7312a0baaaf2",
   "metadata": {},
   "source": [
    "### `bc` command"
   ]
  },
  {
   "cell_type": "markdown",
   "id": "77788ed2-ceea-41f1-8a4f-fd74c69784d3",
   "metadata": {},
   "source": [
    "`bc`is a command-line calculator."
   ]
  },
  {
   "cell_type": "markdown",
   "id": "ebf460fa-0ab2-4b72-9c6c-f13b96d2d845",
   "metadata": {},
   "source": [
    "```\n",
    "# Check and install 'bc'\n",
    "eyamrog@Rog-ASUS:~$ bc --help\n",
    "Command 'bc' not found, but can be installed with:\n",
    "sudo apt install bc\n",
    "eyamrog@Rog-ASUS:~$ sudo apt install bc\n",
    "Reading package lists... Done\n",
    "Building dependency tree... Done\n",
    "Reading state information... Done\n",
    "debconf: (Dialog frontend requires a screen at least 13 lines tall and 31 columns wide.)\n",
    "debconf: falling back to frontend: Readline\n",
    "Selecting previously unselected package bc.\n",
    "(Reading database ... 43077 files and directories currently installed.)\n",
    "Preparing to unpack .../bc_1.07.1-3build1_amd64.deb ...\n",
    "Unpacking bc (1.07.1-3build1) ...\n",
    "Setting up bc (1.07.1-3build1) ...\n",
    "Processing triggers for install-info (6.8-4build1) ...\n",
    "Processing triggers for man-db (2.10.2-1) ...\n",
    "eyamrog@Rog-ASUS:~$ bc\n",
    "bc 1.07.1\n",
    "Copyright 1991-1994, 1997, 1998, 2000, 2004, 2006, 2008, 2012-2017 Free Software Foundation, Inc.\n",
    "This is free software with ABSOLUTELY NO WARRANTY.\n",
    "For details type `warranty'.\n",
    "12 + 5\n",
    "17\n",
    "5 * 20\n",
    "100\n",
    "quit\n",
    "eyamrog@Rog-ASUS:~$\n",
    "```"
   ]
  },
  {
   "cell_type": "markdown",
   "id": "ab573de8-fa4c-4364-a36c-b3f187675cfc",
   "metadata": {},
   "source": [
    "## Setting up a Python virtual environment over Ubuntu over Windows"
   ]
  },
  {
   "cell_type": "markdown",
   "id": "e99bede6-0cf9-4614-81ad-f362f38f56dd",
   "metadata": {},
   "source": [
    "- Follow the procedures on [How To Install Python 3 and Set Up a Programming Environment on Ubuntu 20.04 [Quickstart]](https://www.digitalocean.com/community/tutorials/how-to-install-python-3-and-set-up-a-programming-environment-on-ubuntu-20-04-quickstart), summarised as follows:"
   ]
  },
  {
   "cell_type": "markdown",
   "id": "a734995f-9f68-4678-9ade-ee41d5402175",
   "metadata": {},
   "source": [
    "```\n",
    "eyamrog@Rog-ASUS:~$ python3 -V\n",
    "eyamrog@Rog-ASUS:~$ sudo apt install -y python3-pip\n",
    "eyamrog@Rog-ASUS:~$ sudo apt install -y python3-venv\n",
    "eyamrog@Rog-ASUS:~$ \n",
    "```"
   ]
  },
  {
   "cell_type": "markdown",
   "id": "725fe211-36f6-4d2a-9028-86ebd47f5d56",
   "metadata": {},
   "source": [
    "Python benefits from a rich set of modules that streamlines the development of solutions. Depending on the way the modules are packaged, their installation can create software dependencies among them that can lead to inconsistencies if not carefully managed. Thus, it is highly recommended that distinct development projects are hosted in distinct virtual environments in order to prevent dependencies on one virtual environment from affecting dependencies on another virtual environment. Virtual environments can be created with [venv](https://docs.python.org/3/library/venv.html). The following line describes the creation of the virtual environment `my_env` but virtual environments can be named as appropriate."
   ]
  },
  {
   "cell_type": "markdown",
   "id": "69783caa-b351-4282-a056-9c256944a994",
   "metadata": {},
   "source": [
    "```\n",
    "eyamrog@Rog-ASUS:~$ python3 -m venv my_env\n",
    "eyamrog@Rog-ASUS:~$ \n",
    "```"
   ]
  },
  {
   "cell_type": "markdown",
   "id": "66ad5e07-897d-4fdb-a1d6-c6aebbd42e8b",
   "metadata": {},
   "source": [
    "```\n",
    "eyamrog@Rog-ASUS:~$ ll\n",
    "total 44\n",
    "drwxr-x--- 6 eyamrog eyamrog 4096 Apr  6 10:00 ./\n",
    "drwxr-xr-x 3 root    root    4096 Mar 31 22:09 ../\n",
    "drwxr-xr-x 2 eyamrog eyamrog 4096 Mar 31 23:21 .aws/\n",
    "-rw------- 1 eyamrog eyamrog 2042 Apr 26 12:17 .bash_history\n",
    "-rw-r--r-- 1 eyamrog eyamrog  220 Mar 31 22:09 .bash_logout\n",
    "-rw-r--r-- 1 eyamrog eyamrog 3943 Apr  6 09:47 .bashrc\n",
    "drwx------ 2 eyamrog eyamrog 4096 Apr  6 10:01 .cache/\n",
    "-rw-r--r-- 1 eyamrog eyamrog    0 Apr 29 05:51 .motd_shown\n",
    "-rw-r--r-- 1 eyamrog eyamrog  807 Mar 31 22:09 .profile\n",
    "-rw-r--r-- 1 eyamrog eyamrog    0 Mar 31 22:15 .sudo_as_admin_successful\n",
    "-rw------- 1 eyamrog eyamrog 1203 Apr  6 10:00 .viminfo\n",
    "drwxr-xr-x 5 eyamrog eyamrog 4096 Apr  6 09:56 my_env/\n",
    "drwxr-xr-x 2 eyamrog eyamrog 4096 Apr 14 22:36 work/\n",
    "eyamrog@Rog-ASUS:~$ \n",
    "```"
   ]
  },
  {
   "cell_type": "markdown",
   "id": "2a4e0d53-3bcc-4470-baea-2b5776b18574",
   "metadata": {},
   "source": [
    "Prior to using the environment, it must be activated as follows. The command prompt will now be prefixed with the name of the environment."
   ]
  },
  {
   "cell_type": "markdown",
   "id": "91a823c2-8fc7-4855-891e-b2377e479471",
   "metadata": {},
   "source": [
    "```\n",
    "eyamrog@Rog-ASUS:~$ source \"$HOME\"/my_env/bin/activate\n",
    "(my_env) eyamrog@Rog-ASUS:~$ \n",
    "```"
   ]
  },
  {
   "cell_type": "markdown",
   "id": "fde6b6d9-6c5b-4af0-b6b2-21725fa6a0f0",
   "metadata": {},
   "source": [
    "After using the environment, it should be deactivated:"
   ]
  },
  {
   "cell_type": "markdown",
   "id": "d36e4872-827a-49a2-9350-29ab7ba1d135",
   "metadata": {},
   "source": [
    "```\n",
    "(my_env) eyamrog@Rog-ASUS:~$ deactivate\n",
    "eyamrog@Rog-ASUS:~$ \n",
    "```"
   ]
  },
  {
   "cell_type": "markdown",
   "id": "c62659ec-6f35-480d-b264-a5edb831b837",
   "metadata": {},
   "source": [
    "## Installing `pandas` and `nltk` over Python over Ubuntu over Windows"
   ]
  },
  {
   "cell_type": "markdown",
   "id": "9f52a3ea-c5cf-439b-b65e-668c0e80bff5",
   "metadata": {},
   "source": [
    "Please refer to:\n",
    "- [pandas](https://pandas.pydata.org/)\n",
    "- [nltk](https://www.nltk.org/)"
   ]
  },
  {
   "cell_type": "markdown",
   "id": "6f1b9fbf-1b03-41ac-a9c8-2eb29768e924",
   "metadata": {},
   "source": [
    "### Verify the Python packages that are installed in the environment"
   ]
  },
  {
   "cell_type": "markdown",
   "id": "786eb16d-9c4d-4fe2-adf6-8b241a3f6af5",
   "metadata": {},
   "source": [
    "```\n",
    "eyamrog@Rog-ASUS:~$ source \"$HOME\"/my_env/bin/activate\n",
    "(my_env) eyamrog@Rog-ASUS:~$ pip freeze\n",
    "(my_env) eyamrog@Rog-ASUS:~$ \n",
    "```"
   ]
  },
  {
   "cell_type": "markdown",
   "id": "9ada7ea8-cc56-497e-a3c9-3912d01643e7",
   "metadata": {},
   "source": [
    "### Installing `pandas`"
   ]
  },
  {
   "cell_type": "markdown",
   "id": "45ac9d0d-8150-41be-92f0-ea0fc221141f",
   "metadata": {},
   "source": [
    "```\n",
    "(my_env) eyamrog@Rog-ASUS:~$ pip install pandas\n",
    "Collecting pandas\n",
    "  Downloading pandas-2.2.2-cp310-cp310-manylinux_2_17_x86_64.manylinux2014_x86_64.whl (13.0 MB)\n",
    "     ━━━━━━━━━━━━━━━━━━━━━━━━━━━━━━━━━━━━━━━━ 13.0/13.0 MB 15.8 MB/s eta 0:00:00\n",
    "Collecting tzdata>=2022.7\n",
    "  Downloading tzdata-2024.1-py2.py3-none-any.whl (345 kB)\n",
    "     ━━━━━━━━━━━━━━━━━━━━━━━━━━━━━━━━━━━━━━━━ 345.4/345.4 KB 25.2 MB/s eta 0:00:00\n",
    "Collecting python-dateutil>=2.8.2\n",
    "  Downloading python_dateutil-2.9.0.post0-py2.py3-none-any.whl (229 kB)\n",
    "     ━━━━━━━━━━━━━━━━━━━━━━━━━━━━━━━━━━━━━━━━ 229.9/229.9 KB 17.1 MB/s eta 0:00:00\n",
    "Collecting numpy>=1.22.4\n",
    "  Downloading numpy-1.26.4-cp310-cp310-manylinux_2_17_x86_64.manylinux2014_x86_64.whl (18.2 MB)\n",
    "     ━━━━━━━━━━━━━━━━━━━━━━━━━━━━━━━━━━━━━━━━ 18.2/18.2 MB 19.9 MB/s eta 0:00:00\n",
    "Collecting pytz>=2020.1\n",
    "  Downloading pytz-2024.1-py2.py3-none-any.whl (505 kB)\n",
    "     ━━━━━━━━━━━━━━━━━━━━━━━━━━━━━━━━━━━━━━━━ 505.5/505.5 KB 21.3 MB/s eta 0:00:00\n",
    "Collecting six>=1.5\n",
    "  Downloading six-1.16.0-py2.py3-none-any.whl (11 kB)\n",
    "Installing collected packages: pytz, tzdata, six, numpy, python-dateutil, pandas\n",
    "Successfully installed numpy-1.26.4 pandas-2.2.2 python-dateutil-2.9.0.post0 pytz-2024.1 six-1.16.0 tzdata-2024.1\n",
    "(my_env) eyamrog@Rog-ASUS:~$ \n",
    "(my_env) eyamrog@Rog-ASUS:~$ pip freeze\n",
    "numpy==1.26.4\n",
    "pandas==2.2.2\n",
    "python-dateutil==2.9.0.post0\n",
    "pytz==2024.1\n",
    "six==1.16.0\n",
    "tzdata==2024.1\n",
    "(my_env) eyamrog@Rog-ASUS:~$ \n",
    "```"
   ]
  },
  {
   "cell_type": "markdown",
   "id": "ea6c26ec-8e59-43c3-a45a-d232c1993118",
   "metadata": {},
   "source": [
    "### Installing `nltk`"
   ]
  },
  {
   "cell_type": "markdown",
   "id": "c9d8f68e-7ace-4e05-9e95-ef2c64148078",
   "metadata": {},
   "source": [
    "```\n",
    "(my_env) eyamrog@Rog-ASUS:~$ pip install nltk\n",
    "Collecting nltk\n",
    "  Downloading nltk-3.8.1-py3-none-any.whl (1.5 MB)\n",
    "     ━━━━━━━━━━━━━━━━━━━━━━━━━━━━━━━━━━━━━━━━ 1.5/1.5 MB 4.5 MB/s eta 0:00:00\n",
    "Collecting click\n",
    "  Downloading click-8.1.7-py3-none-any.whl (97 kB)\n",
    "     ━━━━━━━━━━━━━━━━━━━━━━━━━━━━━━━━━━━━━━━━ 97.9/97.9 KB 10.9 MB/s eta 0:00:00\n",
    "Collecting joblib\n",
    "  Downloading joblib-1.4.0-py3-none-any.whl (301 kB)\n",
    "     ━━━━━━━━━━━━━━━━━━━━━━━━━━━━━━━━━━━━━━━━ 301.2/301.2 KB 5.2 MB/s eta 0:00:00\n",
    "Collecting regex>=2021.8.3\n",
    "  Downloading regex-2024.4.28-cp310-cp310-manylinux_2_17_x86_64.manylinux2014_x86_64.whl (774 kB)\n",
    "     ━━━━━━━━━━━━━━━━━━━━━━━━━━━━━━━━━━━━━━━━ 774.1/774.1 KB 8.8 MB/s eta 0:00:00\n",
    "Collecting tqdm\n",
    "  Downloading tqdm-4.66.2-py3-none-any.whl (78 kB)\n",
    "     ━━━━━━━━━━━━━━━━━━━━━━━━━━━━━━━━━━━━━━━━ 78.3/78.3 KB 11.1 MB/s eta 0:00:00\n",
    "Installing collected packages: tqdm, regex, joblib, click, nltk\n",
    "Successfully installed click-8.1.7 joblib-1.4.0 nltk-3.8.1 regex-2024.4.28 tqdm-4.66.2\n",
    "(my_env) eyamrog@Rog-ASUS:~$ \n",
    "(my_env) eyamrog@Rog-ASUS:~$ pip freeze\n",
    "click==8.1.7\n",
    "joblib==1.4.0\n",
    "nltk==3.8.1\n",
    "numpy==1.26.4\n",
    "pandas==2.2.2\n",
    "python-dateutil==2.9.0.post0\n",
    "pytz==2024.1\n",
    "regex==2024.4.28\n",
    "six==1.16.0\n",
    "tqdm==4.66.2\n",
    "tzdata==2024.1\n",
    "(my_env) eyamrog@Rog-ASUS:~$ \n",
    "```"
   ]
  },
  {
   "cell_type": "code",
   "execution_count": null,
   "id": "4e1aee85-6469-4ebf-8171-50f6677fb464",
   "metadata": {},
   "outputs": [],
   "source": []
  }
 ],
 "metadata": {
  "kernelspec": {
   "display_name": "Python 3 (ipykernel)",
   "language": "python",
   "name": "python3"
  },
  "language_info": {
   "codemirror_mode": {
    "name": "ipython",
    "version": 3
   },
   "file_extension": ".py",
   "mimetype": "text/x-python",
   "name": "python",
   "nbconvert_exporter": "python",
   "pygments_lexer": "ipython3",
   "version": "3.11.8"
  }
 },
 "nbformat": 4,
 "nbformat_minor": 5
}
