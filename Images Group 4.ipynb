{
 "cells": [
  {
   "cell_type": "markdown",
   "id": "810d9f10-ec19-4b09-8f90-e983e460b319",
   "metadata": {},
   "source": [
    "<center>\n",
    "<img src=\"http://corpuslg.org/lael_english/wp-content/uploads/2020/04/lael_50_years_narrow_white.png.400px_300dpi.png\" width=\"300\" alt=\"LAEL 50 years logo\">\n",
    "<h3>APPLIED LINGUISTICS GRADUATE PROGRAMME (LAEL)</h3>\n",
    "</center>\n",
    "<hr>"
   ]
  },
  {
   "cell_type": "markdown",
   "id": "888c2c96-2fc3-4a1a-995b-c388036a2a15",
   "metadata": {},
   "source": [
    "# Template"
   ]
  },
  {
   "cell_type": "markdown",
   "id": "7a9c2af7-9fc1-4f51-a4f5-2ed915b93039",
   "metadata": {},
   "source": [
    "## Dictionary template"
   ]
  },
  {
   "cell_type": "raw",
   "id": "a0c164b1-781a-4885-b5ea-8de50c94d81c",
   "metadata": {},
   "source": [
    "data = {'': [ '', '', '', ''],\n",
    "        '': [ '', '', '', ''],\n",
    "        '': [ '', '', '', ''],\n",
    "        '': [ '', '', '', '']}"
   ]
  },
  {
   "cell_type": "markdown",
   "id": "e4f28a2a-bdcb-44b4-ac86-0a6c95097097",
   "metadata": {},
   "source": [
    "## Numpy array template"
   ]
  },
  {
   "cell_type": "raw",
   "id": "9f0755d4-d7a9-41fe-8a19-52cc24cf391f",
   "metadata": {},
   "source": [
    "array_a = np.array([[, , , , , ],\n",
    "                    [, , , , , ],\n",
    "                    [, , , , , ],\n",
    "                    [, , , , , ],\n",
    "                    [, , , , , ],\n",
    "                    [, , , , , ]])"
   ]
  },
  {
   "cell_type": "code",
   "execution_count": null,
   "id": "1b4a8657-0245-4eaf-b11f-233891dc8849",
   "metadata": {},
   "outputs": [],
   "source": []
  }
 ],
 "metadata": {
  "kernelspec": {
   "display_name": "anaconda-panel-2023.05-py310",
   "language": "python",
   "name": "conda-env-anaconda-panel-2023.05-py310-py"
  },
  "language_info": {
   "codemirror_mode": {
    "name": "ipython",
    "version": 3
   },
   "file_extension": ".py",
   "mimetype": "text/x-python",
   "name": "python",
   "nbconvert_exporter": "python",
   "pygments_lexer": "ipython3",
   "version": "3.11.4"
  }
 },
 "nbformat": 4,
 "nbformat_minor": 5
}
